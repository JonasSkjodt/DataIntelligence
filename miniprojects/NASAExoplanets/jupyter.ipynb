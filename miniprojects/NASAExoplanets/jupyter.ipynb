{
 "cells": [
  {
   "cell_type": "code",
   "execution_count": 1,
   "id": "2b14ce11",
   "metadata": {},
   "outputs": [
    {
     "name": "stdout",
     "output_type": "stream",
     "text": [
      "<bound method NDFrame.head of                       name  distance  stellar_magnitude  planet_type  \\\n",
      "0     11 Comae Berenices b     304.0            4.72307    Gas Giant   \n",
      "1       11 Ursae Minoris b     409.0            5.01300    Gas Giant   \n",
      "2          14 Andromedae b     246.0            5.23133    Gas Giant   \n",
      "3            14 Herculis b      58.0            6.61935    Gas Giant   \n",
      "4             16 Cygni B b      69.0            6.21500    Gas Giant   \n",
      "...                    ...       ...                ...          ...   \n",
      "5245                XO-7 b     764.0           10.52100    Gas Giant   \n",
      "5246              YSES 2 b     357.0           10.88500    Gas Giant   \n",
      "5247             YZ Ceti b      12.0           12.07400  Terrestrial   \n",
      "5248             YZ Ceti c      12.0           12.07400  Super Earth   \n",
      "5249             YZ Ceti d      12.0           12.07400  Super Earth   \n",
      "\n",
      "      discovery_year  mass_multiplier mass_wrt  radius_multiplier radius_wrt  \\\n",
      "0               2007         19.40000  Jupiter              1.080    Jupiter   \n",
      "1               2009         14.74000  Jupiter              1.090    Jupiter   \n",
      "2               2008          4.80000  Jupiter              1.150    Jupiter   \n",
      "3               2002          8.13881  Jupiter              1.120    Jupiter   \n",
      "4               1996          1.78000  Jupiter              1.200    Jupiter   \n",
      "...              ...              ...      ...                ...        ...   \n",
      "5245            2019          0.70900  Jupiter              1.373    Jupiter   \n",
      "5246            2021          6.30000  Jupiter              1.140    Jupiter   \n",
      "5247            2017          0.70000    Earth              0.913      Earth   \n",
      "5248            2017          1.14000    Earth              1.050      Earth   \n",
      "5249            2017          1.09000    Earth              1.030      Earth   \n",
      "\n",
      "      orbital_radius  orbital_period  eccentricity detection_method  \n",
      "0           1.290000        0.892539          0.23  Radial Velocity  \n",
      "1           1.530000        1.400000          0.08  Radial Velocity  \n",
      "2           0.830000        0.508693          0.00  Radial Velocity  \n",
      "3           2.773069        4.800000          0.37  Radial Velocity  \n",
      "4           1.660000        2.200000          0.68  Radial Velocity  \n",
      "...              ...             ...           ...              ...  \n",
      "5245        0.044210        0.007940          0.04          Transit  \n",
      "5246      115.000000     1176.500000          0.00   Direct Imaging  \n",
      "5247        0.016340        0.005476          0.06  Radial Velocity  \n",
      "5248        0.021560        0.008487          0.00  Radial Velocity  \n",
      "5249        0.028510        0.012868          0.07  Radial Velocity  \n",
      "\n",
      "[5250 rows x 13 columns]>\n"
     ]
    }
   ],
   "source": [
    "import pandas as pd\n",
    "\n",
    "df = pd.read_csv('cleaned_5250.csv')\n",
    "\n",
    "print(df.head)"
   ]
  },
  {
   "cell_type": "markdown",
   "id": "754f4de0",
   "metadata": {},
   "source": [
    "text to explain"
   ]
  },
  {
   "cell_type": "code",
   "execution_count": null,
   "id": "e7f2fcb3",
   "metadata": {},
   "outputs": [],
   "source": []
  }
 ],
 "metadata": {
  "kernelspec": {
   "display_name": "Python 3",
   "language": "python",
   "name": "python3"
  },
  "language_info": {
   "codemirror_mode": {
    "name": "ipython",
    "version": 3
   },
   "file_extension": ".py",
   "mimetype": "text/x-python",
   "name": "python",
   "nbconvert_exporter": "python",
   "pygments_lexer": "ipython3",
   "version": "3.12.2"
  }
 },
 "nbformat": 4,
 "nbformat_minor": 5
}
