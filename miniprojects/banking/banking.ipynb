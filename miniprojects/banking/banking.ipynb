{
 "cells": [
  {
   "cell_type": "code",
   "execution_count": 4,
   "id": "d484e7e8",
   "metadata": {},
   "outputs": [],
   "source": [
    "import pandas as pd"
   ]
  },
  {
   "cell_type": "markdown",
   "id": "cb02e226",
   "metadata": {},
   "source": [
    "We start by importing pandas, a library to easier shape the data in the csv file."
   ]
  },
  {
   "cell_type": "code",
   "execution_count": 24,
   "id": "93c9d06b",
   "metadata": {},
   "outputs": [
    {
     "name": "stdout",
     "output_type": "stream",
     "text": [
      "       age           job marital-status  education default  balance housing  \\\n",
      "0       58    management        married   tertiary      no     2143     yes   \n",
      "1       44    technician         single  secondary      no       29     yes   \n",
      "2       33  entrepreneur        married  secondary      no        2     yes   \n",
      "3       47   blue-collar        married        NaN      no     1506     yes   \n",
      "4       33       unknown         single    unknown      no        1      no   \n",
      "...    ...           ...            ...        ...     ...      ...     ...   \n",
      "45206   51    technician        married   tertiary      no      825      no   \n",
      "45207   71       retired       divorced    primary      no     1729      no   \n",
      "45208   72       retired        married  secondary      no     5715      no   \n",
      "45209   57   blue-collar        married  secondary      no      668      no   \n",
      "45210   37  entrepreneur        married  secondary      no     2971      no   \n",
      "\n",
      "      loan    contact  day month  duration  campaign  days-since-last-contact  \\\n",
      "0       no    unknown    5   may       261         1                       -1   \n",
      "1       no    unknown    5   may       151         1                       -1   \n",
      "2      yes    unknown    5   may        76         1                       -1   \n",
      "3       no    unknown    5   may        92         1                       -1   \n",
      "4       no    unknown    5   may       198         1                       -1   \n",
      "...    ...        ...  ...   ...       ...       ...                      ...   \n",
      "45206   no   cellular   17   nov       977         3                       -1   \n",
      "45207   no   cellular   17   nov       456         2                       -1   \n",
      "45208   no   cellular   17   nov      1127         5                      184   \n",
      "45209   no  telephone   17   nov       508         4                       -1   \n",
      "45210   no   cellular   17   nov       361         2                      188   \n",
      "\n",
      "       previous previous-campaign-result marketing-result  \n",
      "0           NaN                  unknown          failure  \n",
      "1           0.0                  unknown          failure  \n",
      "2           0.0                  unknown          failure  \n",
      "3           0.0                  unknown          failure  \n",
      "4           0.0                  unknown          failure  \n",
      "...         ...                      ...              ...  \n",
      "45206       0.0                  unknown          success  \n",
      "45207       0.0                  unknown          success  \n",
      "45208       3.0                  success          success  \n",
      "45209       0.0                  unknown          failure  \n",
      "45210      11.0                    other          failure  \n",
      "\n",
      "[45211 rows x 17 columns]\n",
      "['age', 'job', 'marital-status', 'education', 'default', 'balance', 'housing', 'loan', 'contact', 'day', 'month', 'duration', 'campaign', 'days-since-last-contact', 'previous', 'previous-campaign-result', 'marketing-result']\n"
     ]
    }
   ],
   "source": [
    "df = pd.read_csv(\"../../dataExam/banking.csv\")\n",
    "print(df)\n",
    "\n",
    "print(df.columns.tolist())"
   ]
  },
  {
   "cell_type": "markdown",
   "id": "cdd8eb23",
   "metadata": {},
   "source": [
    "Printing the dataset gives an idea what the dataset contains and their column names."
   ]
  },
  {
   "cell_type": "code",
   "execution_count": 25,
   "id": "93819408",
   "metadata": {},
   "outputs": [
    {
     "name": "stdout",
     "output_type": "stream",
     "text": [
      "contact\n",
      "cellular     29285\n",
      "unknown      13020\n",
      "telephone     2906\n",
      "Name: count, dtype: int64\n",
      "previous\n",
      "0.0      35858\n",
      "1.0       2680\n",
      "2.0       2045\n",
      "3.0       1114\n",
      "4.0        697\n",
      "5.0        448\n",
      "6.0        266\n",
      "7.0        197\n",
      "8.0        126\n",
      "9.0         91\n",
      "10.0        65\n",
      "11.0        64\n",
      "12.0        42\n",
      "13.0        38\n",
      "15.0        19\n",
      "14.0        18\n",
      "17.0        14\n",
      "16.0        13\n",
      "19.0        11\n",
      "20.0         8\n",
      "23.0         7\n",
      "18.0         6\n",
      "22.0         5\n",
      "24.0         5\n",
      "21.0         4\n",
      "29.0         4\n",
      "27.0         4\n",
      "25.0         4\n",
      "30.0         3\n",
      "38.0         2\n",
      "37.0         2\n",
      "26.0         2\n",
      "28.0         2\n",
      "51.0         1\n",
      "275.0        1\n",
      "58.0         1\n",
      "32.0         1\n",
      "40.0         1\n",
      "55.0         1\n",
      "35.0         1\n",
      "41.0         1\n",
      "Name: count, dtype: int64\n",
      "previous-campaign-result\n",
      "unknown    36959\n",
      "failure     4901\n",
      "other       1840\n",
      "success     1511\n",
      "Name: count, dtype: int64\n",
      "marketing-result\n",
      "failure    39922\n",
      "success     5289\n",
      "Name: count, dtype: int64\n"
     ]
    }
   ],
   "source": [
    "count = df['contact'].value_counts()\n",
    "print(count)\n",
    "\n",
    "count2 = df['previous'].value_counts()\n",
    "print(count2)\n",
    "\n",
    "count3 = df['previous-campaign-result'].value_counts()\n",
    "print(count3)\n",
    "\n",
    "count4 = df['marketing-result'].value_counts()\n",
    "print(count4)\n",
    "\n"
   ]
  },
  {
   "cell_type": "markdown",
   "id": "9a8e4ca0",
   "metadata": {},
   "source": [
    "These four columns looks different than the other columns at a glance. At this point \"previous\" seems odd, as it's hard to determine what it corrolates with or what it refers to."
   ]
  },
  {
   "cell_type": "code",
   "execution_count": 22,
   "id": "8141e22c",
   "metadata": {},
   "outputs": [
    {
     "name": "stdout",
     "output_type": "stream",
     "text": [
      "marketing-result  failure  success\n",
      "previous                          \n",
      "0.0               32570.0   3288.0\n",
      "1.0                2120.0    560.0\n",
      "2.0                1599.0    446.0\n",
      "3.0                 824.0    290.0\n",
      "4.0                 530.0    167.0\n",
      "5.0                 330.0    118.0\n",
      "6.0                 187.0     79.0\n",
      "7.0                 144.0     53.0\n",
      "8.0                  87.0     39.0\n",
      "9.0                  67.0     24.0\n",
      "10.0                 39.0     26.0\n",
      "11.0                 50.0     14.0\n",
      "12.0                 32.0     10.0\n",
      "13.0                 29.0      9.0\n",
      "14.0                 14.0      4.0\n",
      "15.0                 18.0      1.0\n",
      "16.0                 13.0      0.0\n",
      "17.0                 11.0      3.0\n",
      "18.0                  6.0      0.0\n",
      "19.0                  9.0      2.0\n",
      "20.0                  7.0      1.0\n",
      "21.0                  3.0      1.0\n",
      "22.0                  4.0      1.0\n",
      "23.0                  6.0      1.0\n",
      "24.0                  5.0      0.0\n",
      "25.0                  4.0      0.0\n",
      "26.0                  1.0      1.0\n",
      "27.0                  4.0      0.0\n",
      "28.0                  2.0      0.0\n",
      "29.0                  3.0      1.0\n",
      "30.0                  2.0      1.0\n",
      "32.0                  1.0      0.0\n",
      "35.0                  1.0      0.0\n",
      "37.0                  2.0      0.0\n",
      "38.0                  2.0      0.0\n",
      "40.0                  1.0      0.0\n",
      "41.0                  1.0      0.0\n",
      "51.0                  1.0      0.0\n",
      "55.0                  0.0      1.0\n",
      "58.0                  0.0      1.0\n",
      "275.0                 1.0      0.0\n"
     ]
    }
   ],
   "source": [
    "\n",
    "print(df.groupby(['previous', 'marketing-result']).size().unstack(fill_value=0.0))"
   ]
  },
  {
   "cell_type": "markdown",
   "id": "a4a8830a",
   "metadata": {},
   "source": [
    "It seems like the column \"previous\" could be corrolating with the column \"marketing_results\". There seems to be a bigger success rate if the \"previous\" is between 3-10. This could perhaps indicate \"previous\" is the amount of times a client was contacted before they successfully accepted the banks (marketing) offer. Let's rename the column to a more nuanced name which reflects what it is better. We also filled the missing NaN values with 0.0, since probably, no combination probably existed for the combinations."
   ]
  },
  {
   "cell_type": "code",
   "execution_count": 26,
   "id": "3dfaa535",
   "metadata": {},
   "outputs": [
    {
     "name": "stdout",
     "output_type": "stream",
     "text": [
      "['age', 'job', 'marital-status', 'education', 'default', 'balance', 'housing', 'loan', 'contact', 'day', 'month', 'duration', 'campaign', 'days-since-last-contact', 'previous-campaign', 'previous-campaign-result', 'marketing-result']\n"
     ]
    }
   ],
   "source": [
    "df = df.rename(columns={'previous': 'previous-campaign'})\n",
    "print(df.columns.tolist())"
   ]
  },
  {
   "cell_type": "code",
   "execution_count": null,
   "id": "fee8b2a5",
   "metadata": {},
   "outputs": [
    {
     "name": "stdout",
     "output_type": "stream",
     "text": [
      "Percentiles of 'previous-campaign':\n",
      "count    43872.000000\n",
      "mean         0.503373\n",
      "std          1.343048\n",
      "min          0.000000\n",
      "50%          0.000000\n",
      "90%          2.000000\n",
      "95%          3.000000\n",
      "99%          7.000000\n",
      "max          7.000000\n",
      "Name: previous-campaign, dtype: float64\n"
     ]
    },
    {
     "data": {
      "image/png": "[encoded data removed]",
      "text/plain": [
       "<Figure size 1000x400 with 1 Axes>"
      ]
     },
     "metadata": {},
     "output_type": "display_data"
    }
   ],
   "source": [
    "import seaborn as sns\n",
    "import matplotlib.pyplot as plt\n",
    "\n",
    "print(\"Percentiles of 'previous-campaign':\")\n",
    "print(df['previous-campaign'].describe(percentiles=[0.5, 0.9, 0.95, 0.99]))\n",
    "\n",
    "df['previous-campaign'] = df['previous-campaign'].clip(upper=7)\n",
    "\n",
    "plt.figure(figsize=(10, 4))\n",
    "sns.boxplot(x=df['previous-campaign'], color='skyblue')\n",
    "plt.title('Boxplot of Previous Campaign Counts (Outlier Detection)')\n",
    "plt.xlabel('Number of Previous Campaigns')\n",
    "plt.show()"
   ]
  },
  {
   "cell_type": "markdown",
   "id": "c22b48af",
   "metadata": {},
   "source": [
    "Previous-campaigns had some outliers, we clean it up by capping the value at 7 since 99% (as seen in the print statement) of the values are equal to or lower than 7."
   ]
  },
  {
   "cell_type": "code",
   "execution_count": 48,
   "id": "0ca0bd94",
   "metadata": {},
   "outputs": [
    {
     "name": "stdout",
     "output_type": "stream",
     "text": [
      "marketing-result           failure   success\n",
      "previous-campaign-result                    \n",
      "failure                   0.873903  0.126097\n",
      "other                     0.833152  0.166848\n",
      "success                   0.352747  0.647253\n",
      "unknown                   0.908385  0.091615 \n",
      " \n",
      "\n",
      "marketing-result                             failure   success\n",
      "previous-campaign previous-campaign-result                    \n",
      "0.0               unknown                   0.908305  0.091695\n",
      "1.0               failure                   0.889429  0.110571\n",
      "                  other                     0.846690  0.153310\n",
      "                  success                   0.370370  0.629630\n",
      "2.0               failure                   0.877458  0.122542\n",
      "                  other                     0.828042  0.171958\n",
      "                  success                   0.364431  0.635569\n",
      "                  unknown                   0.500000  0.500000\n",
      "3.0               failure                   0.848910  0.151090\n",
      "                  other                     0.830435  0.169565\n",
      "                  success                   0.363636  0.636364\n",
      "4.0               failure                   0.881013  0.118987\n",
      "                  other                     0.832298  0.167702\n",
      "                  success                   0.340426  0.659574\n",
      "5.0               failure                   0.854902  0.145098\n",
      "                  other                     0.819048  0.180952\n",
      "                  success                   0.287356  0.712644\n",
      "6.0               failure                   0.866197  0.133803\n",
      "                  other                     0.750000  0.250000\n",
      "                  success                   0.296875  0.703125\n",
      "7.0               failure                   0.822917  0.177083\n",
      "                  other                     0.807018  0.192982\n",
      "                  success                   0.418605  0.581395\n",
      "8.0               failure                   0.784314  0.215686\n",
      "                  other                     0.847826  0.152174\n",
      "                  success                   0.275862  0.724138\n",
      "9.0               failure                   0.854167  0.145833\n",
      "                  other                     0.851852  0.148148\n",
      "                  success                   0.187500  0.812500\n",
      "10.0              failure                   0.777778  0.222222\n",
      "                  other                     0.736842  0.263158\n",
      "                  success                   0.210526  0.789474\n",
      "11.0              failure                   0.884615  0.115385\n",
      "                  other                     0.846154  0.153846\n",
      "                  success                   0.416667  0.583333\n",
      "12.0              failure                   0.761905  0.238095\n",
      "                  other                     0.882353  0.117647\n",
      "                  success                   0.250000  0.750000\n",
      "13.0              failure                   0.812500  0.187500\n",
      "                  other                     0.812500  0.187500\n",
      "                  success                   0.500000  0.500000\n",
      "14.0              other                     0.857143  0.142857\n",
      "                  success                   0.250000  0.750000\n",
      "15.0              failure                   0.875000  0.125000\n",
      "17.0              failure                   0.833333  0.166667\n",
      "                  other                     0.750000  0.250000\n",
      "19.0              other                     0.500000  0.500000\n",
      "20.0              failure                   0.666667  0.333333\n",
      "22.0              other                     0.666667  0.333333\n",
      "23.0              other                     0.800000  0.200000\n",
      "29.0              other                     0.500000  0.500000\n",
      "30.0              failure                   0.500000  0.500000\n"
     ]
    },
    {
     "name": "stderr",
     "output_type": "stream",
     "text": [
      "C:\\Users\\jonas\\AppData\\Local\\Temp\\ipykernel_28116\\1839473342.py:18: FutureWarning: \n",
      "\n",
      "Passing `palette` without assigning `hue` is deprecated and will be removed in v0.14.0. Assign the `x` variable to `hue` and set `legend=False` for the same effect.\n",
      "\n",
      "  sns.barplot(x=success_rates.index, y=success_rates.values, palette='viridis')\n"
     ]
    },
    {
     "data": {
      "image/png": "[encoded data removed]",
      "text/plain": [
       "<Figure size 1000x500 with 1 Axes>"
      ]
     },
     "metadata": {},
     "output_type": "display_data"
    }
   ],
   "source": [
    "results = df.groupby('previous-campaign-result')['marketing-result'].value_counts(normalize=True).unstack()\n",
    "print(results, \"\\n \\n\")\n",
    "\n",
    "results2 = df.groupby(['previous-campaign', 'previous-campaign-result'])['marketing-result'].value_counts(normalize=True).unstack()\n",
    "results3 = results2.dropna()\n",
    "print(results3)\n",
    "\n",
    "import seaborn as sns\n",
    "import matplotlib.pyplot as plt\n",
    "\n",
    "# calculate it\n",
    "success_rates = df.groupby('previous-campaign-result')['marketing-result'] \\\n",
    "                  .value_counts(normalize=True) \\\n",
    "                  .unstack()['success'] \\\n",
    "                  .sort_values(ascending=False)\n",
    "# show plit\n",
    "plt.figure(figsize=(10, 5))\n",
    "sns.barplot(x=success_rates.index, y=success_rates.values, palette='viridis')\n",
    "plt.title('Success Rate by Previous Campaign Result')\n",
    "plt.xlabel('Previous Campaign Result')\n",
    "plt.ylabel('Success Rate (%)')\n",
    "plt.ylim(0, 0.7)\n",
    "plt.show()"
   ]
  },
  {
   "cell_type": "markdown",
   "id": "cad7282b",
   "metadata": {},
   "source": [
    "When we group previous-campaign-result and marketing-result, we see how past (marketing) successes are more likely to convert again. Likewise, those who were marketing campaigned towards who failed have a low success rate. This shows how the specific clients who are already susceptible to the campaigns respond well to the marketing again.\n",
    "\n",
    "The success of the clients responding well (if prior marketing campaigns were successfull on them) is more noticable when we group \"previous-campaign\", \"previous-campaign-result\" and \"marketing-result\".\n",
    "\n",
    "Overall the data indicates that even just 1 prior campaign improves the outcome of a success.\n",
    "\n",
    "(Note: how old are these people who like the marketing, are they retired? whats going on with these people who like marketing better if they were campaigned towards successfully already.)"
   ]
  },
  {
   "cell_type": "code",
   "execution_count": null,
   "id": "6418a6f3",
   "metadata": {},
   "outputs": [],
   "source": []
  }
 ],
 "metadata": {
  "kernelspec": {
   "display_name": "Python 3",
   "language": "python",
   "name": "python3"
  },
  "language_info": {
   "codemirror_mode": {
    "name": "ipython",
    "version": 3
   },
   "file_extension": ".py",
   "mimetype": "text/x-python",
   "name": "python",
   "nbconvert_exporter": "python",
   "pygments_lexer": "ipython3",
   "version": "3.12.2"
  }
 },
 "nbformat": 4,
 "nbformat_minor": 5
}
