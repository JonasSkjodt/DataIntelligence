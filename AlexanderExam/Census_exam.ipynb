{
 "cells": [
  {
   "cell_type": "markdown",
   "id": "771d0c66",
   "metadata": {},
   "source": [
    "# Data Intelligence Exam\n",
    "\n",
    "Alexander lolk | lolk@itu.dk | Date: 28-05-2026  \n",
    "\n",
    "## Introduction\n",
    "\n",
    "In this exam I will focus on the census-1994.csv dataset. The data is made up of demographic information of us citizens. \\\n",
    "First I will explore the data for any interesting data and errors. After that I will form some question to further analysis the data and then relate with some real life data and information. There will be some restructuring of the data and fixing of some weird issue with the values in them. Lastly I will conclude on the finding of data and the questions related to them.\n",
    "\n",
    "\n",
    "## Loading and overview\n",
    "\n",
    "First, lets install some libraries that is needed for later use."
   ]
  },
  {
   "cell_type": "code",
   "execution_count": 2,
   "id": "b49196a8",
   "metadata": {},
   "outputs": [
    {
     "name": "stdout",
     "output_type": "stream",
     "text": [
      "Collecting pandas\n",
      "  Downloading pandas-2.2.3-cp311-cp311-win_amd64.whl.metadata (19 kB)\n",
      "Collecting numpy>=1.23.2 (from pandas)\n",
      "  Downloading numpy-2.2.6-cp311-cp311-win_amd64.whl.metadata (60 kB)\n",
      "     ---------------------------------------- 0.0/60.8 kB ? eta -:--:--\n",
      "     ------------------- ------------------ 30.7/60.8 kB 660.6 kB/s eta 0:00:01\n",
      "     ---------------------------------------- 60.8/60.8 kB 1.1 MB/s eta 0:00:00\n",
      "Requirement already satisfied: python-dateutil>=2.8.2 in c:\\users\\alexander\\appdata\\local\\packages\\pythonsoftwarefoundation.python.3.11_qbz5n2kfra8p0\\localcache\\local-packages\\python311\\site-packages (from pandas) (2.9.0.post0)\n",
      "Collecting pytz>=2020.1 (from pandas)\n",
      "  Downloading pytz-2025.2-py2.py3-none-any.whl.metadata (22 kB)\n",
      "Collecting tzdata>=2022.7 (from pandas)\n",
      "  Downloading tzdata-2025.2-py2.py3-none-any.whl.metadata (1.4 kB)\n",
      "Requirement already satisfied: six>=1.5 in c:\\users\\alexander\\appdata\\local\\packages\\pythonsoftwarefoundation.python.3.11_qbz5n2kfra8p0\\localcache\\local-packages\\python311\\site-packages (from python-dateutil>=2.8.2->pandas) (1.17.0)\n",
      "Downloading pandas-2.2.3-cp311-cp311-win_amd64.whl (11.6 MB)\n",
      "   ---------------------------------------- 0.0/11.6 MB ? eta -:--:--\n",
      "   - -------------------------------------- 0.5/11.6 MB 14.9 MB/s eta 0:00:01\n",
      "   ----- ---------------------------------- 1.6/11.6 MB 20.3 MB/s eta 0:00:01\n",
      "   ---------- ----------------------------- 3.2/11.6 MB 25.4 MB/s eta 0:00:01\n",
      "   ----------------- ---------------------- 5.2/11.6 MB 30.4 MB/s eta 0:00:01\n",
      "   ----------------------- ---------------- 6.9/11.6 MB 31.4 MB/s eta 0:00:01\n",
      "   ------------------------------ --------- 8.8/11.6 MB 33.2 MB/s eta 0:00:01\n",
      "   ------------------------------------ --- 10.7/11.6 MB 36.4 MB/s eta 0:00:01\n",
      "   ---------------------------------------  11.6/11.6 MB 38.6 MB/s eta 0:00:01\n",
      "   ---------------------------------------- 11.6/11.6 MB 34.4 MB/s eta 0:00:00\n",
      "Downloading numpy-2.2.6-cp311-cp311-win_amd64.whl (12.9 MB)\n",
      "   ---------------------------------------- 0.0/12.9 MB ? eta -:--:--\n",
      "   ---- ----------------------------------- 1.6/12.9 MB 51.5 MB/s eta 0:00:01\n",
      "   ----------- ---------------------------- 3.6/12.9 MB 45.6 MB/s eta 0:00:01\n",
      "   ---------------- ----------------------- 5.4/12.9 MB 43.3 MB/s eta 0:00:01\n",
      "   ---------------------- ----------------- 7.2/12.9 MB 41.6 MB/s eta 0:00:01\n",
      "   ---------------------------- ----------- 9.1/12.9 MB 41.4 MB/s eta 0:00:01\n",
      "   --------------------------------- ------ 10.9/12.9 MB 40.9 MB/s eta 0:00:01\n",
      "   -------------------------------------- - 12.5/12.9 MB 38.5 MB/s eta 0:00:01\n",
      "   ---------------------------------------- 12.9/12.9 MB 34.4 MB/s eta 0:00:00\n",
      "Downloading pytz-2025.2-py2.py3-none-any.whl (509 kB)\n",
      "   ---------------------------------------- 0.0/509.2 kB ? eta -:--:--\n",
      "   ---------------------------------------- 509.2/509.2 kB ? eta 0:00:00\n",
      "Downloading tzdata-2025.2-py2.py3-none-any.whl (347 kB)\n",
      "   ---------------------------------------- 0.0/347.8 kB ? eta -:--:--\n",
      "   --------------------------------------- 347.8/347.8 kB 22.5 MB/s eta 0:00:00\n",
      "Installing collected packages: pytz, tzdata, numpy, pandas\n",
      "Successfully installed numpy-2.2.6 pandas-2.2.3 pytz-2025.2 tzdata-2025.2\n",
      "Note: you may need to restart the kernel to use updated packages.\n"
     ]
    },
    {
     "name": "stderr",
     "output_type": "stream",
     "text": [
      "\n",
      "[notice] A new release of pip is available: 24.0 -> 25.1.1\n",
      "[notice] To update, run: C:\\Users\\Alexander\\AppData\\Local\\Microsoft\\WindowsApps\\PythonSoftwareFoundation.Python.3.11_qbz5n2kfra8p0\\python.exe -m pip install --upgrade pip\n"
     ]
    },
    {
     "name": "stdout",
     "output_type": "stream",
     "text": [
      "Collecting matplotlib\n",
      "  Downloading matplotlib-3.10.3-cp311-cp311-win_amd64.whl.metadata (11 kB)\n",
      "Collecting contourpy>=1.0.1 (from matplotlib)\n",
      "  Downloading contourpy-1.3.2-cp311-cp311-win_amd64.whl.metadata (5.5 kB)\n",
      "Collecting cycler>=0.10 (from matplotlib)\n",
      "  Downloading cycler-0.12.1-py3-none-any.whl.metadata (3.8 kB)\n",
      "Collecting fonttools>=4.22.0 (from matplotlib)\n",
      "  Downloading fonttools-4.58.0-cp311-cp311-win_amd64.whl.metadata (106 kB)\n",
      "     ---------------------------------------- 0.0/106.6 kB ? eta -:--:--\n",
      "     ----------- --------------------------- 30.7/106.6 kB 1.4 MB/s eta 0:00:01\n",
      "     -------------------------------------- 106.6/106.6 kB 2.0 MB/s eta 0:00:00\n",
      "Collecting kiwisolver>=1.3.1 (from matplotlib)\n",
      "  Downloading kiwisolver-1.4.8-cp311-cp311-win_amd64.whl.metadata (6.3 kB)\n",
      "Requirement already satisfied: numpy>=1.23 in c:\\users\\alexander\\appdata\\local\\packages\\pythonsoftwarefoundation.python.3.11_qbz5n2kfra8p0\\localcache\\local-packages\\python311\\site-packages (from matplotlib) (2.2.6)\n",
      "Requirement already satisfied: packaging>=20.0 in c:\\users\\alexander\\appdata\\local\\packages\\pythonsoftwarefoundation.python.3.11_qbz5n2kfra8p0\\localcache\\local-packages\\python311\\site-packages (from matplotlib) (25.0)\n",
      "Collecting pillow>=8 (from matplotlib)\n",
      "  Downloading pillow-11.2.1-cp311-cp311-win_amd64.whl.metadata (9.1 kB)\n",
      "Collecting pyparsing>=2.3.1 (from matplotlib)\n",
      "  Downloading pyparsing-3.2.3-py3-none-any.whl.metadata (5.0 kB)\n",
      "Requirement already satisfied: python-dateutil>=2.7 in c:\\users\\alexander\\appdata\\local\\packages\\pythonsoftwarefoundation.python.3.11_qbz5n2kfra8p0\\localcache\\local-packages\\python311\\site-packages (from matplotlib) (2.9.0.post0)\n",
      "Requirement already satisfied: six>=1.5 in c:\\users\\alexander\\appdata\\local\\packages\\pythonsoftwarefoundation.python.3.11_qbz5n2kfra8p0\\localcache\\local-packages\\python311\\site-packages (from python-dateutil>=2.7->matplotlib) (1.17.0)\n",
      "Downloading matplotlib-3.10.3-cp311-cp311-win_amd64.whl (8.1 MB)\n",
      "   ---------------------------------------- 0.0/8.1 MB ? eta -:--:--\n",
      "   -- ------------------------------------- 0.6/8.1 MB 19.2 MB/s eta 0:00:01\n",
      "   -------- ------------------------------- 1.6/8.1 MB 20.7 MB/s eta 0:00:01\n",
      "   ---------------- ----------------------- 3.3/8.1 MB 26.0 MB/s eta 0:00:01\n",
      "   ------------------------- -------------- 5.1/8.1 MB 29.8 MB/s eta 0:00:01\n",
      "   ---------------------------------- ----- 7.0/8.1 MB 32.1 MB/s eta 0:00:01\n",
      "   ---------------------------------------  8.1/8.1 MB 32.2 MB/s eta 0:00:01\n",
      "   ---------------------------------------  8.1/8.1 MB 32.2 MB/s eta 0:00:01\n",
      "   ---------------------------------------- 8.1/8.1 MB 24.6 MB/s eta 0:00:00\n",
      "Downloading contourpy-1.3.2-cp311-cp311-win_amd64.whl (222 kB)\n",
      "   ---------------------------------------- 0.0/222.0 kB ? eta -:--:--\n",
      "   ---------------------------------------- 222.0/222.0 kB ? eta 0:00:00\n",
      "Downloading cycler-0.12.1-py3-none-any.whl (8.3 kB)\n",
      "Downloading fonttools-4.58.0-cp311-cp311-win_amd64.whl (2.2 MB)\n",
      "   ---------------------------------------- 0.0/2.2 MB ? eta -:--:--\n",
      "   --------------------------------- ------ 1.9/2.2 MB 39.2 MB/s eta 0:00:01\n",
      "   ---------------------------------------- 2.2/2.2 MB 28.5 MB/s eta 0:00:00\n",
      "Downloading kiwisolver-1.4.8-cp311-cp311-win_amd64.whl (71 kB)\n",
      "   ---------------------------------------- 0.0/72.0 kB ? eta -:--:--\n",
      "   ---------------------------------------- 72.0/72.0 kB ? eta 0:00:00\n",
      "Downloading pillow-11.2.1-cp311-cp311-win_amd64.whl (2.7 MB)\n",
      "   ---------------------------------------- 0.0/2.7 MB ? eta -:--:--\n",
      "   ------------------------------ --------- 2.0/2.7 MB 42.9 MB/s eta 0:00:01\n",
      "   ---------------------------------------- 2.7/2.7 MB 28.4 MB/s eta 0:00:00\n",
      "Downloading pyparsing-3.2.3-py3-none-any.whl (111 kB)\n",
      "   ---------------------------------------- 0.0/111.1 kB ? eta -:--:--\n",
      "   ---------------------------------------- 111.1/111.1 kB 6.3 MB/s eta 0:00:00\n",
      "Installing collected packages: pyparsing, pillow, kiwisolver, fonttools, cycler, contourpy, matplotlib\n",
      "Successfully installed contourpy-1.3.2 cycler-0.12.1 fonttools-4.58.0 kiwisolver-1.4.8 matplotlib-3.10.3 pillow-11.2.1 pyparsing-3.2.3\n",
      "Note: you may need to restart the kernel to use updated packages.\n"
     ]
    },
    {
     "name": "stderr",
     "output_type": "stream",
     "text": [
      "\n",
      "[notice] A new release of pip is available: 24.0 -> 25.1.1\n",
      "[notice] To update, run: C:\\Users\\Alexander\\AppData\\Local\\Microsoft\\WindowsApps\\PythonSoftwareFoundation.Python.3.11_qbz5n2kfra8p0\\python.exe -m pip install --upgrade pip\n"
     ]
    },
    {
     "name": "stdout",
     "output_type": "stream",
     "text": [
      "Collecting seaborn\n",
      "  Downloading seaborn-0.13.2-py3-none-any.whl.metadata (5.4 kB)\n",
      "Requirement already satisfied: numpy!=1.24.0,>=1.20 in c:\\users\\alexander\\appdata\\local\\packages\\pythonsoftwarefoundation.python.3.11_qbz5n2kfra8p0\\localcache\\local-packages\\python311\\site-packages (from seaborn) (2.2.6)\n",
      "Requirement already satisfied: pandas>=1.2 in c:\\users\\alexander\\appdata\\local\\packages\\pythonsoftwarefoundation.python.3.11_qbz5n2kfra8p0\\localcache\\local-packages\\python311\\site-packages (from seaborn) (2.2.3)\n",
      "Requirement already satisfied: matplotlib!=3.6.1,>=3.4 in c:\\users\\alexander\\appdata\\local\\packages\\pythonsoftwarefoundation.python.3.11_qbz5n2kfra8p0\\localcache\\local-packages\\python311\\site-packages (from seaborn) (3.10.3)\n",
      "Requirement already satisfied: contourpy>=1.0.1 in c:\\users\\alexander\\appdata\\local\\packages\\pythonsoftwarefoundation.python.3.11_qbz5n2kfra8p0\\localcache\\local-packages\\python311\\site-packages (from matplotlib!=3.6.1,>=3.4->seaborn) (1.3.2)\n",
      "Requirement already satisfied: cycler>=0.10 in c:\\users\\alexander\\appdata\\local\\packages\\pythonsoftwarefoundation.python.3.11_qbz5n2kfra8p0\\localcache\\local-packages\\python311\\site-packages (from matplotlib!=3.6.1,>=3.4->seaborn) (0.12.1)\n",
      "Requirement already satisfied: fonttools>=4.22.0 in c:\\users\\alexander\\appdata\\local\\packages\\pythonsoftwarefoundation.python.3.11_qbz5n2kfra8p0\\localcache\\local-packages\\python311\\site-packages (from matplotlib!=3.6.1,>=3.4->seaborn) (4.58.0)\n",
      "Requirement already satisfied: kiwisolver>=1.3.1 in c:\\users\\alexander\\appdata\\local\\packages\\pythonsoftwarefoundation.python.3.11_qbz5n2kfra8p0\\localcache\\local-packages\\python311\\site-packages (from matplotlib!=3.6.1,>=3.4->seaborn) (1.4.8)\n",
      "Requirement already satisfied: packaging>=20.0 in c:\\users\\alexander\\appdata\\local\\packages\\pythonsoftwarefoundation.python.3.11_qbz5n2kfra8p0\\localcache\\local-packages\\python311\\site-packages (from matplotlib!=3.6.1,>=3.4->seaborn) (25.0)\n",
      "Requirement already satisfied: pillow>=8 in c:\\users\\alexander\\appdata\\local\\packages\\pythonsoftwarefoundation.python.3.11_qbz5n2kfra8p0\\localcache\\local-packages\\python311\\site-packages (from matplotlib!=3.6.1,>=3.4->seaborn) (11.2.1)\n",
      "Requirement already satisfied: pyparsing>=2.3.1 in c:\\users\\alexander\\appdata\\local\\packages\\pythonsoftwarefoundation.python.3.11_qbz5n2kfra8p0\\localcache\\local-packages\\python311\\site-packages (from matplotlib!=3.6.1,>=3.4->seaborn) (3.2.3)\n",
      "Requirement already satisfied: python-dateutil>=2.7 in c:\\users\\alexander\\appdata\\local\\packages\\pythonsoftwarefoundation.python.3.11_qbz5n2kfra8p0\\localcache\\local-packages\\python311\\site-packages (from matplotlib!=3.6.1,>=3.4->seaborn) (2.9.0.post0)\n",
      "Requirement already satisfied: pytz>=2020.1 in c:\\users\\alexander\\appdata\\local\\packages\\pythonsoftwarefoundation.python.3.11_qbz5n2kfra8p0\\localcache\\local-packages\\python311\\site-packages (from pandas>=1.2->seaborn) (2025.2)\n",
      "Requirement already satisfied: tzdata>=2022.7 in c:\\users\\alexander\\appdata\\local\\packages\\pythonsoftwarefoundation.python.3.11_qbz5n2kfra8p0\\localcache\\local-packages\\python311\\site-packages (from pandas>=1.2->seaborn) (2025.2)\n",
      "Requirement already satisfied: six>=1.5 in c:\\users\\alexander\\appdata\\local\\packages\\pythonsoftwarefoundation.python.3.11_qbz5n2kfra8p0\\localcache\\local-packages\\python311\\site-packages (from python-dateutil>=2.7->matplotlib!=3.6.1,>=3.4->seaborn) (1.17.0)\n",
      "Downloading seaborn-0.13.2-py3-none-any.whl (294 kB)\n",
      "   ---------------------------------------- 0.0/294.9 kB ? eta -:--:--\n",
      "   ---- ----------------------------------- 30.7/294.9 kB 1.4 MB/s eta 0:00:01\n",
      "   ------------------ --------------------- 133.1/294.9 kB 2.0 MB/s eta 0:00:01\n",
      "   ---------------------------------------- 294.9/294.9 kB 3.6 MB/s eta 0:00:00\n",
      "Installing collected packages: seaborn\n",
      "Successfully installed seaborn-0.13.2\n",
      "Note: you may need to restart the kernel to use updated packages.\n"
     ]
    },
    {
     "name": "stderr",
     "output_type": "stream",
     "text": [
      "\n",
      "[notice] A new release of pip is available: 24.0 -> 25.1.1\n",
      "[notice] To update, run: C:\\Users\\Alexander\\AppData\\Local\\Microsoft\\WindowsApps\\PythonSoftwareFoundation.Python.3.11_qbz5n2kfra8p0\\python.exe -m pip install --upgrade pip\n"
     ]
    },
    {
     "name": "stdout",
     "output_type": "stream",
     "text": [
      "Collecting scikit-learn\n",
      "  Downloading scikit_learn-1.6.1-cp311-cp311-win_amd64.whl.metadata (15 kB)\n",
      "Requirement already satisfied: numpy>=1.19.5 in c:\\users\\alexander\\appdata\\local\\packages\\pythonsoftwarefoundation.python.3.11_qbz5n2kfra8p0\\localcache\\local-packages\\python311\\site-packages (from scikit-learn) (2.2.6)\n",
      "Collecting scipy>=1.6.0 (from scikit-learn)\n",
      "  Downloading scipy-1.15.3-cp311-cp311-win_amd64.whl.metadata (60 kB)\n",
      "     ---------------------------------------- 0.0/60.8 kB ? eta -:--:--\n",
      "     ------------------------- ------------ 41.0/60.8 kB 991.0 kB/s eta 0:00:01\n",
      "     ---------------------------------------- 60.8/60.8 kB 1.6 MB/s eta 0:00:00\n",
      "Collecting joblib>=1.2.0 (from scikit-learn)\n",
      "  Downloading joblib-1.5.1-py3-none-any.whl.metadata (5.6 kB)\n",
      "Collecting threadpoolctl>=3.1.0 (from scikit-learn)\n",
      "  Downloading threadpoolctl-3.6.0-py3-none-any.whl.metadata (13 kB)\n",
      "Downloading scikit_learn-1.6.1-cp311-cp311-win_amd64.whl (11.1 MB)\n",
      "   ---------------------------------------- 0.0/11.1 MB ? eta -:--:--\n",
      "    --------------------------------------- 0.2/11.1 MB 5.0 MB/s eta 0:00:03\n",
      "   ---- ----------------------------------- 1.2/11.1 MB 15.3 MB/s eta 0:00:01\n",
      "   ---------- ----------------------------- 2.9/11.1 MB 22.9 MB/s eta 0:00:01\n",
      "   ----------------- ---------------------- 4.9/11.1 MB 28.3 MB/s eta 0:00:01\n",
      "   ------------------------ --------------- 6.9/11.1 MB 31.2 MB/s eta 0:00:01\n",
      "   ------------------------------- -------- 8.7/11.1 MB 32.6 MB/s eta 0:00:01\n",
      "   ------------------------------------- -- 10.4/11.1 MB 36.4 MB/s eta 0:00:01\n",
      "   ---------------------------------------  11.1/11.1 MB 36.4 MB/s eta 0:00:01\n",
      "   ---------------------------------------- 11.1/11.1 MB 34.6 MB/s eta 0:00:00\n",
      "Downloading joblib-1.5.1-py3-none-any.whl (307 kB)\n",
      "   ---------------------------------------- 0.0/307.7 kB ? eta -:--:--\n",
      "   ---------------------------------------- 307.7/307.7 kB ? eta 0:00:00\n",
      "Downloading scipy-1.15.3-cp311-cp311-win_amd64.whl (41.2 MB)\n",
      "   ---------------------------------------- 0.0/41.2 MB ? eta -:--:--\n",
      "   - -------------------------------------- 1.6/41.2 MB 52.2 MB/s eta 0:00:01\n",
      "   --- ------------------------------------ 3.6/41.2 MB 45.4 MB/s eta 0:00:01\n",
      "   ----- ---------------------------------- 5.4/41.2 MB 43.0 MB/s eta 0:00:01\n",
      "   ------ --------------------------------- 7.2/41.2 MB 41.8 MB/s eta 0:00:01\n",
      "   -------- ------------------------------- 9.2/41.2 MB 42.1 MB/s eta 0:00:01\n",
      "   ---------- ----------------------------- 11.2/41.2 MB 40.9 MB/s eta 0:00:01\n",
      "   ------------ --------------------------- 13.0/41.2 MB 40.9 MB/s eta 0:00:01\n",
      "   -------------- ------------------------- 14.8/41.2 MB 40.9 MB/s eta 0:00:01\n",
      "   ---------------- ----------------------- 16.8/41.2 MB 40.9 MB/s eta 0:00:01\n",
      "   ------------------ --------------------- 18.7/41.2 MB 40.9 MB/s eta 0:00:01\n",
      "   ------------------- -------------------- 20.5/41.2 MB 40.9 MB/s eta 0:00:01\n",
      "   --------------------- ------------------ 22.3/41.2 MB 40.9 MB/s eta 0:00:01\n",
      "   ----------------------- ---------------- 24.2/41.2 MB 40.9 MB/s eta 0:00:01\n",
      "   ------------------------- -------------- 26.0/41.2 MB 40.9 MB/s eta 0:00:01\n",
      "   --------------------------- ------------ 27.9/41.2 MB 40.9 MB/s eta 0:00:01\n",
      "   ---------------------------- ----------- 29.7/41.2 MB 40.9 MB/s eta 0:00:01\n",
      "   ------------------------------ --------- 31.4/41.2 MB 38.5 MB/s eta 0:00:01\n",
      "   -------------------------------- ------- 33.5/41.2 MB 38.5 MB/s eta 0:00:01\n",
      "   ---------------------------------- ----- 35.4/41.2 MB 40.9 MB/s eta 0:00:01\n",
      "   ------------------------------------ --- 37.3/41.2 MB 40.9 MB/s eta 0:00:01\n",
      "   -------------------------------------- - 39.2/41.2 MB 40.9 MB/s eta 0:00:01\n",
      "   ---------------------------------------  41.2/41.2 MB 40.9 MB/s eta 0:00:01\n",
      "   ---------------------------------------  41.2/41.2 MB 38.5 MB/s eta 0:00:01\n",
      "   ---------------------------------------  41.2/41.2 MB 38.5 MB/s eta 0:00:01\n",
      "   ---------------------------------------- 41.2/41.2 MB 27.3 MB/s eta 0:00:00\n",
      "Downloading threadpoolctl-3.6.0-py3-none-any.whl (18 kB)\n",
      "Installing collected packages: threadpoolctl, scipy, joblib, scikit-learn\n",
      "Successfully installed joblib-1.5.1 scikit-learn-1.6.1 scipy-1.15.3 threadpoolctl-3.6.0\n",
      "Note: you may need to restart the kernel to use updated packages.\n"
     ]
    },
    {
     "name": "stderr",
     "output_type": "stream",
     "text": [
      "\n",
      "[notice] A new release of pip is available: 24.0 -> 25.1.1\n",
      "[notice] To update, run: C:\\Users\\Alexander\\AppData\\Local\\Microsoft\\WindowsApps\\PythonSoftwareFoundation.Python.3.11_qbz5n2kfra8p0\\python.exe -m pip install --upgrade pip\n"
     ]
    }
   ],
   "source": [
    "%pip install -U pandas \n",
    "%pip install -U matplotlib \n",
    "%pip install -U seaborn \n",
    "%pip install -U scikit-learn"
   ]
  },
  {
   "cell_type": "markdown",
   "id": "042f8b98",
   "metadata": {},
   "source": [
    "So let's have a look at this dataset.\n",
    "We start with reading the census csv file and then print it out to look at."
   ]
  },
  {
   "cell_type": "code",
   "execution_count": 46,
   "id": "06c68077",
   "metadata": {},
   "outputs": [
    {
     "data": {
      "text/html": [
       "<div>\n",
       "<style scoped>\n",
       "    .dataframe tbody tr th:only-of-type {\n",
       "        vertical-align: middle;\n",
       "    }\n",
       "\n",
       "    .dataframe tbody tr th {\n",
       "        vertical-align: top;\n",
       "    }\n",
       "\n",
       "    .dataframe thead th {\n",
       "        text-align: right;\n",
       "    }\n",
       "</style>\n",
       "<table border=\"1\" class=\"dataframe\">\n",
       "  <thead>\n",
       "    <tr style=\"text-align: right;\">\n",
       "      <th></th>\n",
       "      <th>age</th>\n",
       "      <th>workclass</th>\n",
       "      <th>education</th>\n",
       "      <th>marital_status</th>\n",
       "      <th>occupation</th>\n",
       "      <th>relationship</th>\n",
       "      <th>race</th>\n",
       "      <th>gender</th>\n",
       "      <th>capital_gain</th>\n",
       "      <th>capital_loss</th>\n",
       "      <th>hours_per_week</th>\n",
       "      <th>native_country</th>\n",
       "      <th>income_bracket</th>\n",
       "    </tr>\n",
       "  </thead>\n",
       "  <tbody>\n",
       "    <tr>\n",
       "      <th>0</th>\n",
       "      <td>39</td>\n",
       "      <td>State-gov</td>\n",
       "      <td>Bachelors</td>\n",
       "      <td>Never-married</td>\n",
       "      <td>Adm-clerical</td>\n",
       "      <td>Not-in-family</td>\n",
       "      <td>White</td>\n",
       "      <td>Male</td>\n",
       "      <td>2174</td>\n",
       "      <td>0</td>\n",
       "      <td>40</td>\n",
       "      <td>United-States</td>\n",
       "      <td>&lt;=50K</td>\n",
       "    </tr>\n",
       "    <tr>\n",
       "      <th>1</th>\n",
       "      <td>50</td>\n",
       "      <td>Self-emp-not-inc</td>\n",
       "      <td>Bachelors</td>\n",
       "      <td>Married-civ-spouse</td>\n",
       "      <td>Exec-managerial</td>\n",
       "      <td>Husband</td>\n",
       "      <td>White</td>\n",
       "      <td>Male</td>\n",
       "      <td>0</td>\n",
       "      <td>0</td>\n",
       "      <td>13</td>\n",
       "      <td>United-States</td>\n",
       "      <td>&lt;=50K</td>\n",
       "    </tr>\n",
       "    <tr>\n",
       "      <th>2</th>\n",
       "      <td>38</td>\n",
       "      <td>Private</td>\n",
       "      <td>HS-grad</td>\n",
       "      <td>Divorced</td>\n",
       "      <td>Handlers-cleaners</td>\n",
       "      <td>Not-in-family</td>\n",
       "      <td>White</td>\n",
       "      <td>Male</td>\n",
       "      <td>0</td>\n",
       "      <td>0</td>\n",
       "      <td>40</td>\n",
       "      <td>United-States</td>\n",
       "      <td>&lt;=50K</td>\n",
       "    </tr>\n",
       "    <tr>\n",
       "      <th>3</th>\n",
       "      <td>53</td>\n",
       "      <td>Private</td>\n",
       "      <td>11th</td>\n",
       "      <td>Married-civ-spouse</td>\n",
       "      <td>Handlers-cleaners</td>\n",
       "      <td>Husband</td>\n",
       "      <td>Black</td>\n",
       "      <td>Male</td>\n",
       "      <td>0</td>\n",
       "      <td>0</td>\n",
       "      <td>40</td>\n",
       "      <td>United-States</td>\n",
       "      <td>&lt;=50K</td>\n",
       "    </tr>\n",
       "    <tr>\n",
       "      <th>4</th>\n",
       "      <td>28</td>\n",
       "      <td>Private</td>\n",
       "      <td>Bachelors</td>\n",
       "      <td>Married-civ-spouse</td>\n",
       "      <td>Prof-specialty</td>\n",
       "      <td>Wife</td>\n",
       "      <td>Black</td>\n",
       "      <td>Female</td>\n",
       "      <td>0</td>\n",
       "      <td>0</td>\n",
       "      <td>40</td>\n",
       "      <td>Cuba</td>\n",
       "      <td>&lt;=50K</td>\n",
       "    </tr>\n",
       "    <tr>\n",
       "      <th>...</th>\n",
       "      <td>...</td>\n",
       "      <td>...</td>\n",
       "      <td>...</td>\n",
       "      <td>...</td>\n",
       "      <td>...</td>\n",
       "      <td>...</td>\n",
       "      <td>...</td>\n",
       "      <td>...</td>\n",
       "      <td>...</td>\n",
       "      <td>...</td>\n",
       "      <td>...</td>\n",
       "      <td>...</td>\n",
       "      <td>...</td>\n",
       "    </tr>\n",
       "    <tr>\n",
       "      <th>32556</th>\n",
       "      <td>27</td>\n",
       "      <td>Private</td>\n",
       "      <td>Assoc-acdm</td>\n",
       "      <td>Married-civ-spouse</td>\n",
       "      <td>Tech-support</td>\n",
       "      <td>Wife</td>\n",
       "      <td>White</td>\n",
       "      <td>Female</td>\n",
       "      <td>0</td>\n",
       "      <td>0</td>\n",
       "      <td>38</td>\n",
       "      <td>United-States</td>\n",
       "      <td>&lt;=50K</td>\n",
       "    </tr>\n",
       "    <tr>\n",
       "      <th>32557</th>\n",
       "      <td>40</td>\n",
       "      <td>Private</td>\n",
       "      <td>HS-grad</td>\n",
       "      <td>Married-civ-spouse</td>\n",
       "      <td>Machine-op-inspct</td>\n",
       "      <td>Husband</td>\n",
       "      <td>White</td>\n",
       "      <td>Male</td>\n",
       "      <td>0</td>\n",
       "      <td>0</td>\n",
       "      <td>40</td>\n",
       "      <td>United-States</td>\n",
       "      <td>&gt;50K</td>\n",
       "    </tr>\n",
       "    <tr>\n",
       "      <th>32558</th>\n",
       "      <td>58</td>\n",
       "      <td>Private</td>\n",
       "      <td>HS-grad</td>\n",
       "      <td>Widowed</td>\n",
       "      <td>Adm-clerical</td>\n",
       "      <td>Unmarried</td>\n",
       "      <td>White</td>\n",
       "      <td>Female</td>\n",
       "      <td>0</td>\n",
       "      <td>0</td>\n",
       "      <td>40</td>\n",
       "      <td>United-States</td>\n",
       "      <td>&lt;=50K</td>\n",
       "    </tr>\n",
       "    <tr>\n",
       "      <th>32559</th>\n",
       "      <td>22</td>\n",
       "      <td>Private</td>\n",
       "      <td>HS-grad</td>\n",
       "      <td>Never-married</td>\n",
       "      <td>Adm-clerical</td>\n",
       "      <td>Own-child</td>\n",
       "      <td>White</td>\n",
       "      <td>Male</td>\n",
       "      <td>0</td>\n",
       "      <td>0</td>\n",
       "      <td>20</td>\n",
       "      <td>United-States</td>\n",
       "      <td>&lt;=50K</td>\n",
       "    </tr>\n",
       "    <tr>\n",
       "      <th>32560</th>\n",
       "      <td>52</td>\n",
       "      <td>Self-emp-inc</td>\n",
       "      <td>HS-grad</td>\n",
       "      <td>Married-civ-spouse</td>\n",
       "      <td>Exec-managerial</td>\n",
       "      <td>Wife</td>\n",
       "      <td>White</td>\n",
       "      <td>Female</td>\n",
       "      <td>15024</td>\n",
       "      <td>0</td>\n",
       "      <td>40</td>\n",
       "      <td>United-States</td>\n",
       "      <td>&gt;50K</td>\n",
       "    </tr>\n",
       "  </tbody>\n",
       "</table>\n",
       "<p>32561 rows × 13 columns</p>\n",
       "</div>"
      ],
      "text/plain": [
       "       age          workclass    education       marital_status  \\\n",
       "0       39          State-gov    Bachelors        Never-married   \n",
       "1       50   Self-emp-not-inc    Bachelors   Married-civ-spouse   \n",
       "2       38            Private      HS-grad             Divorced   \n",
       "3       53            Private         11th   Married-civ-spouse   \n",
       "4       28            Private    Bachelors   Married-civ-spouse   \n",
       "...    ...                ...          ...                  ...   \n",
       "32556   27            Private   Assoc-acdm   Married-civ-spouse   \n",
       "32557   40            Private      HS-grad   Married-civ-spouse   \n",
       "32558   58            Private      HS-grad              Widowed   \n",
       "32559   22            Private      HS-grad        Never-married   \n",
       "32560   52       Self-emp-inc      HS-grad   Married-civ-spouse   \n",
       "\n",
       "               occupation    relationship    race   gender  capital_gain  \\\n",
       "0            Adm-clerical   Not-in-family   White     Male          2174   \n",
       "1         Exec-managerial         Husband   White     Male             0   \n",
       "2       Handlers-cleaners   Not-in-family   White     Male             0   \n",
       "3       Handlers-cleaners         Husband   Black     Male             0   \n",
       "4          Prof-specialty            Wife   Black   Female             0   \n",
       "...                   ...             ...     ...      ...           ...   \n",
       "32556        Tech-support            Wife   White   Female             0   \n",
       "32557   Machine-op-inspct         Husband   White     Male             0   \n",
       "32558        Adm-clerical       Unmarried   White   Female             0   \n",
       "32559        Adm-clerical       Own-child   White     Male             0   \n",
       "32560     Exec-managerial            Wife   White   Female         15024   \n",
       "\n",
       "       capital_loss  hours_per_week  native_country income_bracket  \n",
       "0                 0              40   United-States          <=50K  \n",
       "1                 0              13   United-States          <=50K  \n",
       "2                 0              40   United-States          <=50K  \n",
       "3                 0              40   United-States          <=50K  \n",
       "4                 0              40            Cuba          <=50K  \n",
       "...             ...             ...             ...            ...  \n",
       "32556             0              38   United-States          <=50K  \n",
       "32557             0              40   United-States           >50K  \n",
       "32558             0              40   United-States          <=50K  \n",
       "32559             0              20   United-States          <=50K  \n",
       "32560             0              40   United-States           >50K  \n",
       "\n",
       "[32561 rows x 13 columns]"
      ]
     },
     "execution_count": 46,
     "metadata": {},
     "output_type": "execute_result"
    }
   ],
   "source": [
    "# import pandas libary for data handling\n",
    "import pandas as pd\n",
    "\n",
    "# read the csv and puts in a pandas dataframe\n",
    "df = pd.read_csv(\"census-1994.csv\")\n",
    "\n",
    "df"
   ]
  },
  {
   "cell_type": "markdown",
   "id": "8aa675ec",
   "metadata": {},
   "source": [
    "In this dataset, we see that it contains some general information about people and their living conditions. \\\n",
    "For now, there does not seem to be any sensitive data to keep an eye for. \n",
    "\n",
    "Let see how pandas handles this dataset. "
   ]
  },
  {
   "cell_type": "code",
   "execution_count": 47,
   "id": "4f94f54f",
   "metadata": {},
   "outputs": [
    {
     "name": "stdout",
     "output_type": "stream",
     "text": [
      "<class 'pandas.core.frame.DataFrame'>\n",
      "RangeIndex: 32561 entries, 0 to 32560\n",
      "Data columns (total 13 columns):\n",
      " #   Column          Non-Null Count  Dtype \n",
      "---  ------          --------------  ----- \n",
      " 0   age             32561 non-null  int64 \n",
      " 1   workclass       32561 non-null  object\n",
      " 2   education       32561 non-null  object\n",
      " 3   marital_status  32561 non-null  object\n",
      " 4   occupation      32561 non-null  object\n",
      " 5   relationship    32561 non-null  object\n",
      " 6   race            32561 non-null  object\n",
      " 7   gender          32561 non-null  object\n",
      " 8   capital_gain    32561 non-null  int64 \n",
      " 9   capital_loss    32561 non-null  int64 \n",
      " 10  hours_per_week  32561 non-null  int64 \n",
      " 11  native_country  32561 non-null  object\n",
      " 12  income_bracket  32561 non-null  object\n",
      "dtypes: int64(4), object(9)\n",
      "memory usage: 3.2+ MB\n"
     ]
    }
   ],
   "source": [
    "# show the column in the dataframe as well as their type.\n",
    "df.info()"
   ]
  },
  {
   "cell_type": "markdown",
   "id": "478618cf",
   "metadata": {},
   "source": [
    "Nothing too out of the ordinary, what could be numbers seem to be. \\\n",
    "For now the data looks to be in a fine state."
   ]
  },
  {
   "cell_type": "markdown",
   "id": "13c0c56c",
   "metadata": {},
   "source": [
    "# Exploration\n",
    "Now lets explore what is contained within these columns and rows. \n",
    "\n",
    "First order of business is to look that the column which was of the int64.\n",
    "For this we use summary statistics, so as to get an overview of the columns. "
   ]
  },
  {
   "cell_type": "code",
   "execution_count": 48,
   "id": "d760da03",
   "metadata": {},
   "outputs": [
    {
     "data": {
      "text/html": [
       "<div>\n",
       "<style scoped>\n",
       "    .dataframe tbody tr th:only-of-type {\n",
       "        vertical-align: middle;\n",
       "    }\n",
       "\n",
       "    .dataframe tbody tr th {\n",
       "        vertical-align: top;\n",
       "    }\n",
       "\n",
       "    .dataframe thead th {\n",
       "        text-align: right;\n",
       "    }\n",
       "</style>\n",
       "<table border=\"1\" class=\"dataframe\">\n",
       "  <thead>\n",
       "    <tr style=\"text-align: right;\">\n",
       "      <th></th>\n",
       "      <th>age</th>\n",
       "      <th>capital_gain</th>\n",
       "      <th>capital_loss</th>\n",
       "      <th>hours_per_week</th>\n",
       "    </tr>\n",
       "  </thead>\n",
       "  <tbody>\n",
       "    <tr>\n",
       "      <th>count</th>\n",
       "      <td>32561.000000</td>\n",
       "      <td>32561.000000</td>\n",
       "      <td>32561.000000</td>\n",
       "      <td>32561.000000</td>\n",
       "    </tr>\n",
       "    <tr>\n",
       "      <th>mean</th>\n",
       "      <td>38.581647</td>\n",
       "      <td>1077.648844</td>\n",
       "      <td>87.303830</td>\n",
       "      <td>40.437456</td>\n",
       "    </tr>\n",
       "    <tr>\n",
       "      <th>std</th>\n",
       "      <td>13.640433</td>\n",
       "      <td>7385.292085</td>\n",
       "      <td>402.960219</td>\n",
       "      <td>12.347429</td>\n",
       "    </tr>\n",
       "    <tr>\n",
       "      <th>min</th>\n",
       "      <td>17.000000</td>\n",
       "      <td>0.000000</td>\n",
       "      <td>0.000000</td>\n",
       "      <td>1.000000</td>\n",
       "    </tr>\n",
       "    <tr>\n",
       "      <th>25%</th>\n",
       "      <td>28.000000</td>\n",
       "      <td>0.000000</td>\n",
       "      <td>0.000000</td>\n",
       "      <td>40.000000</td>\n",
       "    </tr>\n",
       "    <tr>\n",
       "      <th>50%</th>\n",
       "      <td>37.000000</td>\n",
       "      <td>0.000000</td>\n",
       "      <td>0.000000</td>\n",
       "      <td>40.000000</td>\n",
       "    </tr>\n",
       "    <tr>\n",
       "      <th>75%</th>\n",
       "      <td>48.000000</td>\n",
       "      <td>0.000000</td>\n",
       "      <td>0.000000</td>\n",
       "      <td>45.000000</td>\n",
       "    </tr>\n",
       "    <tr>\n",
       "      <th>max</th>\n",
       "      <td>90.000000</td>\n",
       "      <td>99999.000000</td>\n",
       "      <td>4356.000000</td>\n",
       "      <td>99.000000</td>\n",
       "    </tr>\n",
       "  </tbody>\n",
       "</table>\n",
       "</div>"
      ],
      "text/plain": [
       "                age  capital_gain  capital_loss  hours_per_week\n",
       "count  32561.000000  32561.000000  32561.000000    32561.000000\n",
       "mean      38.581647   1077.648844     87.303830       40.437456\n",
       "std       13.640433   7385.292085    402.960219       12.347429\n",
       "min       17.000000      0.000000      0.000000        1.000000\n",
       "25%       28.000000      0.000000      0.000000       40.000000\n",
       "50%       37.000000      0.000000      0.000000       40.000000\n",
       "75%       48.000000      0.000000      0.000000       45.000000\n",
       "max       90.000000  99999.000000   4356.000000       99.000000"
      ]
     },
     "execution_count": 48,
     "metadata": {},
     "output_type": "execute_result"
    }
   ],
   "source": [
    "# gives descriptive statistics over all columns that is a type of number.\n",
    "df.describe()"
   ]
  },
  {
   "cell_type": "markdown",
   "id": "4ec240ce",
   "metadata": {},
   "source": [
    "So, when looking a that the \"count\" part, it is worth noting that it counts all the non-na there exist in the column. \\\n",
    "Given that the count is for the size that the dataset is of, we know that there isn't any worries with non-na in these columns.\n",
    "\n",
    "As for mean and std, For the columns capital_grain and loss, their standard deviation has a big spread compared to their mean. \\\n",
    "So it would seem with that, that there exist some big outliers.\n",
    "\n",
    "Let visualize it to better see."
   ]
  },
  {
   "cell_type": "code",
   "execution_count": 49,
   "id": "1cdbf4b6",
   "metadata": {},
   "outputs": [
    {
     "data": {
      "image/png": "[encoded data removed]",
      "text/plain": [
       "<Figure size 640x480 with 1 Axes>"
      ]
     },
     "metadata": {},
     "output_type": "display_data"
    }
   ],
   "source": [
    "# importing matplotlib to visualize data \n",
    "import matplotlib.pyplot as plt\n",
    "\n",
    "# gets all entries where capital_gain has a value greater or equal to 0\n",
    "# tmp_df = df[df[\"capital_gain\"] > 0]\n",
    "tmp_df = df[df[\"capital_gain\"] >= 0]\n",
    "\n",
    "# plots the dataframe using the column\n",
    "tmp_plt = pd.DataFrame(tmp_df, columns=[\"capital_gain\"])\n",
    "tmp_plt.boxplot(vert=False)\n",
    "plt.title('All capital gain entries')\n",
    "# plt.title('Capital gain with greater than 0')\n",
    "plt.show()"
   ]
  },
  {
   "cell_type": "markdown",
   "id": "c9003d8a",
   "metadata": {},
   "source": [
    "There is quite a few outliers on this. To better see and understand the graph, lets remove all that has 0 as a value."
   ]
  },
  {
   "attachments": {
    "image.png": {
     "image/png": "[encoded data removed]"
    }
   },
   "cell_type": "markdown",
   "id": "b8d8d93e",
   "metadata": {},
   "source": [
    "![image.png](attachment:image.png)"
   ]
  },
  {
   "cell_type": "markdown",
   "id": "87a5ee2e",
   "metadata": {},
   "source": [
    "For the min, 25%, 50%, 75% and max, here there appear to be also something wrong. \n",
    "We can see here that for two columns, capital_gain and loss, there isn't any gain or loss before the last 25% of the data.\n",
    "\n",
    "Given that the way the statistic has been shown, it would beneficial to investigate these columns."
   ]
  },
  {
   "cell_type": "code",
   "execution_count": 50,
   "id": "7d307800",
   "metadata": {},
   "outputs": [
    {
     "data": {
      "text/html": [
       "<div>\n",
       "<style scoped>\n",
       "    .dataframe tbody tr th:only-of-type {\n",
       "        vertical-align: middle;\n",
       "    }\n",
       "\n",
       "    .dataframe tbody tr th {\n",
       "        vertical-align: top;\n",
       "    }\n",
       "\n",
       "    .dataframe thead th {\n",
       "        text-align: right;\n",
       "    }\n",
       "</style>\n",
       "<table border=\"1\" class=\"dataframe\">\n",
       "  <thead>\n",
       "    <tr style=\"text-align: right;\">\n",
       "      <th></th>\n",
       "      <th>age</th>\n",
       "      <th>workclass</th>\n",
       "      <th>education</th>\n",
       "      <th>marital_status</th>\n",
       "      <th>occupation</th>\n",
       "      <th>relationship</th>\n",
       "      <th>race</th>\n",
       "      <th>gender</th>\n",
       "      <th>capital_gain</th>\n",
       "      <th>capital_loss</th>\n",
       "      <th>hours_per_week</th>\n",
       "      <th>native_country</th>\n",
       "      <th>income_bracket</th>\n",
       "    </tr>\n",
       "  </thead>\n",
       "  <tbody>\n",
       "    <tr>\n",
       "      <th>0</th>\n",
       "      <td>39</td>\n",
       "      <td>State-gov</td>\n",
       "      <td>Bachelors</td>\n",
       "      <td>Never-married</td>\n",
       "      <td>Adm-clerical</td>\n",
       "      <td>Not-in-family</td>\n",
       "      <td>White</td>\n",
       "      <td>Male</td>\n",
       "      <td>2174</td>\n",
       "      <td>0</td>\n",
       "      <td>40</td>\n",
       "      <td>United-States</td>\n",
       "      <td>&lt;=50K</td>\n",
       "    </tr>\n",
       "    <tr>\n",
       "      <th>8</th>\n",
       "      <td>31</td>\n",
       "      <td>Private</td>\n",
       "      <td>Masters</td>\n",
       "      <td>Never-married</td>\n",
       "      <td>Prof-specialty</td>\n",
       "      <td>Not-in-family</td>\n",
       "      <td>White</td>\n",
       "      <td>Female</td>\n",
       "      <td>14084</td>\n",
       "      <td>0</td>\n",
       "      <td>50</td>\n",
       "      <td>United-States</td>\n",
       "      <td>&gt;50K</td>\n",
       "    </tr>\n",
       "    <tr>\n",
       "      <th>9</th>\n",
       "      <td>42</td>\n",
       "      <td>Private</td>\n",
       "      <td>Bachelors</td>\n",
       "      <td>Married-civ-spouse</td>\n",
       "      <td>Exec-managerial</td>\n",
       "      <td>Husband</td>\n",
       "      <td>White</td>\n",
       "      <td>Male</td>\n",
       "      <td>5178</td>\n",
       "      <td>0</td>\n",
       "      <td>40</td>\n",
       "      <td>United-States</td>\n",
       "      <td>&gt;50K</td>\n",
       "    </tr>\n",
       "    <tr>\n",
       "      <th>59</th>\n",
       "      <td>30</td>\n",
       "      <td>Private</td>\n",
       "      <td>HS-grad</td>\n",
       "      <td>Married-civ-spouse</td>\n",
       "      <td>Machine-op-inspct</td>\n",
       "      <td>Husband</td>\n",
       "      <td>White</td>\n",
       "      <td>Male</td>\n",
       "      <td>5013</td>\n",
       "      <td>0</td>\n",
       "      <td>40</td>\n",
       "      <td>United-States</td>\n",
       "      <td>&lt;=50K</td>\n",
       "    </tr>\n",
       "    <tr>\n",
       "      <th>60</th>\n",
       "      <td>30</td>\n",
       "      <td>Private</td>\n",
       "      <td>Bachelors</td>\n",
       "      <td>Married-civ-spouse</td>\n",
       "      <td>Sales</td>\n",
       "      <td>Husband</td>\n",
       "      <td>White</td>\n",
       "      <td>Male</td>\n",
       "      <td>2407</td>\n",
       "      <td>0</td>\n",
       "      <td>40</td>\n",
       "      <td>United-States</td>\n",
       "      <td>&lt;=50K</td>\n",
       "    </tr>\n",
       "    <tr>\n",
       "      <th>...</th>\n",
       "      <td>...</td>\n",
       "      <td>...</td>\n",
       "      <td>...</td>\n",
       "      <td>...</td>\n",
       "      <td>...</td>\n",
       "      <td>...</td>\n",
       "      <td>...</td>\n",
       "      <td>...</td>\n",
       "      <td>...</td>\n",
       "      <td>...</td>\n",
       "      <td>...</td>\n",
       "      <td>...</td>\n",
       "      <td>...</td>\n",
       "    </tr>\n",
       "    <tr>\n",
       "      <th>32515</th>\n",
       "      <td>66</td>\n",
       "      <td>Federal-gov</td>\n",
       "      <td>10th</td>\n",
       "      <td>Married-civ-spouse</td>\n",
       "      <td>Craft-repair</td>\n",
       "      <td>Husband</td>\n",
       "      <td>White</td>\n",
       "      <td>Male</td>\n",
       "      <td>3471</td>\n",
       "      <td>0</td>\n",
       "      <td>40</td>\n",
       "      <td>United-States</td>\n",
       "      <td>&lt;=50K</td>\n",
       "    </tr>\n",
       "    <tr>\n",
       "      <th>32518</th>\n",
       "      <td>57</td>\n",
       "      <td>Local-gov</td>\n",
       "      <td>HS-grad</td>\n",
       "      <td>Married-civ-spouse</td>\n",
       "      <td>Craft-repair</td>\n",
       "      <td>Husband</td>\n",
       "      <td>White</td>\n",
       "      <td>Male</td>\n",
       "      <td>99999</td>\n",
       "      <td>0</td>\n",
       "      <td>40</td>\n",
       "      <td>United-States</td>\n",
       "      <td>&gt;50K</td>\n",
       "    </tr>\n",
       "    <tr>\n",
       "      <th>32538</th>\n",
       "      <td>38</td>\n",
       "      <td>Private</td>\n",
       "      <td>Bachelors</td>\n",
       "      <td>Divorced</td>\n",
       "      <td>Prof-specialty</td>\n",
       "      <td>Unmarried</td>\n",
       "      <td>Black</td>\n",
       "      <td>Female</td>\n",
       "      <td>15020</td>\n",
       "      <td>0</td>\n",
       "      <td>45</td>\n",
       "      <td>United-States</td>\n",
       "      <td>&gt;50K</td>\n",
       "    </tr>\n",
       "    <tr>\n",
       "      <th>32548</th>\n",
       "      <td>65</td>\n",
       "      <td>Self-emp-not-inc</td>\n",
       "      <td>Prof-school</td>\n",
       "      <td>Never-married</td>\n",
       "      <td>Prof-specialty</td>\n",
       "      <td>Not-in-family</td>\n",
       "      <td>White</td>\n",
       "      <td>Male</td>\n",
       "      <td>1086</td>\n",
       "      <td>0</td>\n",
       "      <td>60</td>\n",
       "      <td>United-States</td>\n",
       "      <td>&lt;=50K</td>\n",
       "    </tr>\n",
       "    <tr>\n",
       "      <th>32560</th>\n",
       "      <td>52</td>\n",
       "      <td>Self-emp-inc</td>\n",
       "      <td>HS-grad</td>\n",
       "      <td>Married-civ-spouse</td>\n",
       "      <td>Exec-managerial</td>\n",
       "      <td>Wife</td>\n",
       "      <td>White</td>\n",
       "      <td>Female</td>\n",
       "      <td>15024</td>\n",
       "      <td>0</td>\n",
       "      <td>40</td>\n",
       "      <td>United-States</td>\n",
       "      <td>&gt;50K</td>\n",
       "    </tr>\n",
       "  </tbody>\n",
       "</table>\n",
       "<p>2712 rows × 13 columns</p>\n",
       "</div>"
      ],
      "text/plain": [
       "       age          workclass     education       marital_status  \\\n",
       "0       39          State-gov     Bachelors        Never-married   \n",
       "8       31            Private       Masters        Never-married   \n",
       "9       42            Private     Bachelors   Married-civ-spouse   \n",
       "59      30            Private       HS-grad   Married-civ-spouse   \n",
       "60      30            Private     Bachelors   Married-civ-spouse   \n",
       "...    ...                ...           ...                  ...   \n",
       "32515   66        Federal-gov          10th   Married-civ-spouse   \n",
       "32518   57          Local-gov       HS-grad   Married-civ-spouse   \n",
       "32538   38            Private     Bachelors             Divorced   \n",
       "32548   65   Self-emp-not-inc   Prof-school        Never-married   \n",
       "32560   52       Self-emp-inc       HS-grad   Married-civ-spouse   \n",
       "\n",
       "               occupation    relationship    race   gender  capital_gain  \\\n",
       "0            Adm-clerical   Not-in-family   White     Male          2174   \n",
       "8          Prof-specialty   Not-in-family   White   Female         14084   \n",
       "9         Exec-managerial         Husband   White     Male          5178   \n",
       "59      Machine-op-inspct         Husband   White     Male          5013   \n",
       "60                  Sales         Husband   White     Male          2407   \n",
       "...                   ...             ...     ...      ...           ...   \n",
       "32515        Craft-repair         Husband   White     Male          3471   \n",
       "32518        Craft-repair         Husband   White     Male         99999   \n",
       "32538      Prof-specialty       Unmarried   Black   Female         15020   \n",
       "32548      Prof-specialty   Not-in-family   White     Male          1086   \n",
       "32560     Exec-managerial            Wife   White   Female         15024   \n",
       "\n",
       "       capital_loss  hours_per_week  native_country income_bracket  \n",
       "0                 0              40   United-States          <=50K  \n",
       "8                 0              50   United-States           >50K  \n",
       "9                 0              40   United-States           >50K  \n",
       "59                0              40   United-States          <=50K  \n",
       "60                0              40   United-States          <=50K  \n",
       "...             ...             ...             ...            ...  \n",
       "32515             0              40   United-States          <=50K  \n",
       "32518             0              40   United-States           >50K  \n",
       "32538             0              45   United-States           >50K  \n",
       "32548             0              60   United-States          <=50K  \n",
       "32560             0              40   United-States           >50K  \n",
       "\n",
       "[2712 rows x 13 columns]"
      ]
     },
     "execution_count": 50,
     "metadata": {},
     "output_type": "execute_result"
    }
   ],
   "source": [
    "# Checks if a row within capital_gain is greater than 0, if so show it.\n",
    "df[df[\"capital_gain\"] > 0]"
   ]
  },
  {
   "cell_type": "markdown",
   "id": "4f6cda1e",
   "metadata": {},
   "source": [
    "A fairly small chunk of the data, 2712 rows, has a value a in the capital_gain, meaning alot of the data has 0 or less in capital gain. \\\n",
    "worth keeping in mind for later. "
   ]
  },
  {
   "cell_type": "code",
   "execution_count": 51,
   "id": "bcd4d132",
   "metadata": {},
   "outputs": [
    {
     "data": {
      "text/html": [
       "<div>\n",
       "<style scoped>\n",
       "    .dataframe tbody tr th:only-of-type {\n",
       "        vertical-align: middle;\n",
       "    }\n",
       "\n",
       "    .dataframe tbody tr th {\n",
       "        vertical-align: top;\n",
       "    }\n",
       "\n",
       "    .dataframe thead th {\n",
       "        text-align: right;\n",
       "    }\n",
       "</style>\n",
       "<table border=\"1\" class=\"dataframe\">\n",
       "  <thead>\n",
       "    <tr style=\"text-align: right;\">\n",
       "      <th></th>\n",
       "      <th>age</th>\n",
       "      <th>workclass</th>\n",
       "      <th>education</th>\n",
       "      <th>marital_status</th>\n",
       "      <th>occupation</th>\n",
       "      <th>relationship</th>\n",
       "      <th>race</th>\n",
       "      <th>gender</th>\n",
       "      <th>capital_gain</th>\n",
       "      <th>capital_loss</th>\n",
       "      <th>hours_per_week</th>\n",
       "      <th>native_country</th>\n",
       "      <th>income_bracket</th>\n",
       "    </tr>\n",
       "  </thead>\n",
       "  <tbody>\n",
       "    <tr>\n",
       "      <th>23</th>\n",
       "      <td>43</td>\n",
       "      <td>Private</td>\n",
       "      <td>11th</td>\n",
       "      <td>Married-civ-spouse</td>\n",
       "      <td>Transport-moving</td>\n",
       "      <td>Husband</td>\n",
       "      <td>White</td>\n",
       "      <td>Male</td>\n",
       "      <td>0</td>\n",
       "      <td>2042</td>\n",
       "      <td>40</td>\n",
       "      <td>United-States</td>\n",
       "      <td>&lt;=50K</td>\n",
       "    </tr>\n",
       "    <tr>\n",
       "      <th>32</th>\n",
       "      <td>45</td>\n",
       "      <td>Private</td>\n",
       "      <td>Bachelors</td>\n",
       "      <td>Divorced</td>\n",
       "      <td>Exec-managerial</td>\n",
       "      <td>Own-child</td>\n",
       "      <td>White</td>\n",
       "      <td>Male</td>\n",
       "      <td>0</td>\n",
       "      <td>1408</td>\n",
       "      <td>40</td>\n",
       "      <td>United-States</td>\n",
       "      <td>&lt;=50K</td>\n",
       "    </tr>\n",
       "    <tr>\n",
       "      <th>52</th>\n",
       "      <td>47</td>\n",
       "      <td>Private</td>\n",
       "      <td>Prof-school</td>\n",
       "      <td>Married-civ-spouse</td>\n",
       "      <td>Prof-specialty</td>\n",
       "      <td>Wife</td>\n",
       "      <td>White</td>\n",
       "      <td>Female</td>\n",
       "      <td>0</td>\n",
       "      <td>1902</td>\n",
       "      <td>60</td>\n",
       "      <td>Honduras</td>\n",
       "      <td>&gt;50K</td>\n",
       "    </tr>\n",
       "    <tr>\n",
       "      <th>93</th>\n",
       "      <td>30</td>\n",
       "      <td>Private</td>\n",
       "      <td>HS-grad</td>\n",
       "      <td>Married-civ-spouse</td>\n",
       "      <td>Sales</td>\n",
       "      <td>Wife</td>\n",
       "      <td>Asian-Pac-Islander</td>\n",
       "      <td>Female</td>\n",
       "      <td>0</td>\n",
       "      <td>1573</td>\n",
       "      <td>35</td>\n",
       "      <td>?</td>\n",
       "      <td>&lt;=50K</td>\n",
       "    </tr>\n",
       "    <tr>\n",
       "      <th>96</th>\n",
       "      <td>48</td>\n",
       "      <td>Self-emp-not-inc</td>\n",
       "      <td>Doctorate</td>\n",
       "      <td>Married-civ-spouse</td>\n",
       "      <td>Prof-specialty</td>\n",
       "      <td>Husband</td>\n",
       "      <td>White</td>\n",
       "      <td>Male</td>\n",
       "      <td>0</td>\n",
       "      <td>1902</td>\n",
       "      <td>60</td>\n",
       "      <td>United-States</td>\n",
       "      <td>&gt;50K</td>\n",
       "    </tr>\n",
       "    <tr>\n",
       "      <th>...</th>\n",
       "      <td>...</td>\n",
       "      <td>...</td>\n",
       "      <td>...</td>\n",
       "      <td>...</td>\n",
       "      <td>...</td>\n",
       "      <td>...</td>\n",
       "      <td>...</td>\n",
       "      <td>...</td>\n",
       "      <td>...</td>\n",
       "      <td>...</td>\n",
       "      <td>...</td>\n",
       "      <td>...</td>\n",
       "      <td>...</td>\n",
       "    </tr>\n",
       "    <tr>\n",
       "      <th>32441</th>\n",
       "      <td>53</td>\n",
       "      <td>Private</td>\n",
       "      <td>Some-college</td>\n",
       "      <td>Married-civ-spouse</td>\n",
       "      <td>Transport-moving</td>\n",
       "      <td>Husband</td>\n",
       "      <td>White</td>\n",
       "      <td>Male</td>\n",
       "      <td>0</td>\n",
       "      <td>1887</td>\n",
       "      <td>45</td>\n",
       "      <td>United-States</td>\n",
       "      <td>&gt;50K</td>\n",
       "    </tr>\n",
       "    <tr>\n",
       "      <th>32443</th>\n",
       "      <td>18</td>\n",
       "      <td>Private</td>\n",
       "      <td>HS-grad</td>\n",
       "      <td>Never-married</td>\n",
       "      <td>Sales</td>\n",
       "      <td>Own-child</td>\n",
       "      <td>White</td>\n",
       "      <td>Female</td>\n",
       "      <td>0</td>\n",
       "      <td>1602</td>\n",
       "      <td>20</td>\n",
       "      <td>United-States</td>\n",
       "      <td>&lt;=50K</td>\n",
       "    </tr>\n",
       "    <tr>\n",
       "      <th>32445</th>\n",
       "      <td>61</td>\n",
       "      <td>Private</td>\n",
       "      <td>HS-grad</td>\n",
       "      <td>Widowed</td>\n",
       "      <td>Craft-repair</td>\n",
       "      <td>Not-in-family</td>\n",
       "      <td>Black</td>\n",
       "      <td>Female</td>\n",
       "      <td>0</td>\n",
       "      <td>1669</td>\n",
       "      <td>50</td>\n",
       "      <td>United-States</td>\n",
       "      <td>&lt;=50K</td>\n",
       "    </tr>\n",
       "    <tr>\n",
       "      <th>32458</th>\n",
       "      <td>36</td>\n",
       "      <td>Private</td>\n",
       "      <td>Bachelors</td>\n",
       "      <td>Married-civ-spouse</td>\n",
       "      <td>Prof-specialty</td>\n",
       "      <td>Husband</td>\n",
       "      <td>White</td>\n",
       "      <td>Male</td>\n",
       "      <td>0</td>\n",
       "      <td>1977</td>\n",
       "      <td>45</td>\n",
       "      <td>United-States</td>\n",
       "      <td>&gt;50K</td>\n",
       "    </tr>\n",
       "    <tr>\n",
       "      <th>32500</th>\n",
       "      <td>34</td>\n",
       "      <td>Private</td>\n",
       "      <td>11th</td>\n",
       "      <td>Divorced</td>\n",
       "      <td>Transport-moving</td>\n",
       "      <td>Unmarried</td>\n",
       "      <td>White</td>\n",
       "      <td>Male</td>\n",
       "      <td>0</td>\n",
       "      <td>880</td>\n",
       "      <td>60</td>\n",
       "      <td>United-States</td>\n",
       "      <td>&lt;=50K</td>\n",
       "    </tr>\n",
       "  </tbody>\n",
       "</table>\n",
       "<p>1519 rows × 13 columns</p>\n",
       "</div>"
      ],
      "text/plain": [
       "       age          workclass      education       marital_status  \\\n",
       "23      43            Private           11th   Married-civ-spouse   \n",
       "32      45            Private      Bachelors             Divorced   \n",
       "52      47            Private    Prof-school   Married-civ-spouse   \n",
       "93      30            Private        HS-grad   Married-civ-spouse   \n",
       "96      48   Self-emp-not-inc      Doctorate   Married-civ-spouse   \n",
       "...    ...                ...            ...                  ...   \n",
       "32441   53            Private   Some-college   Married-civ-spouse   \n",
       "32443   18            Private        HS-grad        Never-married   \n",
       "32445   61            Private        HS-grad              Widowed   \n",
       "32458   36            Private      Bachelors   Married-civ-spouse   \n",
       "32500   34            Private           11th             Divorced   \n",
       "\n",
       "              occupation    relationship                 race   gender  \\\n",
       "23      Transport-moving         Husband                White     Male   \n",
       "32       Exec-managerial       Own-child                White     Male   \n",
       "52        Prof-specialty            Wife                White   Female   \n",
       "93                 Sales            Wife   Asian-Pac-Islander   Female   \n",
       "96        Prof-specialty         Husband                White     Male   \n",
       "...                  ...             ...                  ...      ...   \n",
       "32441   Transport-moving         Husband                White     Male   \n",
       "32443              Sales       Own-child                White   Female   \n",
       "32445       Craft-repair   Not-in-family                Black   Female   \n",
       "32458     Prof-specialty         Husband                White     Male   \n",
       "32500   Transport-moving       Unmarried                White     Male   \n",
       "\n",
       "       capital_gain  capital_loss  hours_per_week  native_country  \\\n",
       "23                0          2042              40   United-States   \n",
       "32                0          1408              40   United-States   \n",
       "52                0          1902              60        Honduras   \n",
       "93                0          1573              35               ?   \n",
       "96                0          1902              60   United-States   \n",
       "...             ...           ...             ...             ...   \n",
       "32441             0          1887              45   United-States   \n",
       "32443             0          1602              20   United-States   \n",
       "32445             0          1669              50   United-States   \n",
       "32458             0          1977              45   United-States   \n",
       "32500             0           880              60   United-States   \n",
       "\n",
       "      income_bracket  \n",
       "23             <=50K  \n",
       "32             <=50K  \n",
       "52              >50K  \n",
       "93             <=50K  \n",
       "96              >50K  \n",
       "...              ...  \n",
       "32441           >50K  \n",
       "32443          <=50K  \n",
       "32445          <=50K  \n",
       "32458           >50K  \n",
       "32500          <=50K  \n",
       "\n",
       "[1519 rows x 13 columns]"
      ]
     },
     "execution_count": 51,
     "metadata": {},
     "output_type": "execute_result"
    }
   ],
   "source": [
    "df[df[\"capital_loss\"] > 0]"
   ]
  },
  {
   "cell_type": "markdown",
   "id": "269876ba",
   "metadata": {},
   "source": [
    "\n",
    "With around only 1519, it has even less than with capital_gain, it would seem that these two columns have data. \\\n",
    "Since capital gain and loss refers to buying and selling, it would make sense that people who had anything in these columns, would have some sort of occupation that would relate."
   ]
  },
  {
   "cell_type": "code",
   "execution_count": 52,
   "id": "668e9388",
   "metadata": {},
   "outputs": [
    {
     "data": {
      "text/plain": [
       "occupation\n",
       "Prof-specialty       850\n",
       "Exec-managerial      847\n",
       "Sales                512\n",
       "Craft-repair         506\n",
       "Adm-clerical         362\n",
       "Machine-op-inspct    196\n",
       "Transport-moving     181\n",
       "?                    181\n",
       "Other-service        173\n",
       "Tech-support         133\n",
       "Farming-fishing      104\n",
       "Handlers-cleaners     96\n",
       "Protective-serv       79\n",
       "Priv-house-serv       10\n",
       "Armed-Forces           1\n",
       "Name: count, dtype: int64"
      ]
     },
     "execution_count": 52,
     "metadata": {},
     "output_type": "execute_result"
    }
   ],
   "source": [
    "tmp_df = df[(df[\"capital_gain\"] > 0) | (df[\"capital_loss\"] > 0)]\n",
    "tmp_df[\"occupation\"].value_counts()"
   ]
  },
  {
   "cell_type": "markdown",
   "id": "2dea567d",
   "metadata": {},
   "source": [
    "In some cases they do relate to sales, but not all. Lets put that hold for now."
   ]
  },
  {
   "cell_type": "markdown",
   "id": "2620e6ad",
   "metadata": {},
   "source": [
    "Since the dataset is made from people, taking a closer look at the more human aspects would be ideal. \\\n",
    "So lets look into the working hours for people."
   ]
  },
  {
   "cell_type": "code",
   "execution_count": 53,
   "id": "c458d3a1",
   "metadata": {},
   "outputs": [
    {
     "data": {
      "text/plain": [
       "age\n",
       "17    21.367089\n",
       "18    25.912727\n",
       "19    30.678371\n",
       "20    32.280212\n",
       "21    34.034722\n",
       "        ...    \n",
       "85    29.333333\n",
       "86    40.000000\n",
       "87     2.000000\n",
       "88    40.000000\n",
       "90    36.813953\n",
       "Name: hours_per_week, Length: 73, dtype: float64"
      ]
     },
     "execution_count": 53,
     "metadata": {},
     "output_type": "execute_result"
    }
   ],
   "source": [
    "# this takes all unique age values and calulate the mean of hours worked per week for each age value there is\n",
    "df.groupby(\"age\")[\"hours_per_week\"].mean()"
   ]
  },
  {
   "cell_type": "markdown",
   "id": "39931ccc",
   "metadata": {},
   "source": [
    "There is a lot of ages. To make it easier to understand lets split the ages up in some groups. \\\n",
    "This will help with readability, since there wont be as many entries."
   ]
  },
  {
   "cell_type": "code",
   "execution_count": 54,
   "id": "a30759fa",
   "metadata": {},
   "outputs": [],
   "source": [
    "# Add ages into groups\n",
    "def age_group(num):\n",
    "    if num >= 0 and num <= 9:\n",
    "        return \"0-9\"\n",
    "    if num >= 10 and num <= 19:\n",
    "        return \"10-19\"\n",
    "    if num >= 0 and num <= 29:\n",
    "        return \"20-29\"\n",
    "    if num >= 0 and num <= 39:\n",
    "        return \"30-39\"\n",
    "    if num >= 0 and num <= 49:\n",
    "        return \"40-49\"\n",
    "    if num >= 0 and num <= 59:\n",
    "        return \"50-59\"\n",
    "    if num >= 0 and num <= 69:\n",
    "        return \"60-69\"\n",
    "    if num >= 0 and num <= 79:\n",
    "        return \"70-79\"\n",
    "    if num >= 0 and num <= 89:\n",
    "        return \"80-89\"\n",
    "    if num >= 0 and num <= 99:\n",
    "        return \"90-99\"\n",
    "    else:\n",
    "        return \"100+\""
   ]
  },
  {
   "cell_type": "code",
   "execution_count": 55,
   "id": "aa3d9f13",
   "metadata": {},
   "outputs": [
    {
     "data": {
      "text/plain": [
       "age_grp\n",
       "10-19    26.876886\n",
       "20-29    38.611746\n",
       "30-39    43.238941\n",
       "40-49    43.230383\n",
       "50-59    42.709144\n",
       "60-69    36.147395\n",
       "70-79    26.777559\n",
       "80-89    23.884615\n",
       "90-99    36.813953\n",
       "Name: hours_per_week, dtype: float64"
      ]
     },
     "execution_count": 55,
     "metadata": {},
     "output_type": "execute_result"
    }
   ],
   "source": [
    "# map is used for doing a function on each value there is in the age, which get saved as a new column called age_grp.\n",
    "df[\"age_grp\"] = df[\"age\"].map(age_group)\n",
    "df.groupby(\"age_grp\")[\"hours_per_week\"].mean()"
   ]
  },
  {
   "cell_type": "markdown",
   "id": "058c1006",
   "metadata": {},
   "source": [
    "The data shows that there seems to be a normal trend for works, for when you grow older you will work more. \\\n",
    "Of course there is a drop off point.\n",
    "\n",
    "Let visualize it to better see the trend.\n",
    "For this we will use Seaborn."
   ]
  },
  {
   "cell_type": "code",
   "execution_count": 56,
   "id": "863872f0",
   "metadata": {},
   "outputs": [
    {
     "data": {
      "image/png": "[encoded data removed]",
      "text/plain": [
       "<Figure size 640x480 with 1 Axes>"
      ]
     },
     "metadata": {},
     "output_type": "display_data"
    }
   ],
   "source": [
    "# imports seaborn library to help visualization\n",
    "import seaborn as sns\n",
    "tmp_df = df.sort_values(by=\"age_grp\")\n",
    "sns.barplot(data=tmp_df, x=\"age_grp\", y=\"hours_per_week\", errorbar=None)\n",
    "plt.show()"
   ]
  },
  {
   "cell_type": "markdown",
   "id": "a2dd7db6",
   "metadata": {},
   "source": [
    "This shows the avg work hours per week in given age groups.\n",
    "For the most part it follows what one would expect, with a normal distribution.\n",
    "but there seems to some outliers in upper age group.\n"
   ]
  },
  {
   "cell_type": "markdown",
   "id": "07ad34e6",
   "metadata": {},
   "source": [
    "It would seem that the native_country columns have a or more unanswered value, marked as ?, let look into that."
   ]
  },
  {
   "cell_type": "code",
   "execution_count": 57,
   "id": "05664d05",
   "metadata": {},
   "outputs": [
    {
     "data": {
      "text/plain": [
       "array([' United-States', ' Cuba', ' Jamaica', ' India', ' ?', ' Mexico',\n",
       "       ' South', ' Puerto-Rico', ' Honduras', ' England', ' Canada',\n",
       "       ' Germany', ' Iran', ' Philippines', ' Italy', ' Poland',\n",
       "       ' Columbia', ' Cambodia', ' Thailand', ' Ecuador', ' Laos',\n",
       "       ' Taiwan', ' Haiti', ' Portugal', ' Dominican-Republic',\n",
       "       ' El-Salvador', ' France', ' Guatemala', ' China', ' Japan',\n",
       "       ' Yugoslavia', ' Peru', ' Outlying-US(Guam-USVI-etc)', ' Scotland',\n",
       "       ' Trinadad&Tobago', ' Greece', ' Nicaragua', ' Vietnam', ' Hong',\n",
       "       ' Ireland', ' Hungary', ' Holand-Netherlands'], dtype=object)"
      ]
     },
     "execution_count": 57,
     "metadata": {},
     "output_type": "execute_result"
    }
   ],
   "source": [
    "# prints out all the unique value that exist within the dataframe\n",
    "df[\"native_country\"].unique()"
   ]
  },
  {
   "cell_type": "markdown",
   "id": "87893815",
   "metadata": {},
   "source": [
    "For the most part, the structure seem fine with some outliers. But one big problem is that all value has a whitespace in fount of the name.\n",
    "? can stay for as it does not interfere with anything."
   ]
  },
  {
   "cell_type": "markdown",
   "id": "6bc8b79f",
   "metadata": {},
   "source": [
    "After some exploration, it would seem that all the columns that is not of the type int64 has a problem with whitespaces. \\\n",
    "This was found out with the method as shown above.\n",
    "\n",
    "Lets fix these columns in the preprocessing\n",
    "\n",
    "For now, it would be good to have a overview over who has given their data to this dataset.\n"
   ]
  },
  {
   "cell_type": "code",
   "execution_count": 58,
   "id": "26816530",
   "metadata": {},
   "outputs": [
    {
     "name": "stdout",
     "output_type": "stream",
     "text": [
      "gender\n",
      "Male      20741\n",
      "Female    10262\n",
      "?          1558\n",
      "Name: count, dtype: int64\n"
     ]
    },
    {
     "data": {
      "text/plain": [
       "race\n",
       "White                 27816\n",
       "Black                  3124\n",
       "Asian-Pac-Islander     1039\n",
       "Amer-Indian-Eskimo      311\n",
       "Other                   271\n",
       "Name: count, dtype: int64"
      ]
     },
     "execution_count": 58,
     "metadata": {},
     "output_type": "execute_result"
    }
   ],
   "source": [
    "print(df[\"gender\"].value_counts())\n",
    "\n",
    "df[\"race\"].value_counts()"
   ]
  },
  {
   "cell_type": "markdown",
   "id": "cf509e91",
   "metadata": {},
   "source": [
    "It would seem that the overwhelmingly is white males that has contributed to this collection. This may tilt the data."
   ]
  },
  {
   "cell_type": "markdown",
   "id": "3b0bc199",
   "metadata": {},
   "source": [
    "# Research questions and hypothesis\n",
    "\n",
    "Given what we have seen in this dataset, let create a hypothesis for going further.\n",
    "\n",
    "Hypothesis: your social situation changes your income. \n",
    "\n",
    "Since the hypothesis is open for a lot of ways to answer, lets split it to some smaller questions.\n",
    "- does working more hours mean better income over people work less hours?\n",
    "- does gender and/or race play a role in people's income?\n"
   ]
  },
  {
   "cell_type": "markdown",
   "id": "bfab0eb7",
   "metadata": {},
   "source": [
    "## Preprocessing\n",
    "\n",
    "First I need to clean the data to make sure the values are all valid. "
   ]
  },
  {
   "cell_type": "code",
   "execution_count": 59,
   "id": "1c924e89",
   "metadata": {},
   "outputs": [],
   "source": [
    "# import regular expressions\n",
    "import re\n",
    "\n",
    "# this expression checks if the start of a line has a whitespace\n",
    "reg = \"^\\s\"\n",
    "\n",
    "# function for checking whitespaces and removing them\n",
    "def remove_whitespaces(str):\n",
    "    # checks the column value with regex, if there is match it split it, meaning \" hello world\" would become [\" \", \"hello world\"]\n",
    "    mat = re.split(reg, str)\n",
    "    \n",
    "    # if the size of the split result in a list with a size of 2, meaning like above, it will then return the part that doesn't have a whitespace\n",
    "    # else it return back the value as it was \n",
    "    if len(mat) == 2:\n",
    "        return mat[1]\n",
    "    else:\n",
    "        return str\n",
    "\n",
    "# remove_whitespaces(\" hello world\")"
   ]
  },
  {
   "cell_type": "code",
   "execution_count": 60,
   "id": "9b97e17f",
   "metadata": {},
   "outputs": [
    {
     "data": {
      "text/plain": [
       "array(['State-gov', 'Self-emp-not-inc', 'Private', 'Federal-gov',\n",
       "       'Local-gov', '?', 'Self-emp-inc', 'Without-pay', 'Never-worked'],\n",
       "      dtype=object)"
      ]
     },
     "execution_count": 60,
     "metadata": {},
     "output_type": "execute_result"
    }
   ],
   "source": [
    "df[\"workclass\"] = df[\"workclass\"].map(remove_whitespaces)\n",
    "df[\"workclass\"].unique()"
   ]
  },
  {
   "cell_type": "code",
   "execution_count": 61,
   "id": "c11b41f6",
   "metadata": {},
   "outputs": [
    {
     "data": {
      "text/plain": [
       "array(['Not-in-family', 'Husband', 'Wife', 'Own-child', 'Unmarried',\n",
       "       'Other-relative'], dtype=object)"
      ]
     },
     "execution_count": 61,
     "metadata": {},
     "output_type": "execute_result"
    }
   ],
   "source": [
    "df[\"education\"] = df[\"education\"].map(remove_whitespaces)\n",
    "df[\"gender\"] = df[\"gender\"].map(remove_whitespaces)\n",
    "df[\"income_bracket\"] = df[\"income_bracket\"].map(remove_whitespaces)\n",
    "df[\"marital_status\"] = df[\"marital_status\"].map(remove_whitespaces)\n",
    "df[\"native_country\"] = df[\"native_country\"].map(remove_whitespaces)\n",
    "df[\"occupation\"] = df[\"occupation\"].map(remove_whitespaces)\n",
    "df[\"race\"] = df[\"race\"].map(remove_whitespaces)\n",
    "df[\"relationship\"] = df[\"relationship\"].map(remove_whitespaces)\n",
    "df[\"relationship\"].unique()"
   ]
  },
  {
   "cell_type": "code",
   "execution_count": 62,
   "id": "a5cd34ba",
   "metadata": {},
   "outputs": [],
   "source": [
    "def change_questionmark(str):\n",
    "    # it the entry is only a questionmark, then change it to \"Unknown\".\n",
    "    # else keep the entry as it is. \n",
    "    if str == \"?\":\n",
    "        return \"Unknown\"\n",
    "    else:\n",
    "        return str\n",
    "\n",
    "# change_questionmark(\"?\")"
   ]
  },
  {
   "cell_type": "code",
   "execution_count": 63,
   "id": "58df55a9",
   "metadata": {},
   "outputs": [
    {
     "data": {
      "text/plain": [
       "array(['State-gov', 'Self-emp-not-inc', 'Private', 'Federal-gov',\n",
       "       'Local-gov', 'Unknown', 'Self-emp-inc', 'Without-pay',\n",
       "       'Never-worked'], dtype=object)"
      ]
     },
     "execution_count": 63,
     "metadata": {},
     "output_type": "execute_result"
    }
   ],
   "source": [
    "df[\"education\"] = df[\"education\"].map(change_questionmark)\n",
    "df[\"gender\"] = df[\"gender\"].map(change_questionmark)\n",
    "df[\"income_bracket\"] = df[\"income_bracket\"].map(change_questionmark)\n",
    "df[\"marital_status\"] = df[\"marital_status\"].map(change_questionmark)\n",
    "df[\"native_country\"] = df[\"native_country\"].map(change_questionmark)\n",
    "df[\"occupation\"] = df[\"occupation\"].map(change_questionmark)\n",
    "df[\"race\"] = df[\"race\"].map(change_questionmark)\n",
    "df[\"relationship\"] = df[\"relationship\"].map(change_questionmark)\n",
    "df[\"workclass\"] = df[\"workclass\"].map(change_questionmark)\n",
    "df[\"workclass\"].unique()"
   ]
  },
  {
   "cell_type": "markdown",
   "id": "0127a68e",
   "metadata": {},
   "source": [
    "Given the binary nature of the column income_bracket, It could be easier to work with as a boolean. \\\n",
    "So let do that with a name change to keep the original understanding."
   ]
  },
  {
   "cell_type": "code",
   "execution_count": 64,
   "id": "731e1d84",
   "metadata": {},
   "outputs": [],
   "source": [
    "def income_type_change(str):\n",
    "    if str == \"<=50K\":\n",
    "        return False\n",
    "    else:\n",
    "        return True\n",
    "    \n",
    "df[\"income_bracket\"] = df[\"income_bracket\"].map(income_type_change)\n",
    "df = df.rename(columns={\"income_bracket\" : \"income_bracket (over 50k)\"})"
   ]
  },
  {
   "cell_type": "code",
   "execution_count": 65,
   "id": "ac420c08",
   "metadata": {},
   "outputs": [
    {
     "data": {
      "text/plain": [
       "income_bracket (over 50k)\n",
       "False    24720\n",
       "True      7841\n",
       "Name: count, dtype: int64"
      ]
     },
     "execution_count": 65,
     "metadata": {},
     "output_type": "execute_result"
    }
   ],
   "source": [
    "df[\"income_bracket (over 50k)\"].value_counts()"
   ]
  },
  {
   "cell_type": "markdown",
   "id": "ee9e1520",
   "metadata": {},
   "source": [
    "With the preprocessing out of the way, lets begin the analysis."
   ]
  },
  {
   "cell_type": "markdown",
   "id": "f3e38e51",
   "metadata": {},
   "source": [
    "## Analysis\n",
    "\n",
    "Before we look at the research questions, lets establish some oversight. \\\n",
    "Doing this with a heatmap, will help to understand the relationship between some of the columns.\n"
   ]
  },
  {
   "cell_type": "code",
   "execution_count": 66,
   "id": "f2e5aff0",
   "metadata": {},
   "outputs": [
    {
     "data": {
      "image/png": "[encoded data removed]",
      "text/plain": [
       "<Figure size 640x480 with 2 Axes>"
      ]
     },
     "metadata": {},
     "output_type": "display_data"
    }
   ],
   "source": [
    "# using seaborn here to give a heatmap of the correlation\n",
    "# df.corr, in this case, gives the correlation all numeric columns.\n",
    "sns.heatmap(df.corr(numeric_only=True), annot=True)\n",
    "plt.show()"
   ]
  },
  {
   "cell_type": "markdown",
   "id": "db71e973",
   "metadata": {},
   "source": [
    "The correlation between all these columns seems to be low. The biggest correlation there is seem to be related to the Income_bracket. Let keep a focus on that then and look to other columns to find better relation."
   ]
  },
  {
   "cell_type": "markdown",
   "id": "6747693a",
   "metadata": {},
   "source": [
    "#### Does working more hours mean better income over people work less hours?\n",
    "If this is the case then there would be a high correlation between the columns hours_per_week and income_bracket. lets check if that is the case. \\\n",
    "To better create a overview for the rest of the data, lets use a heatmap."
   ]
  },
  {
   "cell_type": "code",
   "execution_count": 67,
   "id": "d784c585",
   "metadata": {},
   "outputs": [
    {
     "name": "stdout",
     "output_type": "stream",
     "text": [
      "0.229689065670811\n"
     ]
    }
   ],
   "source": [
    "# how does the hours worked per week correlate with the income bracket, is what is does\n",
    "cor = df[\"hours_per_week\"].corr(df[\"income_bracket (over 50k)\"])\n",
    "print(cor)"
   ]
  },
  {
   "cell_type": "markdown",
   "id": "a29a829f",
   "metadata": {},
   "source": [
    "Since the correlation is pretty low, it follows that there isn't any strong evidence on that working more equal to higher income. \\\n",
    "At least when talking about reaching higher income brackets with working hours alone. Since the end of 20th century usa has seen a increase to productivity, but the hourly pay has not followed along well with it (“The Productivity–Pay Gap”). Because of this, it would make sense as to why there this low correlation. Meaning that people work more, but don't see the benefits of their work.\n",
    "\n",
    "Given the weak correlation between hours worked and income, it would interesting to see if we can predict how many hours a person works per week based on all the other demographic information in this dataset."
   ]
  },
  {
   "cell_type": "code",
   "execution_count": null,
   "id": "6498ade1",
   "metadata": {},
   "outputs": [
    {
     "name": "stdout",
     "output_type": "stream",
     "text": [
      "r2:  0.22344992725688517\n"
     ]
    },
    {
     "data": {
      "image/png": "[encoded data removed]",
      "text/plain": [
       "<Figure size 640x480 with 1 Axes>"
      ]
     },
     "metadata": {},
     "output_type": "display_data"
    }
   ],
   "source": [
    "# To test a model for prediction\n",
    "from sklearn.model_selection import train_test_split\n",
    "# The model for used for this prediction\n",
    "from sklearn.linear_model import LinearRegression\n",
    "# Is used to evaluate the performance of a linear regression model.\n",
    "from sklearn.metrics import r2_score\n",
    "# for generating a randomstate for the test data.\n",
    "import numpy as np\n",
    "rng = np.random.RandomState(0)\n",
    "\n",
    "df_co = df.copy()\n",
    "x_col = df_co.drop([\"hours_per_week\"], axis=1)\n",
    "#  keeps all columns expect the one, so you could say we split it.\n",
    "X = x_col\n",
    "y = df_co[\"hours_per_week\"]\n",
    "\n",
    "# get_dummies converts categorical variables into dummy/indicator variables. Meaning values like for race like \"black\" becomes a column with 1 or 0, so that it is true or false.\n",
    "# Idea from (Baseline - Get Dummies and Random Forest)\n",
    "X = pd.get_dummies(X)\n",
    "\n",
    "# This split the data so that it can be tested on to see if can predict some outcome.\n",
    "X_train, X_test, y_train, y_test = train_test_split(X, y, test_size=0.1, random_state=rng)\n",
    "\n",
    "# the model used for testing the data on.\n",
    "model = LinearRegression()\n",
    "model.fit(X_train, y_train)\n",
    "\n",
    "# Here it predict the data and evaluate it on the r2 score.\n",
    "preds = model.predict(X_test)\n",
    "print(\"r2: \", r2_score(y_test, preds))\n",
    "\n",
    "# Scatter plot: actual vs predicted\n",
    "sns.regplot(x=y_test, y=preds, line_kws={'color': 'red'})\n",
    "plt.xlabel(\"Actual\")\n",
    "plt.ylabel(\"Predicted\")\n",
    "plt.title(\"Actual vs Predicted Hours Worked\")\n",
    "plt.show()"
   ]
  },
  {
   "cell_type": "markdown",
   "id": "2e6fbc3e",
   "metadata": {},
   "source": [
    "For context, the r2 score measures how well the model's predictions match the actual data. An r2 score close to 1 mean it can more precisely predict a outcome, while a score near 0 mean that can't really predict that well.\n",
    "\n",
    "In this case, the r2 score is quite low. This means that this model is not able to correctly predict the number of hours worked per week based on all the demographic information in this dataset."
   ]
  },
  {
   "cell_type": "markdown",
   "id": "270b8058",
   "metadata": {},
   "source": [
    "#### Does gender and/or race play a role in people's income?\n",
    "\n",
    "There is a couple of factors to check out here. \n",
    "- Gender and race correlation to income \n",
    "- In which workforce do races find themselves in"
   ]
  },
  {
   "cell_type": "code",
   "execution_count": 25,
   "id": "ca42fe8c",
   "metadata": {},
   "outputs": [
    {
     "name": "stdout",
     "output_type": "stream",
     "text": [
      "gender\n",
      "Female     0.109141\n",
      "Male       0.308230\n",
      "Unknown    0.210526\n",
      "Name: income_bracket (over 50k), dtype: float64\n"
     ]
    },
    {
     "data": {
      "text/plain": [
       "race\n",
       "Amer-Indian-Eskimo    0.115756\n",
       "Asian-Pac-Islander    0.265640\n",
       "Black                 0.123880\n",
       "Other                 0.092251\n",
       "White                 0.255860\n",
       "Name: income_bracket (over 50k), dtype: float64"
      ]
     },
     "execution_count": 25,
     "metadata": {},
     "output_type": "execute_result"
    }
   ],
   "source": [
    "grp = df.groupby(\"gender\")[\"income_bracket (over 50k)\"].mean()\n",
    "print(grp)\n",
    "\n",
    "df.groupby(\"race\")[\"income_bracket (over 50k)\"].mean()\n"
   ]
  },
  {
   "cell_type": "markdown",
   "id": "169e0174",
   "metadata": {},
   "source": [
    "There seems to be trend toward asian and white male having a higher income. \\\n",
    "While that may be the case, we have to remember that white male is a very big percentage. \\\n",
    "So before coming to any conclusion, let try to visualize it."
   ]
  },
  {
   "cell_type": "code",
   "execution_count": 27,
   "id": "811b3a92",
   "metadata": {},
   "outputs": [
    {
     "name": "stdout",
     "output_type": "stream",
     "text": [
      "income_bracket (over 50k)      False      True \n",
      "gender                                         \n",
      "Female                     89.085948  10.914052\n",
      "Male                       69.176992  30.823008\n",
      "Unknown                    78.947368  21.052632\n"
     ]
    },
    {
     "data": {
      "image/png": "[encoded data removed]",
      "text/plain": [
       "<Figure size 640x480 with 1 Axes>"
      ]
     },
     "metadata": {},
     "output_type": "display_data"
    }
   ],
   "source": [
    "grp = df.groupby([\"gender\", \"income_bracket (over 50k)\"]).size()\n",
    "\n",
    "# idea from (“Pandas GroupBy - Unstack”)\n",
    "grp = grp.unstack()\n",
    "\n",
    "# Idea from (Holtz)\n",
    "grp = grp.div(grp.sum(axis=1), axis=0) * 100\n",
    "\n",
    "print(grp)\n",
    "\n",
    "grp.plot(kind=\"bar\")\n",
    "plt.title(\"Income by gender\")\n",
    "plt.xlabel(\"Gender\")\n",
    "plt.ylabel(\"%\")\n",
    "plt.show()\n"
   ]
  },
  {
   "cell_type": "markdown",
   "id": "dcad5a5a",
   "metadata": {},
   "source": [
    "So more men have a higher income compared to the rest. This does make sense, since for a long time women have been paid less than their male counterpart (Aragão).\n",
    "So when that data shows that nearly 31% of the men of this dataset has an income bracket over 50k compared to the womans nearly 11%, it seem to follow that trend.  \n",
    "\\\n",
    "As for the races:"
   ]
  },
  {
   "cell_type": "code",
   "execution_count": 28,
   "id": "b10f555e",
   "metadata": {},
   "outputs": [
    {
     "name": "stdout",
     "output_type": "stream",
     "text": [
      "income_bracket (over 50k)      False      True \n",
      "race                                           \n",
      "Amer-Indian-Eskimo         88.424437  11.575563\n",
      "Asian-Pac-Islander         73.435996  26.564004\n",
      "Black                      87.612036  12.387964\n",
      "Other                      90.774908   9.225092\n",
      "White                      74.414006  25.585994\n"
     ]
    },
    {
     "data": {
      "image/png": "[encoded data removed]",
      "text/plain": [
       "<Figure size 640x480 with 1 Axes>"
      ]
     },
     "metadata": {},
     "output_type": "display_data"
    }
   ],
   "source": [
    "grp = df.groupby([\"race\", \"income_bracket (over 50k)\"]).size()\n",
    "grp = grp.unstack()\n",
    "grp = grp.div(grp.sum(axis=1), axis=0) * 100\n",
    "\n",
    "print(grp)\n",
    "\n",
    "grp.plot(kind=\"bar\")\n",
    "plt.title(\"Income by race\")\n",
    "plt.xlabel(\"Race\")\n",
    "plt.ylabel(\"%\")\n",
    "plt.show()"
   ]
  },
  {
   "cell_type": "markdown",
   "id": "9cd977ba",
   "metadata": {},
   "source": [
    "What we can see from the data, is that asian and white has a lot more income compared to the other races, like we saw at the of the analysis. \\\n",
    "This also lines up with how reality sees it, according to this report (“Median Household Income by Race and Ethnicity U.S. 2023”). \\\n",
    "So as original seen at the start, it would appear that asian and white male holds the money.\n",
    "\n",
    "\n",
    "To further understand the relationship between education and workclass, lets look at at where people to work at, based on their education.   "
   ]
  },
  {
   "cell_type": "code",
   "execution_count": null,
   "id": "807df71c",
   "metadata": {},
   "outputs": [
    {
     "data": {
      "image/png": "[encoded data removed]",
      "text/plain": [
       "<Figure size 2000x800 with 1 Axes>"
      ]
     },
     "metadata": {},
     "output_type": "display_data"
    }
   ],
   "source": [
    "counts = df.groupby([\"education\", \"workclass\"]).size().reset_index(name=\"count\")\n",
    "\n",
    "# Getting the total of education\n",
    "# tranforms(\"sum\") takes the sum from the groupby from each row.\n",
    "total = counts.groupby(\"education\")[\"count\"].transform(\"sum\")\n",
    "\n",
    "# Makes a column, percentage, that has the percentage for each.\n",
    "counts[\"percentage\"] = 100 * counts[\"count\"] / total\n",
    "# print(counts[\"percentage\"])\n",
    "\n",
    "pivot_df = counts.pivot(index=\"education\", columns=\"workclass\", values=\"percentage\")\n",
    "\n",
    "pivot_df.plot(kind=\"bar\", stacked=True, figsize=(20, 8))\n",
    "plt.title(\"Distribution of Workclasses by Education\")\n",
    "plt.ylabel('Percentage')\n",
    "plt.xlabel(\"Education\")\n",
    "plt.legend(title=\"Workclasses\", bbox_to_anchor=(1.05, 1), loc=\"upper left\")\n",
    "plt.tight_layout()\n",
    "plt.show()"
   ]
  },
  {
   "cell_type": "markdown",
   "id": "0c4447da",
   "metadata": {},
   "source": [
    "It seems that most goes to the private sector, but as seen in the exploration part, the private sector is very much a big factor. If we look at this pdf (Carroll), we see that most people join the private sector compared to the public. This is very much also the case for this data. \n",
    "\n",
    "But how does different workclasses compare when it comes to their income? let have a look."
   ]
  },
  {
   "cell_type": "code",
   "execution_count": 30,
   "id": "45616df0",
   "metadata": {},
   "outputs": [
    {
     "data": {
      "text/html": [
       "<div>\n",
       "<style scoped>\n",
       "    .dataframe tbody tr th:only-of-type {\n",
       "        vertical-align: middle;\n",
       "    }\n",
       "\n",
       "    .dataframe tbody tr th {\n",
       "        vertical-align: top;\n",
       "    }\n",
       "\n",
       "    .dataframe thead th {\n",
       "        text-align: right;\n",
       "    }\n",
       "</style>\n",
       "<table border=\"1\" class=\"dataframe\">\n",
       "  <thead>\n",
       "    <tr style=\"text-align: right;\">\n",
       "      <th>income_bracket (over 50k)</th>\n",
       "      <th>False</th>\n",
       "      <th>True</th>\n",
       "    </tr>\n",
       "    <tr>\n",
       "      <th>workclass</th>\n",
       "      <th></th>\n",
       "      <th></th>\n",
       "    </tr>\n",
       "  </thead>\n",
       "  <tbody>\n",
       "    <tr>\n",
       "      <th>Federal-gov</th>\n",
       "      <td>61.354167</td>\n",
       "      <td>38.645833</td>\n",
       "    </tr>\n",
       "    <tr>\n",
       "      <th>Local-gov</th>\n",
       "      <td>70.520784</td>\n",
       "      <td>29.479216</td>\n",
       "    </tr>\n",
       "    <tr>\n",
       "      <th>Never-worked</th>\n",
       "      <td>100.000000</td>\n",
       "      <td>NaN</td>\n",
       "    </tr>\n",
       "    <tr>\n",
       "      <th>Private</th>\n",
       "      <td>78.132711</td>\n",
       "      <td>21.867289</td>\n",
       "    </tr>\n",
       "    <tr>\n",
       "      <th>Self-emp-inc</th>\n",
       "      <td>44.265233</td>\n",
       "      <td>55.734767</td>\n",
       "    </tr>\n",
       "    <tr>\n",
       "      <th>Self-emp-not-inc</th>\n",
       "      <td>71.507281</td>\n",
       "      <td>28.492719</td>\n",
       "    </tr>\n",
       "    <tr>\n",
       "      <th>State-gov</th>\n",
       "      <td>72.804314</td>\n",
       "      <td>27.195686</td>\n",
       "    </tr>\n",
       "    <tr>\n",
       "      <th>Unknown</th>\n",
       "      <td>89.596950</td>\n",
       "      <td>10.403050</td>\n",
       "    </tr>\n",
       "    <tr>\n",
       "      <th>Without-pay</th>\n",
       "      <td>100.000000</td>\n",
       "      <td>NaN</td>\n",
       "    </tr>\n",
       "  </tbody>\n",
       "</table>\n",
       "</div>"
      ],
      "text/plain": [
       "income_bracket (over 50k)       False      True \n",
       "workclass                                       \n",
       "Federal-gov                 61.354167  38.645833\n",
       "Local-gov                   70.520784  29.479216\n",
       "Never-worked               100.000000        NaN\n",
       "Private                     78.132711  21.867289\n",
       "Self-emp-inc                44.265233  55.734767\n",
       "Self-emp-not-inc            71.507281  28.492719\n",
       "State-gov                   72.804314  27.195686\n",
       "Unknown                     89.596950  10.403050\n",
       "Without-pay                100.000000        NaN"
      ]
     },
     "execution_count": 30,
     "metadata": {},
     "output_type": "execute_result"
    }
   ],
   "source": [
    "grp = df.groupby([\"workclass\", \"income_bracket (over 50k)\"]).size().unstack()\n",
    "grp = grp.div(grp.sum(axis=1), axis=0) * 100\n",
    "grp"
   ]
  },
  {
   "cell_type": "markdown",
   "id": "698aefec",
   "metadata": {},
   "source": [
    "Seems that the private sector doesn't hold the highest income, given that Self employment is the highest and is part of the private sector, it would seem that one sector have stronger chance of reaching a better income. \n",
    "\n",
    "Let check if the races also trend to favor the private sector."
   ]
  },
  {
   "cell_type": "code",
   "execution_count": null,
   "id": "6b347cf5",
   "metadata": {},
   "outputs": [
    {
     "data": {
      "text/html": [
       "<div>\n",
       "<style scoped>\n",
       "    .dataframe tbody tr th:only-of-type {\n",
       "        vertical-align: middle;\n",
       "    }\n",
       "\n",
       "    .dataframe tbody tr th {\n",
       "        vertical-align: top;\n",
       "    }\n",
       "\n",
       "    .dataframe thead th {\n",
       "        text-align: right;\n",
       "    }\n",
       "</style>\n",
       "<table border=\"1\" class=\"dataframe\">\n",
       "  <thead>\n",
       "    <tr style=\"text-align: right;\">\n",
       "      <th>workclass</th>\n",
       "      <th>Federal-gov</th>\n",
       "      <th>Local-gov</th>\n",
       "      <th>Never-worked</th>\n",
       "      <th>Private</th>\n",
       "      <th>Self-emp-inc</th>\n",
       "      <th>Self-emp-not-inc</th>\n",
       "      <th>State-gov</th>\n",
       "      <th>Unknown</th>\n",
       "      <th>Without-pay</th>\n",
       "    </tr>\n",
       "    <tr>\n",
       "      <th>race</th>\n",
       "      <th></th>\n",
       "      <th></th>\n",
       "      <th></th>\n",
       "      <th></th>\n",
       "      <th></th>\n",
       "      <th></th>\n",
       "      <th></th>\n",
       "      <th></th>\n",
       "      <th></th>\n",
       "    </tr>\n",
       "  </thead>\n",
       "  <tbody>\n",
       "    <tr>\n",
       "      <th>Amer-Indian-Eskimo</th>\n",
       "      <td>19.0</td>\n",
       "      <td>36.0</td>\n",
       "      <td>NaN</td>\n",
       "      <td>190.0</td>\n",
       "      <td>2.0</td>\n",
       "      <td>24.0</td>\n",
       "      <td>15.0</td>\n",
       "      <td>25.0</td>\n",
       "      <td>NaN</td>\n",
       "    </tr>\n",
       "    <tr>\n",
       "      <th>Asian-Pac-Islander</th>\n",
       "      <td>44.0</td>\n",
       "      <td>39.0</td>\n",
       "      <td>NaN</td>\n",
       "      <td>713.0</td>\n",
       "      <td>46.0</td>\n",
       "      <td>73.0</td>\n",
       "      <td>58.0</td>\n",
       "      <td>65.0</td>\n",
       "      <td>1.0</td>\n",
       "    </tr>\n",
       "    <tr>\n",
       "      <th>Black</th>\n",
       "      <td>169.0</td>\n",
       "      <td>288.0</td>\n",
       "      <td>2.0</td>\n",
       "      <td>2176.0</td>\n",
       "      <td>23.0</td>\n",
       "      <td>93.0</td>\n",
       "      <td>159.0</td>\n",
       "      <td>213.0</td>\n",
       "      <td>1.0</td>\n",
       "    </tr>\n",
       "    <tr>\n",
       "      <th>Other</th>\n",
       "      <td>7.0</td>\n",
       "      <td>10.0</td>\n",
       "      <td>NaN</td>\n",
       "      <td>213.0</td>\n",
       "      <td>5.0</td>\n",
       "      <td>9.0</td>\n",
       "      <td>4.0</td>\n",
       "      <td>23.0</td>\n",
       "      <td>NaN</td>\n",
       "    </tr>\n",
       "    <tr>\n",
       "      <th>White</th>\n",
       "      <td>721.0</td>\n",
       "      <td>1720.0</td>\n",
       "      <td>5.0</td>\n",
       "      <td>19404.0</td>\n",
       "      <td>1040.0</td>\n",
       "      <td>2342.0</td>\n",
       "      <td>1062.0</td>\n",
       "      <td>1510.0</td>\n",
       "      <td>12.0</td>\n",
       "    </tr>\n",
       "  </tbody>\n",
       "</table>\n",
       "</div>"
      ],
      "text/plain": [
       "workclass           Federal-gov  Local-gov  Never-worked  Private  \\\n",
       "race                                                                \n",
       "Amer-Indian-Eskimo         19.0       36.0           NaN    190.0   \n",
       "Asian-Pac-Islander         44.0       39.0           NaN    713.0   \n",
       "Black                     169.0      288.0           2.0   2176.0   \n",
       "Other                       7.0       10.0           NaN    213.0   \n",
       "White                     721.0     1720.0           5.0  19404.0   \n",
       "\n",
       "workclass           Self-emp-inc  Self-emp-not-inc  State-gov  Unknown  \\\n",
       "race                                                                     \n",
       "Amer-Indian-Eskimo           2.0              24.0       15.0     25.0   \n",
       "Asian-Pac-Islander          46.0              73.0       58.0     65.0   \n",
       "Black                       23.0              93.0      159.0    213.0   \n",
       "Other                        5.0               9.0        4.0     23.0   \n",
       "White                     1040.0            2342.0     1062.0   1510.0   \n",
       "\n",
       "workclass           Without-pay  \n",
       "race                             \n",
       "Amer-Indian-Eskimo          NaN  \n",
       "Asian-Pac-Islander          1.0  \n",
       "Black                       1.0  \n",
       "Other                       NaN  \n",
       "White                      12.0  "
      ]
     },
     "execution_count": 121,
     "metadata": {},
     "output_type": "execute_result"
    }
   ],
   "source": [
    "df.groupby(['race', 'workclass']).size().unstack()"
   ]
  },
  {
   "cell_type": "markdown",
   "id": "2c509433",
   "metadata": {},
   "source": [
    "More than other, people do favor private sector. But for this dataset, with it oversampling of whites, has also a tilt towards the private.\n",
    "\n",
    "Then maybe the reason for asian and white having a bigger income is because they live more in the private sector then the others?\n",
    "With this in mind let's see, if it possible to predict what sort of workplace, people will be in based on education, race and their occupation."
   ]
  },
  {
   "cell_type": "code",
   "execution_count": null,
   "id": "2751e15c",
   "metadata": {},
   "outputs": [
    {
     "name": "stdout",
     "output_type": "stream",
     "text": [
      "                  precision    recall  f1-score   support\n",
      "\n",
      "     Federal-gov       0.67      0.02      0.04       110\n",
      "       Local-gov       0.52      0.17      0.26       209\n",
      "    Never-worked       0.00      0.00      0.00         1\n",
      "         Private       0.75      0.97      0.85      2233\n",
      "    Self-emp-inc       0.00      0.00      0.00       120\n",
      "Self-emp-not-inc       0.47      0.16      0.24       279\n",
      "       State-gov       0.33      0.01      0.02       124\n",
      "         Unknown       0.99      1.00      1.00       180\n",
      "     Without-pay       0.00      0.00      0.00         1\n",
      "\n",
      "        accuracy                           0.75      3257\n",
      "       macro avg       0.42      0.26      0.27      3257\n",
      "    weighted avg       0.68      0.75      0.67      3257\n",
      "\n"
     ]
    },
    {
     "name": "stderr",
     "output_type": "stream",
     "text": [
      "C:\\Users\\Alexander\\AppData\\Local\\Packages\\PythonSoftwareFoundation.Python.3.11_qbz5n2kfra8p0\\LocalCache\\local-packages\\Python311\\site-packages\\sklearn\\metrics\\_classification.py:1565: UndefinedMetricWarning: Precision is ill-defined and being set to 0.0 in labels with no predicted samples. Use `zero_division` parameter to control this behavior.\n",
      "  _warn_prf(average, modifier, f\"{metric.capitalize()} is\", len(result))\n",
      "C:\\Users\\Alexander\\AppData\\Local\\Packages\\PythonSoftwareFoundation.Python.3.11_qbz5n2kfra8p0\\LocalCache\\local-packages\\Python311\\site-packages\\sklearn\\metrics\\_classification.py:1565: UndefinedMetricWarning: Precision is ill-defined and being set to 0.0 in labels with no predicted samples. Use `zero_division` parameter to control this behavior.\n",
      "  _warn_prf(average, modifier, f\"{metric.capitalize()} is\", len(result))\n",
      "C:\\Users\\Alexander\\AppData\\Local\\Packages\\PythonSoftwareFoundation.Python.3.11_qbz5n2kfra8p0\\LocalCache\\local-packages\\Python311\\site-packages\\sklearn\\metrics\\_classification.py:1565: UndefinedMetricWarning: Precision is ill-defined and being set to 0.0 in labels with no predicted samples. Use `zero_division` parameter to control this behavior.\n",
      "  _warn_prf(average, modifier, f\"{metric.capitalize()} is\", len(result))\n"
     ]
    }
   ],
   "source": [
    "from sklearn.preprocessing import LabelEncoder\n",
    "from sklearn.ensemble import RandomForestClassifier\n",
    "from sklearn.metrics import classification_report\n",
    "\n",
    "\n",
    "df_co = df.copy()\n",
    "\n",
    "\n",
    "X = df_co[[\"education\", \"race\", \"occupation\"]]\n",
    "y = df_co[\"workclass\"]\n",
    "\n",
    "\n",
    "X = pd.get_dummies(X)\n",
    "# print(X.columns)\n",
    "\n",
    "\n",
    "# LabelEncoder takes a columns with values like strings and changes them into numbers to work models like randomforest.\n",
    "# Idea from (“Label Encoding in Python”)\n",
    "le = LabelEncoder()\n",
    "y = le.fit_transform(y)\n",
    "# print(y_encoded)\n",
    "\n",
    "X_train, X_test, y_train, y_test = train_test_split(X, y, test_size=0.1, random_state=rng)\n",
    "model = RandomForestClassifier(random_state=rng)\n",
    "model.fit(X_train, y_train)\n",
    "preds = model.predict(X_test)\n",
    "\n",
    "\n",
    "labels_in_test = np.unique(y_test)\n",
    "print(classification_report(y_test, preds, labels=labels_in_test, target_names=le.classes_[labels_in_test]))"
   ]
  },
  {
   "cell_type": "markdown",
   "id": "97bf132b",
   "metadata": {},
   "source": [
    "For context, precision is asking out of all the predicted positives, how many were actually correct? And recall is out of all the actual positives, how many did we correctly predict? f1-score is the combination of precision and recall.\n",
    "\n",
    "Now given the low scores for most of the workclass options there is, this is not the best predictor. The high score of accuracy mostly because of Unknown and Private. Also the sample size for private is almost 10 times the size of all the others. Let's minizise the amount of private sample so as to not train the model to only focus on private."
   ]
  },
  {
   "cell_type": "code",
   "execution_count": 140,
   "id": "33d2d140",
   "metadata": {},
   "outputs": [
    {
     "name": "stdout",
     "output_type": "stream",
     "text": [
      "                  precision    recall  f1-score   support\n",
      "\n",
      "     Federal-gov       0.39      0.30      0.34        91\n",
      "       Local-gov       0.47      0.56      0.51       218\n",
      "         Private       0.33      0.15      0.21       125\n",
      "    Self-emp-inc       0.27      0.26      0.26       100\n",
      "Self-emp-not-inc       0.45      0.62      0.52       250\n",
      "       State-gov       0.28      0.20      0.23       133\n",
      "         Unknown       1.00      1.00      1.00       190\n",
      "     Without-pay       0.00      0.00      0.00         3\n",
      "\n",
      "        accuracy                           0.51      1110\n",
      "       macro avg       0.40      0.39      0.38      1110\n",
      "    weighted avg       0.49      0.51      0.49      1110\n",
      "\n"
     ]
    },
    {
     "name": "stderr",
     "output_type": "stream",
     "text": [
      "C:\\Users\\Alexander\\AppData\\Local\\Packages\\PythonSoftwareFoundation.Python.3.11_qbz5n2kfra8p0\\LocalCache\\local-packages\\Python311\\site-packages\\sklearn\\metrics\\_classification.py:1565: UndefinedMetricWarning: Precision is ill-defined and being set to 0.0 in labels with no predicted samples. Use `zero_division` parameter to control this behavior.\n",
      "  _warn_prf(average, modifier, f\"{metric.capitalize()} is\", len(result))\n",
      "C:\\Users\\Alexander\\AppData\\Local\\Packages\\PythonSoftwareFoundation.Python.3.11_qbz5n2kfra8p0\\LocalCache\\local-packages\\Python311\\site-packages\\sklearn\\metrics\\_classification.py:1565: UndefinedMetricWarning: Precision is ill-defined and being set to 0.0 in labels with no predicted samples. Use `zero_division` parameter to control this behavior.\n",
      "  _warn_prf(average, modifier, f\"{metric.capitalize()} is\", len(result))\n",
      "C:\\Users\\Alexander\\AppData\\Local\\Packages\\PythonSoftwareFoundation.Python.3.11_qbz5n2kfra8p0\\LocalCache\\local-packages\\Python311\\site-packages\\sklearn\\metrics\\_classification.py:1565: UndefinedMetricWarning: Precision is ill-defined and being set to 0.0 in labels with no predicted samples. Use `zero_division` parameter to control this behavior.\n",
      "  _warn_prf(average, modifier, f\"{metric.capitalize()} is\", len(result))\n"
     ]
    }
   ],
   "source": [
    "df_co = df.copy()\n",
    "\n",
    "# let split the data on privates, so we can find the general mean for better testing\n",
    "pdf = df_co[df_co['workclass'] == 'Private']\n",
    "ndf = df_co[df_co['workclass'] != 'Private']\n",
    "\n",
    "# using the mean of all the other values, we can use that number for our sample size.\n",
    "mean_s = int(ndf['workclass'].value_counts().mean())\n",
    "small_Pri = pdf.sample(n=mean_s, random_state=rng)\n",
    "\n",
    "# concat combines these two dataset again\n",
    "balance = pd.concat([ndf, small_Pri])\n",
    "balance = balance.sample(frac=1, random_state=rng)\n",
    "\n",
    "# the rest is the same as before\n",
    "X = balance[[\"education\", \"race\", \"occupation\"]]\n",
    "y = balance[\"workclass\"]\n",
    "\n",
    "X = pd.get_dummies(X)\n",
    "le = LabelEncoder()\n",
    "y_encoded = le.fit_transform(y)\n",
    "\n",
    "X_train, X_test, y_train, y_test = train_test_split(X, y_encoded, test_size=0.1, random_state=rng)\n",
    "\n",
    "model = RandomForestClassifier(random_state=rng)\n",
    "model.fit(X_train, y_train)\n",
    "y_pred = model.predict(X_test)\n",
    "\n",
    "labels_in_test = np.unique(y_test)\n",
    "print(classification_report(y_test, y_pred, labels=labels_in_test, target_names=le.classes_[labels_in_test]))"
   ]
  },
  {
   "cell_type": "markdown",
   "id": "f9f724ba",
   "metadata": {},
   "source": [
    "This is a much better way to build the model, but the problem still remains. \\\n",
    "Although taking out some numbers of private samples leads to a better trained model, the overall prediction for most workclass is still quite low. This mean that columns like education, race, and occupation doesn't give enough information to predict a person's workclass.  \n",
    "\n",
    "Overall, this shows that predicting workclass outcomes is quite complex and shows the limitations of the current data for this prediction."
   ]
  },
  {
   "cell_type": "markdown",
   "id": "f37b091d",
   "metadata": {},
   "source": [
    "## Conclusion\n",
    "\n",
    "So does your social situation changes your income? in short, yes and no. When we looked into factors such as the amount of people from different races having lower income, there was a clear tilt toward asian and white. Also the same for gender, with males leading the money front. Given that the data is from 1994 it would indicate that the social norm is quite different compared to today. But many of these trends seen here, is still very much part of today's world. The private sector still have it's hold on the income, and most people also find themselves working in that sector.\n",
    "\n",
    "In short, the data shows that things like race, gender, and education do affect income and what jobs people have, but they don’t tell the whole story. There are many other factors that this dataset doesn’t include, so we can’t predict everything about a person’s work or income just from these details."
   ]
  },
  {
   "cell_type": "markdown",
   "id": "1b7f1726",
   "metadata": {},
   "source": [
    "## Reference\n",
    "\n",
    "- Aragão, Richard Fry and Carolina. “Gender Pay Gap in U.S. Has Narrowed Slightly over 2 Decades.” Pew Research Center, 4 Mar. 2025, https://www.pewresearch.org/short-reads/2025/03/04/gender-pay-gap-in-us-has-narrowed-slightly-over-2-decades/.\n",
    "\n",
    "- Baseline - Get Dummies and Random Forest. https://kaggle.com/code/socathie/baseline-get-dummies-and-random-forest.\n",
    "\n",
    "- Carroll, Robert. Distribution of Private and Public Company Employment across the United States.\n",
    "\n",
    "- Holtz, Yan. “Percentage Stacked Area Chart.” The Python Graph Gallery, https://python-graph-gallery.com/255-percentage-stacked-area-chart/.\n",
    "\n",
    "- “Label Encoding in Python.” GeeksforGeeks, https://www.geeksforgeeks.org/ml-label-encoding-of-datasets-in-python/.\n",
    "\n",
    "- “Median Household Income by Race and Ethnicity U.S. 2023.” Statista, https://www.statista.com/statistics/233324/median-household-income-in-the-united-states-by-race-or-ethnic-group/.\n",
    "\n",
    "- “Pandas GroupBy - Unstack.” GeeksforGeeks, https://www.geeksforgeeks.org/pandas-groupby-unstack/.\n",
    "\n",
    "- “The Productivity–Pay Gap.” Economic Policy Institute, https://www.epi.org/productivity-pay-gap/.\n"
   ]
  }
 ],
 "metadata": {
  "kernelspec": {
   "display_name": "Python 3",
   "language": "python",
   "name": "python3"
  },
  "language_info": {
   "codemirror_mode": {
    "name": "ipython",
    "version": 3
   },
   "file_extension": ".py",
   "mimetype": "text/x-python",
   "name": "python",
   "nbconvert_exporter": "python",
   "pygments_lexer": "ipython3",
   "version": "3.11.9"
  }
 },
 "nbformat": 4,
 "nbformat_minor": 5
}
