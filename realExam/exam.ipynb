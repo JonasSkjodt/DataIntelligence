{
 "cells": [
  {
   "cell_type": "markdown",
   "id": "e2c0f6bc",
   "metadata": {},
   "source": [
    "# Data Intelligence Exam\n",
    "\n",
    "Jonas Skjødt | skjo@itu.dk | Date: 2025-26-05  \n",
    "\n",
    "## Introduction\n",
    "\n",
    "This report analyzes the census-1994.csv dataset. As per the description of the dataset: \"Census data from USA gathered in 1994. Contains demographic information about US citizens. These values are self-reported by the participating citizens.\" Although the values are self-reported, for this report it is assumed the values are true.\n",
    "\n",
    "The report goes through the technologies used to understand the data, followed by sections which explore the data set to see what it holds. The report then adds questions to test the data set with, followed by preprocessing its data. Once preprocessed, the data set is then examined by looking at data relationships, analyzed through these data relationships, and then followed by a conclusion."
   ]
  },
  {
   "cell_type": "code",
   "execution_count": 67,
   "id": "246cedc4",
   "metadata": {},
   "outputs": [],
   "source": [
    "import pandas as pd\n",
    "import seaborn as sns\n",
    "import matplotlib.pyplot as plt\n",
    "from sklearn.linear_model import LinearRegression"
   ]
  },
  {
   "cell_type": "markdown",
   "id": "a6b47f6b",
   "metadata": {},
   "source": [
    "We import the libraries we need to extract data from the csv. We use the Pandas library for data manipulation, and Seaborn and MapPlotLib for visual presentation. From sklearn.linear_model we'll import LinearRegression for regression plots."
   ]
  },
  {
   "cell_type": "markdown",
   "id": "3bc5cf5c",
   "metadata": {},
   "source": [
    "# Exploration\n",
    "In the exploration phase, we'll superficially look through the data set. We'll be using data manipulation such as df.columns.tolist() to look at the column names, df.head() to see the five first values of each column, value_counts() which returns the count of unique values in a column, and df.describe() to summarize the central tendencies of a column.\n",
    "\n",
    "As a start, let's make sure the columns match the handed out description of what the data set entails."
   ]
  },
  {
   "cell_type": "code",
   "execution_count": 68,
   "id": "1866efb7",
   "metadata": {},
   "outputs": [
    {
     "data": {
      "text/plain": [
       "['age',\n",
       " 'workclass',\n",
       " 'education',\n",
       " 'marital_status',\n",
       " 'occupation',\n",
       " 'relationship',\n",
       " 'race',\n",
       " 'gender',\n",
       " 'capital_gain',\n",
       " 'capital_loss',\n",
       " 'hours_per_week',\n",
       " 'native_country',\n",
       " 'income_bracket']"
      ]
     },
     "execution_count": 68,
     "metadata": {},
     "output_type": "execute_result"
    }
   ],
   "source": [
    "df = pd.read_csv('census-1994.csv')\n",
    "df.columns.tolist()"
   ]
  },
  {
   "cell_type": "markdown",
   "id": "49406ee3",
   "metadata": {},
   "source": [
    "The correct columns are all there, let's continue the exploration. We'll use head() to see the first five values of each column."
   ]
  },
  {
   "cell_type": "code",
   "execution_count": 69,
   "id": "f7e5cc3e",
   "metadata": {},
   "outputs": [
    {
     "data": {
      "text/html": [
       "<div>\n",
       "<style scoped>\n",
       "    .dataframe tbody tr th:only-of-type {\n",
       "        vertical-align: middle;\n",
       "    }\n",
       "\n",
       "    .dataframe tbody tr th {\n",
       "        vertical-align: top;\n",
       "    }\n",
       "\n",
       "    .dataframe thead th {\n",
       "        text-align: right;\n",
       "    }\n",
       "</style>\n",
       "<table border=\"1\" class=\"dataframe\">\n",
       "  <thead>\n",
       "    <tr style=\"text-align: right;\">\n",
       "      <th></th>\n",
       "      <th>age</th>\n",
       "      <th>workclass</th>\n",
       "      <th>education</th>\n",
       "      <th>marital_status</th>\n",
       "      <th>occupation</th>\n",
       "      <th>relationship</th>\n",
       "      <th>race</th>\n",
       "      <th>gender</th>\n",
       "      <th>capital_gain</th>\n",
       "      <th>capital_loss</th>\n",
       "      <th>hours_per_week</th>\n",
       "      <th>native_country</th>\n",
       "      <th>income_bracket</th>\n",
       "    </tr>\n",
       "  </thead>\n",
       "  <tbody>\n",
       "    <tr>\n",
       "      <th>0</th>\n",
       "      <td>39</td>\n",
       "      <td>State-gov</td>\n",
       "      <td>Bachelors</td>\n",
       "      <td>Never-married</td>\n",
       "      <td>Adm-clerical</td>\n",
       "      <td>Not-in-family</td>\n",
       "      <td>White</td>\n",
       "      <td>Male</td>\n",
       "      <td>2174</td>\n",
       "      <td>0</td>\n",
       "      <td>40</td>\n",
       "      <td>United-States</td>\n",
       "      <td>&lt;=50K</td>\n",
       "    </tr>\n",
       "    <tr>\n",
       "      <th>1</th>\n",
       "      <td>50</td>\n",
       "      <td>Self-emp-not-inc</td>\n",
       "      <td>Bachelors</td>\n",
       "      <td>Married-civ-spouse</td>\n",
       "      <td>Exec-managerial</td>\n",
       "      <td>Husband</td>\n",
       "      <td>White</td>\n",
       "      <td>Male</td>\n",
       "      <td>0</td>\n",
       "      <td>0</td>\n",
       "      <td>13</td>\n",
       "      <td>United-States</td>\n",
       "      <td>&lt;=50K</td>\n",
       "    </tr>\n",
       "    <tr>\n",
       "      <th>2</th>\n",
       "      <td>38</td>\n",
       "      <td>Private</td>\n",
       "      <td>HS-grad</td>\n",
       "      <td>Divorced</td>\n",
       "      <td>Handlers-cleaners</td>\n",
       "      <td>Not-in-family</td>\n",
       "      <td>White</td>\n",
       "      <td>Male</td>\n",
       "      <td>0</td>\n",
       "      <td>0</td>\n",
       "      <td>40</td>\n",
       "      <td>United-States</td>\n",
       "      <td>&lt;=50K</td>\n",
       "    </tr>\n",
       "    <tr>\n",
       "      <th>3</th>\n",
       "      <td>53</td>\n",
       "      <td>Private</td>\n",
       "      <td>11th</td>\n",
       "      <td>Married-civ-spouse</td>\n",
       "      <td>Handlers-cleaners</td>\n",
       "      <td>Husband</td>\n",
       "      <td>Black</td>\n",
       "      <td>Male</td>\n",
       "      <td>0</td>\n",
       "      <td>0</td>\n",
       "      <td>40</td>\n",
       "      <td>United-States</td>\n",
       "      <td>&lt;=50K</td>\n",
       "    </tr>\n",
       "    <tr>\n",
       "      <th>4</th>\n",
       "      <td>28</td>\n",
       "      <td>Private</td>\n",
       "      <td>Bachelors</td>\n",
       "      <td>Married-civ-spouse</td>\n",
       "      <td>Prof-specialty</td>\n",
       "      <td>Wife</td>\n",
       "      <td>Black</td>\n",
       "      <td>Female</td>\n",
       "      <td>0</td>\n",
       "      <td>0</td>\n",
       "      <td>40</td>\n",
       "      <td>Cuba</td>\n",
       "      <td>&lt;=50K</td>\n",
       "    </tr>\n",
       "  </tbody>\n",
       "</table>\n",
       "</div>"
      ],
      "text/plain": [
       "   age          workclass   education       marital_status  \\\n",
       "0   39          State-gov   Bachelors        Never-married   \n",
       "1   50   Self-emp-not-inc   Bachelors   Married-civ-spouse   \n",
       "2   38            Private     HS-grad             Divorced   \n",
       "3   53            Private        11th   Married-civ-spouse   \n",
       "4   28            Private   Bachelors   Married-civ-spouse   \n",
       "\n",
       "           occupation    relationship    race   gender  capital_gain  \\\n",
       "0        Adm-clerical   Not-in-family   White     Male          2174   \n",
       "1     Exec-managerial         Husband   White     Male             0   \n",
       "2   Handlers-cleaners   Not-in-family   White     Male             0   \n",
       "3   Handlers-cleaners         Husband   Black     Male             0   \n",
       "4      Prof-specialty            Wife   Black   Female             0   \n",
       "\n",
       "   capital_loss  hours_per_week  native_country income_bracket  \n",
       "0             0              40   United-States          <=50K  \n",
       "1             0              13   United-States          <=50K  \n",
       "2             0              40   United-States          <=50K  \n",
       "3             0              40   United-States          <=50K  \n",
       "4             0              40            Cuba          <=50K  "
      ]
     },
     "execution_count": 69,
     "metadata": {},
     "output_type": "execute_result"
    }
   ],
   "source": [
    "df.head()"
   ]
  },
  {
   "cell_type": "code",
   "execution_count": 70,
   "id": "d599f732",
   "metadata": {},
   "outputs": [
    {
     "name": "stdout",
     "output_type": "stream",
     "text": [
      "education\n",
      "HS-grad         10199\n",
      "Some-college     7044\n",
      "Bachelors        5160\n",
      "Masters          1669\n",
      "Assoc-voc        1347\n",
      "11th             1124\n",
      "?                1043\n",
      "Assoc-acdm       1031\n",
      "10th              914\n",
      "7th-8th           625\n",
      "Prof-school       560\n",
      "9th               498\n",
      "12th              415\n",
      "Doctorate         404\n",
      "5th-6th           320\n",
      "1st-4th           158\n",
      "Preschool          50\n",
      "Name: count, dtype: int64\n",
      "\n",
      " workclass\n",
      "Private             22696\n",
      "Self-emp-not-inc     2541\n",
      "Local-gov            2093\n",
      "?                    1836\n",
      "State-gov            1298\n",
      "Self-emp-inc         1116\n",
      "Federal-gov           960\n",
      "Without-pay            14\n",
      "Never-worked            7\n",
      "Name: count, dtype: int64\n"
     ]
    }
   ],
   "source": [
    "educationColumn = df['education'].value_counts()\n",
    "print(educationColumn)\n",
    "\n",
    "workclassColumn = df['workclass'].value_counts()\n",
    "print('\\n', workclassColumn)"
   ]
  },
  {
   "cell_type": "markdown",
   "id": "36ec9805",
   "metadata": {},
   "source": [
    "Most of the individuals in this dataset have a high school education level, or some college. The workclass shows most work in private companies."
   ]
  },
  {
   "cell_type": "code",
   "execution_count": 71,
   "id": "8376d4d9",
   "metadata": {},
   "outputs": [
    {
     "name": "stdout",
     "output_type": "stream",
     "text": [
      "count    32561.000000\n",
      "mean      1077.648844\n",
      "std       7385.292085\n",
      "min          0.000000\n",
      "25%          0.000000\n",
      "50%          0.000000\n",
      "75%          0.000000\n",
      "max      99999.000000\n",
      "Name: capital_gain, dtype: float64\n"
     ]
    }
   ],
   "source": [
    "count1 = df['capital_gain'].describe()\n",
    "print(count1)"
   ]
  },
  {
   "cell_type": "markdown",
   "id": "6ebb6c40",
   "metadata": {},
   "source": [
    "In the describe(), we notice values as \"count\" (how many unique values there are), \"mean\" (the mean of all values), std (standard deviation, where it shows a massive jump from its mean - this shows the presence of potential outliers) and a max of 99999.\n",
    "There seems to be some values marked as \" ?\" in different columns. The question mark is outlined in multiple other columns, such as \" education\" and \" workclass\". We'll take care of the missing values in the preproccessing later. Let's take a quick look at the capital_gain column visually, the max number stands out. We'll use Seaborn here to visualize the distribution through a histplot."
   ]
  },
  {
   "cell_type": "code",
   "execution_count": 72,
   "id": "2c178196",
   "metadata": {},
   "outputs": [
    {
     "data": {
      "text/plain": [
       "Text(0.5, 1.0, 'Non Zero Capital Gains')"
      ]
     },
     "execution_count": 72,
     "metadata": {},
     "output_type": "execute_result"
    },
    {
     "data": {
      "image/png": "[encoded data removed]",
      "text/plain": [
       "<Figure size 1200x400 with 1 Axes>"
      ]
     },
     "metadata": {},
     "output_type": "display_data"
    }
   ],
   "source": [
    "plt.figure(figsize=(12,4))\n",
    "sns.histplot(df[df['capital_gain'] > 0] ['capital_gain'])\n",
    "plt.title('Non Zero Capital Gains')"
   ]
  },
  {
   "cell_type": "markdown",
   "id": "b78d9512",
   "metadata": {},
   "source": [
    "In the data, 99999 shows as the max value - which could indicate that thats the capped max value. There is also the possibility that the legacy systems of 1994 had fixed numeric inputs. However, for this assignment, let's assume it was capped for a reason, perhaps as a display for anonymonity for the very wealthy. Let's make a test to see how many it has."
   ]
  },
  {
   "cell_type": "code",
   "execution_count": 73,
   "id": "4e515e38",
   "metadata": {},
   "outputs": [
    {
     "name": "stdout",
     "output_type": "stream",
     "text": [
      "Amount of 99999: 159\n"
     ]
    }
   ],
   "source": [
    "print(f\"Amount of 99999: {(df['capital_gain'] == 99999).sum()}\")"
   ]
  },
  {
   "cell_type": "markdown",
   "id": "380877e5",
   "metadata": {},
   "source": [
    "There are 159 values at the number 99999, it has less of a chance to be a regular outlier then (more than a hundred have the number applied)\n",
    "\n",
    "Let's explore further, do we see the same trends in the column capital_loss?"
   ]
  },
  {
   "cell_type": "code",
   "execution_count": 74,
   "id": "414bf252",
   "metadata": {},
   "outputs": [
    {
     "name": "stdout",
     "output_type": "stream",
     "text": [
      "count    32561.000000\n",
      "mean        87.303830\n",
      "std        402.960219\n",
      "min          0.000000\n",
      "25%          0.000000\n",
      "50%          0.000000\n",
      "75%          0.000000\n",
      "max       4356.000000\n",
      "Name: capital_loss, dtype: float64\n",
      "Percentage top: 0.49%\n",
      "Capital loss max: 4356\n"
     ]
    }
   ],
   "source": [
    "print(df['capital_loss'].describe())\n",
    "\n",
    "# Check if 99999 is with what we expect\n",
    "top = df[df['capital_gain'] == 99999]\n",
    "print(f\"Percentage top: {len(top)/len(df):.2%}\")\n",
    "\n",
    "# Compare\n",
    "print(f\"Capital loss max: {df['capital_loss'].max()}\")"
   ]
  },
  {
   "cell_type": "markdown",
   "id": "70e6b17e",
   "metadata": {},
   "source": [
    "99999 does not show in the capital_loss column. Although the number 99999 looks like an outlier, there is a chance that bias could be introduced to the dataset if the value is removed. The existence of wealthy high earners seems to be represented by the capped 99999 number.\n",
    "\n",
    "Otherwise there doesnt seem to be any suspicious numbers in the capital_loss column, as its max is set at 4356.\n",
    "\n",
    "Continuing on in the dataset, let's explore the gender column."
   ]
  },
  {
   "cell_type": "code",
   "execution_count": 75,
   "id": "0c748fee",
   "metadata": {},
   "outputs": [
    {
     "data": {
      "text/plain": [
       "gender\n",
       "Male      20741\n",
       "Female    10262\n",
       "?          1558\n",
       "Name: count, dtype: int64"
      ]
     },
     "execution_count": 75,
     "metadata": {},
     "output_type": "execute_result"
    }
   ],
   "source": [
    "df['gender'].value_counts()"
   ]
  },
  {
   "cell_type": "markdown",
   "id": "d0d4e681",
   "metadata": {},
   "source": [
    "The gender has an overreprecentation of Male compared to female, and some genders are marked as \"?\"."
   ]
  },
  {
   "cell_type": "code",
   "execution_count": 76,
   "id": "00876f60",
   "metadata": {},
   "outputs": [
    {
     "data": {
      "text/plain": [
       "gender  income_bracket\n",
       "?       <=50K             0.789474\n",
       "        >50K              0.210526\n",
       "Female  <=50K             0.890859\n",
       "        >50K              0.109141\n",
       "Male    <=50K             0.691770\n",
       "        >50K              0.308230\n",
       "Name: proportion, dtype: float64"
      ]
     },
     "execution_count": 76,
     "metadata": {},
     "output_type": "execute_result"
    }
   ],
   "source": [
    "df.groupby('gender')['income_bracket'].value_counts(normalize=True)"
   ]
  },
  {
   "cell_type": "markdown",
   "id": "a40288d9",
   "metadata": {},
   "source": [
    "The data shows the gender \"Female\" usually earns less than the gender \"Male\". 30.8% of the \"Male\" gender earns above 50k where \"Female\" only has 10.9% earning above 50k. Let's explore the income_bracket column further."
   ]
  },
  {
   "cell_type": "code",
   "execution_count": 77,
   "id": "1b9a0cf2",
   "metadata": {},
   "outputs": [
    {
     "data": {
      "text/plain": [
       "income_bracket\n",
       "<=50K    0.75919\n",
       ">50K     0.24081\n",
       "Name: proportion, dtype: float64"
      ]
     },
     "execution_count": 77,
     "metadata": {},
     "output_type": "execute_result"
    }
   ],
   "source": [
    "# use value_counts to get the percentage of the income_bracket column\n",
    "df['income_bracket'].value_counts(normalize=True)"
   ]
  },
  {
   "cell_type": "markdown",
   "id": "c1f9357a",
   "metadata": {},
   "source": [
    "The income_bracket indicates that over 75% of the data set individuals have an income below 50k. Perhaps its because of lack of skill completed through education. "
   ]
  },
  {
   "cell_type": "code",
   "execution_count": 78,
   "id": "742b65e5",
   "metadata": {},
   "outputs": [
    {
     "data": {
      "text/html": [
       "<div>\n",
       "<style scoped>\n",
       "    .dataframe tbody tr th:only-of-type {\n",
       "        vertical-align: middle;\n",
       "    }\n",
       "\n",
       "    .dataframe tbody tr th {\n",
       "        vertical-align: top;\n",
       "    }\n",
       "\n",
       "    .dataframe thead th {\n",
       "        text-align: right;\n",
       "    }\n",
       "</style>\n",
       "<table border=\"1\" class=\"dataframe\">\n",
       "  <thead>\n",
       "    <tr style=\"text-align: right;\">\n",
       "      <th>income_bracket</th>\n",
       "      <th>&lt;=50K</th>\n",
       "      <th>&gt;50K</th>\n",
       "    </tr>\n",
       "    <tr>\n",
       "      <th>education</th>\n",
       "      <th></th>\n",
       "      <th></th>\n",
       "    </tr>\n",
       "  </thead>\n",
       "  <tbody>\n",
       "    <tr>\n",
       "      <th>10th</th>\n",
       "      <td>0.934354</td>\n",
       "      <td>0.065646</td>\n",
       "    </tr>\n",
       "    <tr>\n",
       "      <th>11th</th>\n",
       "      <td>0.947509</td>\n",
       "      <td>0.052491</td>\n",
       "    </tr>\n",
       "    <tr>\n",
       "      <th>12th</th>\n",
       "      <td>0.925301</td>\n",
       "      <td>0.074699</td>\n",
       "    </tr>\n",
       "    <tr>\n",
       "      <th>1st-4th</th>\n",
       "      <td>0.962025</td>\n",
       "      <td>0.037975</td>\n",
       "    </tr>\n",
       "    <tr>\n",
       "      <th>5th-6th</th>\n",
       "      <td>0.950000</td>\n",
       "      <td>0.050000</td>\n",
       "    </tr>\n",
       "    <tr>\n",
       "      <th>7th-8th</th>\n",
       "      <td>0.939200</td>\n",
       "      <td>0.060800</td>\n",
       "    </tr>\n",
       "    <tr>\n",
       "      <th>9th</th>\n",
       "      <td>0.945783</td>\n",
       "      <td>0.054217</td>\n",
       "    </tr>\n",
       "    <tr>\n",
       "      <th>?</th>\n",
       "      <td>0.754554</td>\n",
       "      <td>0.245446</td>\n",
       "    </tr>\n",
       "    <tr>\n",
       "      <th>Assoc-acdm</th>\n",
       "      <td>0.752667</td>\n",
       "      <td>0.247333</td>\n",
       "    </tr>\n",
       "    <tr>\n",
       "      <th>Assoc-voc</th>\n",
       "      <td>0.736451</td>\n",
       "      <td>0.263549</td>\n",
       "    </tr>\n",
       "    <tr>\n",
       "      <th>Bachelors</th>\n",
       "      <td>0.587016</td>\n",
       "      <td>0.412984</td>\n",
       "    </tr>\n",
       "    <tr>\n",
       "      <th>Doctorate</th>\n",
       "      <td>0.257426</td>\n",
       "      <td>0.742574</td>\n",
       "    </tr>\n",
       "    <tr>\n",
       "      <th>HS-grad</th>\n",
       "      <td>0.841063</td>\n",
       "      <td>0.158937</td>\n",
       "    </tr>\n",
       "    <tr>\n",
       "      <th>Masters</th>\n",
       "      <td>0.442780</td>\n",
       "      <td>0.557220</td>\n",
       "    </tr>\n",
       "    <tr>\n",
       "      <th>Preschool</th>\n",
       "      <td>1.000000</td>\n",
       "      <td>0.000000</td>\n",
       "    </tr>\n",
       "    <tr>\n",
       "      <th>Prof-school</th>\n",
       "      <td>0.267857</td>\n",
       "      <td>0.732143</td>\n",
       "    </tr>\n",
       "    <tr>\n",
       "      <th>Some-college</th>\n",
       "      <td>0.808915</td>\n",
       "      <td>0.191085</td>\n",
       "    </tr>\n",
       "  </tbody>\n",
       "</table>\n",
       "</div>"
      ],
      "text/plain": [
       "income_bracket     <=50K      >50K\n",
       "education                         \n",
       "10th            0.934354  0.065646\n",
       "11th            0.947509  0.052491\n",
       "12th            0.925301  0.074699\n",
       "1st-4th         0.962025  0.037975\n",
       "5th-6th         0.950000  0.050000\n",
       "7th-8th         0.939200  0.060800\n",
       "9th             0.945783  0.054217\n",
       "?               0.754554  0.245446\n",
       "Assoc-acdm      0.752667  0.247333\n",
       "Assoc-voc       0.736451  0.263549\n",
       "Bachelors       0.587016  0.412984\n",
       "Doctorate       0.257426  0.742574\n",
       "HS-grad         0.841063  0.158937\n",
       "Masters         0.442780  0.557220\n",
       "Preschool       1.000000  0.000000\n",
       "Prof-school     0.267857  0.732143\n",
       "Some-college    0.808915  0.191085"
      ]
     },
     "execution_count": 78,
     "metadata": {},
     "output_type": "execute_result"
    }
   ],
   "source": [
    "# crosstab to see the relationship between education and income bracket\n",
    "pd.crosstab(df['education'], df['income_bracket'], normalize='index')"
   ]
  },
  {
   "cell_type": "markdown",
   "id": "17198f40",
   "metadata": {},
   "source": [
    "There seems to be a correlation between education and the amount of income. A doctorate has a higher chance of earning above 50k, compared to someone with a lower education, like 9th grade where 94.5% of individuals earn below 50k."
   ]
  },
  {
   "cell_type": "code",
   "execution_count": 79,
   "id": "d6782fc6",
   "metadata": {},
   "outputs": [
    {
     "data": {
      "text/plain": [
       "income_bracket\n",
       "<=50K    36.783738\n",
       ">50K     44.249841\n",
       "Name: age, dtype: float64"
      ]
     },
     "execution_count": 79,
     "metadata": {},
     "output_type": "execute_result"
    }
   ],
   "source": [
    "df.groupby('income_bracket')['age'].mean()"
   ]
  },
  {
   "cell_type": "markdown",
   "id": "14d1de95",
   "metadata": {},
   "source": [
    "Making a groupby with income_bracket and age shows there's also a tendency where those who are below 50k are usually younger than those who earn above 50k who are older. With a mean of 44, the data shows older individuals usually have more income. Let's continue exploring the race column."
   ]
  },
  {
   "cell_type": "code",
   "execution_count": 80,
   "id": "33509500",
   "metadata": {},
   "outputs": [
    {
     "data": {
      "text/plain": [
       "race\n",
       "White                 27816\n",
       "Black                  3124\n",
       "Asian-Pac-Islander     1039\n",
       "Amer-Indian-Eskimo      311\n",
       "Other                   271\n",
       "Name: count, dtype: int64"
      ]
     },
     "execution_count": 80,
     "metadata": {},
     "output_type": "execute_result"
    }
   ],
   "source": [
    "df['race'].value_counts()"
   ]
  },
  {
   "cell_type": "markdown",
   "id": "8fdc9671",
   "metadata": {},
   "source": [
    "The dataset seems to overrepresent the race \"White\" compared to the rest of the races. Knowing the history of USA and its racial tension, let's see what the educational level of the races \"White\" and \"Black\" are. "
   ]
  },
  {
   "cell_type": "code",
   "execution_count": 81,
   "id": "dacd5940",
   "metadata": {},
   "outputs": [
    {
     "name": "stdout",
     "output_type": "stream",
     "text": [
      "race   education   \n",
      "White  Bachelors       0.162029\n",
      "       HS-grad         0.311296\n",
      "       Some-college    0.215883\n",
      "       Masters         0.053530\n",
      "Black  Bachelors       0.102753\n",
      "       HS-grad         0.362356\n",
      "       Some-college    0.227273\n",
      "       Masters         0.026569\n",
      "Name: proportion, dtype: float64\n"
     ]
    }
   ],
   "source": [
    "# groupby race and education, then calculate the percentage of each education\n",
    "result = df.groupby('race')['education'].value_counts(normalize=True)\n",
    "# only show the top 4 education levels\n",
    "result = result.loc[:, [' Bachelors', ' HS-grad', ' Some-college', ' Masters']]\n",
    "# print only white and black\n",
    "print(result.loc[[' White', ' Black']])\n"
   ]
  },
  {
   "cell_type": "markdown",
   "id": "e15d1ef1",
   "metadata": {},
   "source": [
    "The data shows how the race \"Black\" overall has a lower educational level than the race \"White\". For instance, more of the race \"White\" has a Bachelor than the race \"Black\"."
   ]
  },
  {
   "cell_type": "code",
   "execution_count": 82,
   "id": "f6b3e4f2",
   "metadata": {},
   "outputs": [
    {
     "data": {
      "text/plain": [
       "race                income_bracket\n",
       "Amer-Indian-Eskimo  <=50K             0.884244\n",
       "                    >50K              0.115756\n",
       "Asian-Pac-Islander  <=50K             0.734360\n",
       "                    >50K              0.265640\n",
       "Black               <=50K             0.876120\n",
       "                    >50K              0.123880\n",
       "Other               <=50K             0.907749\n",
       "                    >50K              0.092251\n",
       "White               <=50K             0.744140\n",
       "                    >50K              0.255860\n",
       "Name: proportion, dtype: float64"
      ]
     },
     "execution_count": 82,
     "metadata": {},
     "output_type": "execute_result"
    }
   ],
   "source": [
    "# groupby to see the relationship between occupation and income bracket \n",
    "df.groupby('race')['income_bracket'].value_counts(normalize=True)"
   ]
  },
  {
   "cell_type": "markdown",
   "id": "3af0abeb",
   "metadata": {},
   "source": [
    "The data set shows the amount of individuals earning above 50k is higher if you're a certain race. The races \"White\" and \"Asian-Pac-Islander\" both earn above ca 15% more than races such as \"Black\" or \"Amer-Indian-Eskimo\". Let's explore more and take a look at the races' occupations."
   ]
  },
  {
   "cell_type": "code",
   "execution_count": 83,
   "id": "ab51ba8c",
   "metadata": {},
   "outputs": [
    {
     "name": "stdout",
     "output_type": "stream",
     "text": [
      "race                occupation       \n",
      "Amer-Indian-Eskimo  Craft-repair         0.141479\n",
      "                    Other-service        0.106109\n",
      "                    Prof-specialty       0.106109\n",
      "Asian-Pac-Islander  Adm-clerical         0.133782\n",
      "                    Exec-managerial      0.129933\n",
      "                    Prof-specialty       0.179018\n",
      "Black               Adm-clerical         0.156850\n",
      "                    Machine-op-inspct    0.087708\n",
      "                    Other-service        0.182778\n",
      "Other               Machine-op-inspct    0.143911\n",
      "                    Other-service        0.147601\n",
      "                    Prof-specialty       0.114391\n",
      "White               Craft-repair         0.132801\n",
      "                    Exec-managerial      0.131076\n",
      "                    Prof-specialty       0.131255\n",
      "Name: proportion, dtype: float64\n"
     ]
    }
   ],
   "source": [
    "# define the variable then use groupby to get the top 3 occupations\n",
    "top_occupations = (\n",
    "    df.groupby('race')['occupation']\n",
    "    .value_counts(normalize=True)\n",
    "    .groupby('race')  # Group again by race so we can take the top 3 of each race\n",
    "    .head(3)          # Take top 3 per race\n",
    "    .sort_index(level='race')  # Sort by race for readability\n",
    ")\n",
    "\n",
    "print(top_occupations)"
   ]
  },
  {
   "cell_type": "code",
   "execution_count": 84,
   "id": "ce713b7d",
   "metadata": {},
   "outputs": [
    {
     "name": "stdout",
     "output_type": "stream",
     "text": [
      "Top 5 highest earning occupations (% in >50K):\n",
      "occupation\n",
      "Exec-managerial    48.4\n",
      "Prof-specialty     44.9\n",
      "Protective-serv    32.5\n",
      "Tech-support       30.5\n",
      "Sales              26.9\n",
      "Name: income_bracket, dtype: float64\n"
     ]
    }
   ],
   "source": [
    "# groupby to see the relationship between occupation and income bracket \n",
    "top_earning_occupations = (\n",
    "    df.groupby('occupation')['income_bracket']\n",
    "    .apply(lambda x: (x == ' >50K').mean() * 100) # we use apply to calculate the percentage of >50K\n",
    "    .sort_values(ascending=False)                 # Sort by highest % >50K\n",
    "    .head(5)                                      # take only the top 5 results\n",
    "    .round(1)                                     # Round to 1 decimal place\n",
    ")\n",
    "\n",
    "print(\"Top 5 highest earning occupations (% in >50K):\")\n",
    "print(top_earning_occupations)"
   ]
  },
  {
   "cell_type": "markdown",
   "id": "77410a51",
   "metadata": {},
   "source": [
    "Taking a look at the top 5 highest earning occupations, we can see the race \"White\" and \"Asian-Pac-Islander\" usually have higher income jobs than the races \"Black\", \"Amer-Indian-Eskimo\" and \"Other\"."
   ]
  },
  {
   "cell_type": "markdown",
   "id": "6a452dd5",
   "metadata": {},
   "source": [
    "The rest of the data set seems straight forward with nothing unusual, indicating the status of relationship and marital_status."
   ]
  },
  {
   "cell_type": "markdown",
   "id": "fe34926a",
   "metadata": {},
   "source": [
    "# Research questions and hypothesis\n",
    "On the basis of the data exploration, these are the research questions this report will continue with.\n",
    "\n",
    "How do the highest capital earners correlate with executive occupations or trading (asset sales)?\n",
    "\n",
    "Is there a systemic bias based around race or gender, showing an imbalance in income and education?"
   ]
  },
  {
   "cell_type": "markdown",
   "id": "2ae9670a",
   "metadata": {},
   "source": [
    "### Preprocessing\n",
    "We'll start by cleaning up the dataset to examine the data further. We'll try going by Hadley Wicham's tidy data principles (ref. 1). Right now, the data set is already tidy in structure and only a small clean up is needed. We standardize by stripping whitespace from objects to and clarify values."
   ]
  },
  {
   "cell_type": "code",
   "execution_count": 85,
   "id": "41e3e101",
   "metadata": {},
   "outputs": [
    {
     "name": "stdout",
     "output_type": "stream",
     "text": [
      "age               0\n",
      "workclass         0\n",
      "education         0\n",
      "marital_status    0\n",
      "occupation        0\n",
      "relationship      0\n",
      "race              0\n",
      "gender            0\n",
      "capital_gain      0\n",
      "capital_loss      0\n",
      "hours_per_week    0\n",
      "native_country    0\n",
      "income_bracket    0\n",
      "dtype: int64\n"
     ]
    }
   ],
   "source": [
    "# define the columns which has the missing values\n",
    "cols_with_missing = ['education', 'workclass', 'occupation', 'gender', 'native_country']\n",
    "# replace '?' with 'unknown'\n",
    "df[cols_with_missing] = df[cols_with_missing].replace(' ?', 'Unknown')\n",
    "\n",
    "# verify if the replacement worked\n",
    "print(df.isin([' ?']).sum())"
   ]
  },
  {
   "cell_type": "markdown",
   "id": "9826fca2",
   "metadata": {},
   "source": [
    "\" ?\" is replaced with \"Unknown\" to indicate a better wording for the value. The reason why the values were inserted by users as a question mark was most likely because they didn't answer it or the values didn't match the user's experiences. In either case, let's keep these values as unknowns to not lose any data."
   ]
  },
  {
   "cell_type": "code",
   "execution_count": 86,
   "id": "f0b65327",
   "metadata": {},
   "outputs": [
    {
     "name": "stdout",
     "output_type": "stream",
     "text": [
      "workclass: 0 leading/trailing spaces (should be 0)\n",
      "education: 0 leading/trailing spaces (should be 0)\n",
      "marital_status: 0 leading/trailing spaces (should be 0)\n",
      "occupation: 0 leading/trailing spaces (should be 0)\n",
      "relationship: 0 leading/trailing spaces (should be 0)\n",
      "race: 0 leading/trailing spaces (should be 0)\n",
      "gender: 0 leading/trailing spaces (should be 0)\n",
      "native_country: 0 leading/trailing spaces (should be 0)\n",
      "income_bracket: 0 leading/trailing spaces (should be 0)\n"
     ]
    }
   ],
   "source": [
    "# Clean string-type columns (including 'object' and 'category')\n",
    "str_cols = df.select_dtypes(include=['object', 'category']).columns\n",
    "\n",
    "# strip whitespace and replace ' ?' with 'unknown' if there were any\n",
    "df[str_cols] = df[str_cols].apply(\n",
    "    lambda x: x.str.strip() if x.dtype == 'object' else x.replace(' ?', 'Unknown').str.strip()\n",
    ")\n",
    "\n",
    "# Verify cleaning\n",
    "for col in str_cols:\n",
    "    weird_spaces = df[col].astype(str).str.contains(r'^\\s|\\s$').sum()\n",
    "    print(f\"{col}: {weird_spaces} leading/trailing spaces (should be 0)\")"
   ]
  },
  {
   "cell_type": "markdown",
   "id": "2b858f77",
   "metadata": {},
   "source": [
    "All the columns had a trailing space. We stripped each object of its whitespace and made sure again to replace the question mark with \"Unknown\".\n",
    "\n",
    "Afterwards, we make a for loop to go through the columns to look for any missed whitespaces we haven't taken care of. The print shows us all whitespaces are taken care of. Now that we've preprocessed the data, we can move on to the Analysis."
   ]
  },
  {
   "cell_type": "markdown",
   "id": "14b86f25",
   "metadata": {},
   "source": [
    "# Analysis\n",
    "\n",
    "In this section, we'll look at the relationships between different variables in the data. We'll begin by looking at the relationships to the first question: How do the highest capital earners correlate with executive occupations or trading (asset sales)?\n",
    "\n",
    "To understand the relationships, we'll use data manipulation from the Pandas library. Functions like groupby() where we can group different columns together to analyze the data within each group, unstack(), crosstab(), use percentage calculations (since there are a larger amount from the race \"white\" who's represented in the dataset), and use value_counts() to count unique values (ref. 2)."
   ]
  },
  {
   "cell_type": "markdown",
   "id": "0496baef",
   "metadata": {},
   "source": [
    "In the start of the 90s in U.S., high earning capital gain is dominated by Prof-school and other high end educations. These were typically lawyers, doctors, professors, or other highly educated societal members. These individuals usually have insights, either from education or social circles, and enough money to invest. This tendency is also shown in the number of individuals working with sales who invest and lead to greater asset earning returns."
   ]
  },
  {
   "cell_type": "code",
   "execution_count": 101,
   "id": "1500292d",
   "metadata": {},
   "outputs": [
    {
     "name": "stdout",
     "output_type": "stream",
     "text": [
      "          occupation  count\n",
      "0     Prof-specialty     67\n",
      "1    Exec-managerial     42\n",
      "2              Sales     25\n",
      "3       Craft-repair      8\n",
      "4       Adm-clerical      6\n",
      "5            Unknown      4\n",
      "6      Other-service      2\n",
      "7  Machine-op-inspct      1\n",
      "8   Transport-moving      1\n",
      "9    Protective-serv      1\n"
     ]
    }
   ],
   "source": [
    "# filter for high capital gainers\n",
    "high_gainers = df[df['capital_gain'] > 50000]\n",
    "\n",
    "# group by occupation and count\n",
    "occupation_counts = high_gainers['occupation'].value_counts().reset_index()\n",
    "occupation_counts.columns = ['occupation', 'count']\n",
    "# sort by count\n",
    "best_occupation = occupation_counts.sort_values(by='count', ascending=False).head(10)\n",
    "\n",
    "print(best_occupation)"
   ]
  },
  {
   "cell_type": "markdown",
   "id": "f8ba6484",
   "metadata": {},
   "source": [
    "The highest earning individuals are already mostly in high paying jobs. Prof-speciality (specialised in the likes of medicin, law, etc.) are the highest asset earners. Those who do sales as their occupation are lower than the ones that Exec-managerial and Prof-specialty, but still in the top three."
   ]
  },
  {
   "cell_type": "code",
   "execution_count": 102,
   "id": "05289154",
   "metadata": {},
   "outputs": [
    {
     "name": "stdout",
     "output_type": "stream",
     "text": [
      "workclass\n",
      "Private             82\n",
      "Self-emp-inc        36\n",
      "Self-emp-not-inc    29\n",
      "Local-gov            6\n",
      "Unknown              4\n",
      "Federal-gov          1\n",
      "State-gov            1\n",
      "Name: count, dtype: int64\n",
      "\n",
      " occupation\n",
      "Adm-clerical         44.0\n",
      "Craft-repair         52.5\n",
      "Exec-managerial      48.0\n",
      "Handlers-cleaners    42.0\n",
      "Machine-op-inspct    33.0\n",
      "Other-service        45.5\n",
      "Prof-specialty       46.0\n",
      "Protective-serv      21.0\n",
      "Sales                46.0\n",
      "Tech-support         48.0\n",
      "Transport-moving     30.0\n",
      "Unknown              59.5\n",
      "Name: age, dtype: float64\n"
     ]
    }
   ],
   "source": [
    "# by workclass\n",
    "high_gainers = df[df['capital_gain'] > 50000]\n",
    "print(high_gainers['workclass'].value_counts())\n",
    "\n",
    "#by age, where median shows the middle value\n",
    "print('\\n', high_gainers.groupby('occupation')['age'].median())"
   ]
  },
  {
   "cell_type": "markdown",
   "id": "88e0983b",
   "metadata": {},
   "source": [
    "Looking at the workclass data of the high assert earners, it further shows how Private is dominating, and self employed is following closely. \"Private\" suggesting well earning jobs at corporations. Concerning their age, its evident the majority of highest earners are in their fourties or above in age."
   ]
  },
  {
   "cell_type": "code",
   "execution_count": 103,
   "id": "27baf08f",
   "metadata": {},
   "outputs": [
    {
     "name": "stdout",
     "output_type": "stream",
     "text": [
      "education        10th  9th  Assoc-acdm  Assoc-voc  Bachelors  Doctorate  \\\n",
      "occupation                                                                \n",
      "Prof-specialty    NaN  NaN         1.0        1.0        8.0        8.0   \n",
      "Exec-managerial   NaN  NaN         NaN        NaN       14.0        3.0   \n",
      "Sales             NaN  NaN         NaN        NaN       11.0        1.0   \n",
      "\n",
      "education        HS-grad  Masters  Prof-school  Some-college  Unknown  \n",
      "occupation                                                             \n",
      "Prof-specialty       2.0      5.0         41.0           NaN      1.0  \n",
      "Exec-managerial      6.0     10.0          5.0           3.0      1.0  \n",
      "Sales                5.0      3.0          NaN           5.0      NaN  \n"
     ]
    }
   ],
   "source": [
    "# filter for high capital gainers\n",
    "high_gainers = df[df['capital_gain'] > 50000]\n",
    "\n",
    "# top by education\n",
    "edu_occuption = high_gainers.groupby(['occupation', 'education']).size().unstack()\n",
    "\n",
    "print(edu_occuption.loc[['Prof-specialty', 'Exec-managerial', 'Sales']])"
   ]
  },
  {
   "cell_type": "markdown",
   "id": "b38638a1",
   "metadata": {},
   "source": [
    "As the data shows, the people with high asset income have varying degrees at the higher end of education. The Prof-specialty all have advanced degrees (most have the education level of Prof-school, indicating lawyers, doctors, etc..), while this educational level becomes a balanced mix as we go to Exec-managerial and sales positions."
   ]
  },
  {
   "cell_type": "code",
   "execution_count": 104,
   "id": "0332cb33",
   "metadata": {},
   "outputs": [
    {
     "name": "stdout",
     "output_type": "stream",
     "text": [
      "occupation      Adm-clerical  Craft-repair  Exec-managerial  \\\n",
      "income_bracket                                                \n",
      ">50K                       6             8               42   \n",
      "\n",
      "occupation      Handlers-cleaners  Machine-op-inspct  Other-service  \\\n",
      "income_bracket                                                        \n",
      ">50K                            1                  1              2   \n",
      "\n",
      "occupation      Prof-specialty  Protective-serv  Sales  Tech-support  \\\n",
      "income_bracket                                                         \n",
      ">50K                        67                1     25             1   \n",
      "\n",
      "occupation      Transport-moving  Unknown  \n",
      "income_bracket                             \n",
      ">50K                           1        4  \n"
     ]
    }
   ],
   "source": [
    "# using income_bracket to make sure we are looking at actual high earners\n",
    "cross_tab = pd.crosstab(high_gainers['income_bracket'], high_gainers['occupation'])\n",
    "print(cross_tab)"
   ]
  },
  {
   "cell_type": "markdown",
   "id": "e0cfc450",
   "metadata": {},
   "source": [
    "We'll now focus on the second question, \"Is there a systemic bias based around race or gender, showing an imbalance in income and education?\" We'll start by taking a look at the income levels of both gender and race."
   ]
  },
  {
   "cell_type": "code",
   "execution_count": 105,
   "id": "2b8bf4ef",
   "metadata": {},
   "outputs": [
    {
     "name": "stdout",
     "output_type": "stream",
     "text": [
      "Income by Gender (%):\n",
      "income_bracket  <=50K  >50K\n",
      "gender                     \n",
      "Female           89.1  10.9\n",
      "Male             69.2  30.8\n",
      "Unknown          78.9  21.1\n",
      "\n",
      "Income by Race (%):\n",
      "income_bracket      <=50K  >50K\n",
      "race                           \n",
      "Amer-Indian-Eskimo   88.4  11.6\n",
      "Asian-Pac-Islander   73.4  26.6\n",
      "Black                87.6  12.4\n",
      "Other                90.8   9.2\n",
      "White                74.4  25.6\n"
     ]
    }
   ],
   "source": [
    "# gender\n",
    "gender_income = df.groupby(['gender', 'income_bracket']).size().unstack()\n",
    "gender_income_pct = gender_income.div(gender_income.sum(axis=1), axis=0) * 100\n",
    "print(\"Income by Gender (%):\")\n",
    "print(gender_income_pct.round(1))\n",
    "\n",
    "# race\n",
    "race_income = df.groupby(['race', 'income_bracket']).size().unstack()\n",
    "race_income_pct = race_income.div(race_income.sum(axis=1), axis=0) * 100\n",
    "print(\"\\nIncome by Race (%):\")\n",
    "print(race_income_pct.round(1))"
   ]
  },
  {
   "cell_type": "markdown",
   "id": "7819b35e",
   "metadata": {},
   "source": [
    "The data shows how males are almost three times more likely to earn > 50k a year than females, showing how females earn 10.9% and males 30.8% above 50 k.\n",
    "\n",
    "Notice also the races \"white\" and \"asian\" are earning almost trible the amount above 50k, compared to that of \"black\" and \"Amer-Indian-Eskimo\". Visualizing this makes it even more apparent."
   ]
  },
  {
   "cell_type": "code",
   "execution_count": 106,
   "id": "f4821b9b",
   "metadata": {},
   "outputs": [
    {
     "data": {
      "image/png": "[encoded data removed]",
      "text/plain": [
       "<Figure size 1400x500 with 2 Axes>"
      ]
     },
     "metadata": {},
     "output_type": "display_data"
    }
   ],
   "source": [
    "fig, (ax1, ax2) = plt.subplots(1, 2, figsize=(14, 5))\n",
    "\n",
    "# Gender (percentage)\n",
    "gender_income_pct.plot(kind='bar', stacked=True, ax=ax1, \n",
    "                      color=['red','blue'], edgecolor='black')\n",
    "ax1.set_title('Income by Gender (%)', pad=20)\n",
    "ax1.set_ylabel('Percentage')\n",
    "ax1.set_ylim(0, 100)\n",
    "ax1.legend(title='Income', bbox_to_anchor=(1, 1))\n",
    "\n",
    "# Race (percentage)\n",
    "race_income_pct.sort_values('>50K').plot(kind='barh', stacked=True, ax=ax2, \n",
    "                                        color=['red','blue'], edgecolor='black')\n",
    "ax2.set_title('Income by Race (%)', pad=20)\n",
    "ax2.set_xlabel('Percentage')\n",
    "ax2.legend(title='Income', bbox_to_anchor=(1, 1))\n",
    "\n",
    "plt.tight_layout()\n",
    "plt.show()"
   ]
  },
  {
   "cell_type": "markdown",
   "id": "8f8f0aa3",
   "metadata": {},
   "source": [
    "Visualizing the data makes it a bit more clear. It shows how women generally earn less than men. Furthermore, the data also shows the gap between races, as white/asians generally earn more than Amer-Indian-Eskimo, black and others. Like real-world surveys have shown (ref 4), specific races like \"White\" tend to have a higher median income than \"Black\". In the examination of the data set, we saw a tendency where higher education individuals earned more. Visualizing this furthers the tendency of how there's a racial gap. "
   ]
  },
  {
   "cell_type": "code",
   "execution_count": 107,
   "id": "bc07a7ce",
   "metadata": {},
   "outputs": [
    {
     "data": {
      "image/png": "[encoded data removed]",
      "text/plain": [
       "<Figure size 1000x600 with 1 Axes>"
      ]
     },
     "metadata": {},
     "output_type": "display_data"
    }
   ],
   "source": [
    "education_by_race = df.groupby(['race', 'education']).size().unstack()\n",
    "\n",
    "# Calculate percentages within each race\n",
    "education_pct = education_by_race.div(education_by_race.sum(axis=1), axis=0) * 100\n",
    "\n",
    "# Plot top 5 education levels for clarity\n",
    "top_educations = ['HS-grad', 'Some-college', 'Bachelors', 'Masters', 'Assoc-voc']\n",
    "education_pct[top_educations].sort_values('Bachelors', ascending=True).plot(\n",
    "    kind='barh', \n",
    "    stacked=True,\n",
    "    figsize=(10, 6),\n",
    "    color=['blue', 'orange', 'red', 'teal', 'green']\n",
    ")\n",
    "\n",
    "plt.title('Education Distribution by Race (in percentage for each group')\n",
    "plt.xlabel('Percentage')\n",
    "plt.legend(title='Education Level', bbox_to_anchor=(1.05, 1))\n",
    "plt.show()"
   ]
  },
  {
   "cell_type": "markdown",
   "id": "c67b9223",
   "metadata": {},
   "source": [
    "Looking at the relationship between education and race, we find \"Black\", \"Amer-India-Eskimo\" and \"Other\" to have low education, where \"White\" and \"Asian\" tend comparitively have higher education. This is another indication of the racial imbalance in 1994 USA, further showcased by real world data. As the website bls.gov details \"... 64 percent of the white high school graduates entered college, only about half of black and Hispanic youth were enrolled.\" (ref. 5). This shows the overall trend of races and their choice of education in 1994 usa. The cultivation of education and the skill it brings with it gives a higher chance of high paying jobs, but how many hours per week do each race work?"
   ]
  },
  {
   "cell_type": "code",
   "execution_count": 108,
   "id": "449b69e0",
   "metadata": {},
   "outputs": [
    {
     "name": "stdout",
     "output_type": "stream",
     "text": [
      "race\n",
      "White                 40.689100\n",
      "Asian-Pac-Islander    40.127045\n",
      "Amer-Indian-Eskimo    40.048232\n",
      "Other                 39.468635\n",
      "Black                 38.422855\n",
      "Name: hours_per_week, dtype: float64\n"
     ]
    }
   ],
   "source": [
    "hours_by_race = df.groupby('race')['hours_per_week'].mean().sort_values(ascending=False)\n",
    "print(hours_by_race)"
   ]
  },
  {
   "cell_type": "markdown",
   "id": "1c5ab560",
   "metadata": {},
   "source": [
    "The dataset details that the race, \"White\", works more than other races - again indicating being \"White\" had more work oppeturnities. in 1994 USA, real world data shows only 5.3% of \"White\" were unemployed, compared to \"Black\" having 11.5% unemployed (ref. 6). This is further shown by how looking at the dataset for hours_per_work and looking at it compared to race and income."
   ]
  },
  {
   "cell_type": "code",
   "execution_count": 110,
   "id": "006cc5fa",
   "metadata": {},
   "outputs": [
    {
     "name": "stdout",
     "output_type": "stream",
     "text": [
      "income_bracket      <=50K  >50K\n",
      "race                           \n",
      "Amer-Indian-Eskimo   39.4  44.9\n",
      "White                39.0  45.6\n",
      "Other                38.9  44.9\n",
      "Asian-Pac-Islander   38.4  44.8\n",
      "Black                37.6  44.4\n"
     ]
    }
   ],
   "source": [
    "hours_race_income = df.groupby(['race', 'income_bracket'])['hours_per_week'].mean().unstack()\n",
    "print(hours_race_income.sort_values('<=50K', ascending=False).round(1))"
   ]
  },
  {
   "cell_type": "markdown",
   "id": "4c3c299a",
   "metadata": {},
   "source": [
    "The data indicates that the race \"Black\" works less than \"White\" or \"Amer-Indian-Eskimo\" when earning below 50k. Further strengthening the idea that the race \"black\" may have less work oppertunities. Looking at gender, let's see if there are any systemic imbalances there as well."
   ]
  },
  {
   "cell_type": "code",
   "execution_count": 111,
   "id": "67cec1b4",
   "metadata": {},
   "outputs": [
    {
     "name": "stdout",
     "output_type": "stream",
     "text": [
      "occupation  Exec-managerial  Prof-specialty   Sales\n",
      "gender                                             \n",
      "Female               1108.0          1455.0  1187.0\n",
      "Male                 2773.0          2496.0  2281.0\n",
      "Unknown               185.0           189.0   182.0 \n",
      "\n",
      "income_bracket      <=50K       >50K\n",
      "gender                              \n",
      "Female          35.913804  40.466964\n",
      "Male            40.667340  46.334428\n",
      "Unknown         39.277236  45.777439\n"
     ]
    }
   ],
   "source": [
    "# gender occupation\n",
    "occupation_gender = df.groupby(['gender', 'occupation']).size().unstack()\n",
    "print(occupation_gender[['Exec-managerial', 'Prof-specialty', 'Sales']], \"\\n\")\n",
    "\n",
    "# gender hours of work\n",
    "gender_hours = df.groupby(['gender', 'income_bracket'])['hours_per_week'].mean().unstack()\n",
    "print(gender_hours)"
   ]
  },
  {
   "cell_type": "markdown",
   "id": "d4233b56",
   "metadata": {},
   "source": [
    "For gender, the difference is also shown between men and women. Men usually hold higher paying occupations and higher paying jobs than women. As seen by the dataset, men outnumber women almost 2 to 1 in the highest paying jobs. But as seen by the income bracket vs hour_per_week spent working, men work almost 6 hours more than women on average. Cross referencing with real world data, we can see a trend here as well. Women tend to earn less than men overall. Cross referencing real world data showed there was a 72% earning difference at the time (ref. 7). "
   ]
  },
  {
   "cell_type": "markdown",
   "id": "d7963827",
   "metadata": {},
   "source": [
    "Not only does there seem to be a an imbalance between the races, but also the genders where men generally earn more. This seems to prove statistically that there is a \"double disadvantage\" of being a black woman in 1994, USA. Visualizing the income by race and gender shows this imbalance."
   ]
  },
  {
   "cell_type": "code",
   "execution_count": 112,
   "id": "5ec51be8",
   "metadata": {},
   "outputs": [
    {
     "data": {
      "image/png": "[encoded data removed]",
      "text/plain": [
       "<Figure size 1200x600 with 1 Axes>"
      ]
     },
     "metadata": {},
     "output_type": "display_data"
    }
   ],
   "source": [
    "# Filter for high earners and group by race + gender\n",
    "high_earners = df[df['income_bracket'] == '>50K']\n",
    "gender_race_counts = high_earners.groupby(['race', 'gender']).size().unstack() # unstack them becase we want to see the counts for each\n",
    "\n",
    "# Convert counts to percentages\n",
    "gender_race_pct = gender_race_counts.div(df.groupby(['race', 'gender']).size().unstack()) * 100\n",
    "\n",
    "# Plot\n",
    "plt.figure(figsize=(12, 6))\n",
    "sns.barplot(\n",
    "    data=gender_race_pct.reset_index().melt(id_vars='race'), \n",
    "    x='race', \n",
    "    y='value', \n",
    "    hue='gender',\n",
    "    palette={'Male': 'blue', 'Female': 'red', 'Unknown': 'gray'}\n",
    ")\n",
    "plt.title('(shown in %) Earning >$50K by Race and Gender (1994)', pad=20)\n",
    "plt.ylabel('Percentage')\n",
    "plt.xticks(rotation=45) # rotate the labels for better readability\n",
    "plt.legend(title='Gender')\n",
    "plt.show()"
   ]
  },
  {
   "cell_type": "markdown",
   "id": "1b2541fd",
   "metadata": {},
   "source": [
    "Using Seaborn, we're able to visualize the \"female\" gender is earning a lot less income compared to \"male\" in all races. We define those who earn over 50k from the income_bracket, and group the genders and race together in a groupby, convert it to percentages (because the race \"white\" is over-representated in the dataset), and then make a barplot to showcase it.\n",
    "\n",
    "In particular, the plot shows that if you are a black woman, you have a high chance of having a low income (ref. 7) (along with \"other\"), more so than any other races. The barplot visualizes the 1994 U.S. inequality problems fairly well, as not only are genders low on the social income ladder, but so too are races. As cross referencing real world data has shown (ref. 6, ref. 7), women earn less than men, and colored races are less likely to get a job. As the examination previously showed us how there's a connection between education and higher income, lets visualize it by grouping race and education to look at the precentage with a bachelor. "
   ]
  },
  {
   "cell_type": "code",
   "execution_count": null,
   "id": "5191fbe8",
   "metadata": {},
   "outputs": [
    {
     "data": {
      "image/png": "[encoded data removed]",
      "text/plain": [
       "<Figure size 1000x600 with 1 Axes>"
      ]
     },
     "metadata": {},
     "output_type": "display_data"
    }
   ],
   "source": [
    "# Calculate % with Bachelor's degree per race\n",
    "education_race = df.groupby('race')['education'].apply(lambda x: (x == 'Bachelors').mean() * 100)\n",
    "\n",
    "# Use merge to merge income data with bachelor's degree percentages from education\n",
    "race_stats = pd.merge(\n",
    "    education_race.rename('pct_bachelors'),\n",
    "    # rename the '>50K' column to 'pct_high_income' so it is clear what it represents\n",
    "    race_income_pct['>50K'].rename('pct_high_income'),\n",
    "    left_index=True,\n",
    "    right_index=True\n",
    ")\n",
    "\n",
    "# Prepare data\n",
    "X = race_stats['pct_bachelors'].values.reshape(-1, 1)\n",
    "y = race_stats['pct_high_income'].values\n",
    "\n",
    "# Fit linear regression\n",
    "reg = LinearRegression().fit(X, y)\n",
    "r2 = reg.score(X, y)\n",
    "\n",
    "# Plot with regression\n",
    "# the regression line helps visualize the relationship between education and income\n",
    "# since\n",
    "plt.figure(figsize=(10, 6))\n",
    "sns.regplot(\n",
    "    data=race_stats, \n",
    "    x='pct_bachelors', \n",
    "    y='pct_high_income',\n",
    "    scatter_kws={'s': 100, 'color': 'purple'},\n",
    "    line_kws={'color': 'red'}\n",
    ")\n",
    "# add text labels by location\n",
    "for race in race_stats.index:\n",
    "    plt.text(race_stats.loc[race, 'pct_bachelors'], race_stats.loc[race, 'pct_high_income'], race, ha='center')\n",
    "plt.title('Higher Education vs. High Income by Race (1994)', pad=20)\n",
    "plt.xlabel('% with Bachelor’s Degree')\n",
    "plt.ylabel('% Earning >$50K')\n",
    "# Add R² value to the plot\n",
    "plt.annotate(f'R² = {r2:.2f}', xy=(0.05, 0.95), xycoords='axes fraction', fontsize=12, color='black', ha='left', va='top')\n",
    "plt.show()"
   ]
  },
  {
   "cell_type": "markdown",
   "id": "29a063e3",
   "metadata": {},
   "source": [
    "The plot's x-axis shows the % of races with a Bachelor's degree and the y-axis the % of races earning > $50k. The regression shows the general trend between these two axises with an upwards trend. The pink area around it is the range of this relationship and where it might land. It shows higher education usually means having a higher income. The linear regression R^2 shows a 68% variation. This means it has a strong positive linear relationship between higher education and higher income\n",
    "Yet again, we notice how there is distance of between the races in their income and education level. Although education plays a role in having higher income, other factors like discrimination, work oppertunities or social context could also explain the income differences between the races.\n",
    "\n",
    "Looking specifically at the races \"White\" and \"Black\" we get a clear picture."
   ]
  },
  {
   "cell_type": "code",
   "execution_count": 118,
   "id": "a940a925",
   "metadata": {},
   "outputs": [
    {
     "name": "stdout",
     "output_type": "stream",
     "text": [
      "       pct_bachelors  pct_high_income\n",
      "race                                 \n",
      "Black      10.275288        12.387964\n",
      "White      16.202905        25.585994\n"
     ]
    }
   ],
   "source": [
    "print(race_stats.loc[['Black', 'White']])"
   ]
  },
  {
   "cell_type": "markdown",
   "id": "0b25f0c6",
   "metadata": {},
   "source": [
    "The print shows that having a bachelor's degree does not necessarily give the same income. 10% of black individuals have Bachelor's degrees compared to 16% white individuals. Only 12.5% black individuals earn above 50k compared to 25.7% white individuals who earn above 50k."
   ]
  },
  {
   "cell_type": "markdown",
   "id": "641a74ae",
   "metadata": {},
   "source": [
    "# Conclusion\n",
    "To fully understand the data set, we have to understand the social, political and historical context of USA in 1994 and before it. Although being established as a melting pot of different nationalities, in the start 90s the states has had a long dark past of racial divide. Being black in America has roots in slavery, and being white benefited from this discrimination. Building on that foundation over time, it has historically shown a tendency where this discrimination has induced unfairness, and less choices from colored heritage. Being colored could face discimination not only in every day life, but also in the hiring process of a job.\n",
    "When examining the dataset, deducing these imbalances becomes evident as, generally, lower income, lower education, and less income jobs are held in greater numbers by those of colored heritage. In turn, a lower educational level means lower amount of skill which is usually needed for higher paying jobs.\n",
    "\n",
    "Likewise, historically and socially, women have usually been the ones caretaking for their children while the man of the house went to work. Although this trend seems to live on in 1994 America, contextually women were more prone to be stay at home moms (ref. 3). Looking at the genders in the dataset, the data shows how men hold higher paying occupations and higher paying jobs than women. Factors like these show the underlying complexities of society and how they shape reality.\n",
    "\n",
    "The dataset shows living in USA in 1994 with a colored heritage is imbalanced compared to that of being Asian or White. Likewise, being a woman also has its constraints as discussed earlier. The data also indicates that being well educated gives a higher chance of having better income. And from this higher income, usually better at wealthy investment returns.\n",
    "\n"
   ]
  },
  {
   "cell_type": "markdown",
   "id": "478e36ed",
   "metadata": {},
   "source": [
    "# References\n",
    "\n",
    "(1): Hadley Wicham's tidy principles example https://github.com/hadley/tidy-data/blob/master/data/tb.r\n",
    "\n",
    "(2): Pandas docs https://pandas.pydata.org/docs/\n",
    "\n",
    "(3): More stay at home moms in 1994. https://eu.goupstate.com/story/news/2003/06/17/90s-brought-boom-in-stay-at-home-moms/29672470007/\n",
    "\n",
    "(4): Being White statistically shows you have a higher income. https://www.epi.org/blog/real-median-household-incomes-racial-groups/\n",
    "\n",
    "(5): Higher chance of higher education for the race \"White\" compared to the race \"Black\". https://www.bls.gov/news.release/history/hsgec_060195.txt\n",
    "\n",
    "(6): Higher unemployment for the race \"Black\". https://www.bls.gov/opub/ted/2011/ted_20111005_data.htm\n",
    "\n",
    "(7): Women earn less than men throughout US history. https://www.pay-equity.org/info-time.html"
   ]
  }
 ],
 "metadata": {
  "kernelspec": {
   "display_name": "Python 3",
   "language": "python",
   "name": "python3"
  },
  "language_info": {
   "codemirror_mode": {
    "name": "ipython",
    "version": 3
   },
   "file_extension": ".py",
   "mimetype": "text/x-python",
   "name": "python",
   "nbconvert_exporter": "python",
   "pygments_lexer": "ipython3",
   "version": "3.12.2"
  }
 },
 "nbformat": 4,
 "nbformat_minor": 5
}
