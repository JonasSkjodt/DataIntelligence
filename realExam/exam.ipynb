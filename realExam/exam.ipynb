{
 "cells": [
  {
   "cell_type": "markdown",
   "id": "e2c0f6bc",
   "metadata": {},
   "source": [
    "# Data Intelligence Exam\n",
    "\n",
    "Jonas Skjødt | skjo@itu.dk | Date: 2025-26-05  \n",
    "\n",
    "## Introduction\n",
    "\n",
    "This report analyzes the census-1994.csv dataset. As per the description of the dataset: \"Census data from USA gathered in 1994. Contains demographic information about US citizens. These values are self-reported by the participating citizens.\"\n",
    "\n",
    "The report goes through the technologies used to understand the data, followed by sections which explore the data set to see what it holds. The report then adds questions to test the data set with, followed by preprocesses its data. Once preprocessed, the data set is then examined by looking at data relationships, analyzed through these data relationships, and then followed by a conclusion."
   ]
  },
  {
   "cell_type": "code",
   "execution_count": 178,
   "id": "246cedc4",
   "metadata": {},
   "outputs": [],
   "source": [
    "import pandas as pd\n",
    "import seaborn as sns\n",
    "import matplotlib.pyplot as plt"
   ]
  },
  {
   "cell_type": "markdown",
   "id": "a6b47f6b",
   "metadata": {},
   "source": [
    "We import the libraries we need to extract data from the csv. We use the Pandas library for data manipulation, and Seaborn and MapPlotLib for visual presentation."
   ]
  },
  {
   "cell_type": "markdown",
   "id": "3bc5cf5c",
   "metadata": {},
   "source": [
    "# Exploration\n",
    "In the exploration phase we'll superficially look through the data set. We'll be using data manipulation such as df.columns.tolist() to look at the column names, df.head() to see the five first values of each column, value_counts() which returns the count of unique values in a column, and df.describe() to summarize the central tendencies of a column.\n",
    "\n",
    "As a start, let's make sure the columns match the handed out description of what the data set entails."
   ]
  },
  {
   "cell_type": "code",
   "execution_count": 3,
   "id": "1866efb7",
   "metadata": {},
   "outputs": [
    {
     "data": {
      "text/plain": [
       "['age',\n",
       " 'workclass',\n",
       " 'education',\n",
       " 'marital_status',\n",
       " 'occupation',\n",
       " 'relationship',\n",
       " 'race',\n",
       " 'gender',\n",
       " 'capital_gain',\n",
       " 'capital_loss',\n",
       " 'hours_per_week',\n",
       " 'native_country',\n",
       " 'income_bracket']"
      ]
     },
     "execution_count": 3,
     "metadata": {},
     "output_type": "execute_result"
    }
   ],
   "source": [
    "df = pd.read_csv('census-1994.csv')\n",
    "df.columns.tolist()"
   ]
  },
  {
   "cell_type": "markdown",
   "id": "49406ee3",
   "metadata": {},
   "source": [
    "The correct columns are all there, let's continue the exploration."
   ]
  },
  {
   "cell_type": "code",
   "execution_count": 39,
   "id": "f7e5cc3e",
   "metadata": {},
   "outputs": [
    {
     "data": {
      "text/html": [
       "<div>\n",
       "<style scoped>\n",
       "    .dataframe tbody tr th:only-of-type {\n",
       "        vertical-align: middle;\n",
       "    }\n",
       "\n",
       "    .dataframe tbody tr th {\n",
       "        vertical-align: top;\n",
       "    }\n",
       "\n",
       "    .dataframe thead th {\n",
       "        text-align: right;\n",
       "    }\n",
       "</style>\n",
       "<table border=\"1\" class=\"dataframe\">\n",
       "  <thead>\n",
       "    <tr style=\"text-align: right;\">\n",
       "      <th></th>\n",
       "      <th>age</th>\n",
       "      <th>workclass</th>\n",
       "      <th>education</th>\n",
       "      <th>marital_status</th>\n",
       "      <th>occupation</th>\n",
       "      <th>relationship</th>\n",
       "      <th>race</th>\n",
       "      <th>gender</th>\n",
       "      <th>capital_gain</th>\n",
       "      <th>capital_loss</th>\n",
       "      <th>hours_per_week</th>\n",
       "      <th>native_country</th>\n",
       "      <th>income_bracket</th>\n",
       "    </tr>\n",
       "  </thead>\n",
       "  <tbody>\n",
       "    <tr>\n",
       "      <th>0</th>\n",
       "      <td>39</td>\n",
       "      <td>State-gov</td>\n",
       "      <td>Bachelors</td>\n",
       "      <td>Never-married</td>\n",
       "      <td>Adm-clerical</td>\n",
       "      <td>Not-in-family</td>\n",
       "      <td>White</td>\n",
       "      <td>Male</td>\n",
       "      <td>2174</td>\n",
       "      <td>0</td>\n",
       "      <td>40</td>\n",
       "      <td>United-States</td>\n",
       "      <td>&lt;=50K</td>\n",
       "    </tr>\n",
       "    <tr>\n",
       "      <th>1</th>\n",
       "      <td>50</td>\n",
       "      <td>Self-emp-not-inc</td>\n",
       "      <td>Bachelors</td>\n",
       "      <td>Married-civ-spouse</td>\n",
       "      <td>Exec-managerial</td>\n",
       "      <td>Husband</td>\n",
       "      <td>White</td>\n",
       "      <td>Male</td>\n",
       "      <td>0</td>\n",
       "      <td>0</td>\n",
       "      <td>13</td>\n",
       "      <td>United-States</td>\n",
       "      <td>&lt;=50K</td>\n",
       "    </tr>\n",
       "    <tr>\n",
       "      <th>2</th>\n",
       "      <td>38</td>\n",
       "      <td>Private</td>\n",
       "      <td>HS-grad</td>\n",
       "      <td>Divorced</td>\n",
       "      <td>Handlers-cleaners</td>\n",
       "      <td>Not-in-family</td>\n",
       "      <td>White</td>\n",
       "      <td>Male</td>\n",
       "      <td>0</td>\n",
       "      <td>0</td>\n",
       "      <td>40</td>\n",
       "      <td>United-States</td>\n",
       "      <td>&lt;=50K</td>\n",
       "    </tr>\n",
       "    <tr>\n",
       "      <th>3</th>\n",
       "      <td>53</td>\n",
       "      <td>Private</td>\n",
       "      <td>11th</td>\n",
       "      <td>Married-civ-spouse</td>\n",
       "      <td>Handlers-cleaners</td>\n",
       "      <td>Husband</td>\n",
       "      <td>Black</td>\n",
       "      <td>Male</td>\n",
       "      <td>0</td>\n",
       "      <td>0</td>\n",
       "      <td>40</td>\n",
       "      <td>United-States</td>\n",
       "      <td>&lt;=50K</td>\n",
       "    </tr>\n",
       "    <tr>\n",
       "      <th>4</th>\n",
       "      <td>28</td>\n",
       "      <td>Private</td>\n",
       "      <td>Bachelors</td>\n",
       "      <td>Married-civ-spouse</td>\n",
       "      <td>Prof-specialty</td>\n",
       "      <td>Wife</td>\n",
       "      <td>Black</td>\n",
       "      <td>Female</td>\n",
       "      <td>0</td>\n",
       "      <td>0</td>\n",
       "      <td>40</td>\n",
       "      <td>Cuba</td>\n",
       "      <td>&lt;=50K</td>\n",
       "    </tr>\n",
       "  </tbody>\n",
       "</table>\n",
       "</div>"
      ],
      "text/plain": [
       "   age          workclass   education       marital_status  \\\n",
       "0   39          State-gov   Bachelors        Never-married   \n",
       "1   50   Self-emp-not-inc   Bachelors   Married-civ-spouse   \n",
       "2   38            Private     HS-grad             Divorced   \n",
       "3   53            Private        11th   Married-civ-spouse   \n",
       "4   28            Private   Bachelors   Married-civ-spouse   \n",
       "\n",
       "           occupation    relationship    race   gender  capital_gain  \\\n",
       "0        Adm-clerical   Not-in-family   White     Male          2174   \n",
       "1     Exec-managerial         Husband   White     Male             0   \n",
       "2   Handlers-cleaners   Not-in-family   White     Male             0   \n",
       "3   Handlers-cleaners         Husband   Black     Male             0   \n",
       "4      Prof-specialty            Wife   Black   Female             0   \n",
       "\n",
       "   capital_loss  hours_per_week  native_country income_bracket  \n",
       "0             0              40   United-States          <=50K  \n",
       "1             0              13   United-States          <=50K  \n",
       "2             0              40   United-States          <=50K  \n",
       "3             0              40   United-States          <=50K  \n",
       "4             0              40            Cuba          <=50K  "
      ]
     },
     "execution_count": 39,
     "metadata": {},
     "output_type": "execute_result"
    }
   ],
   "source": [
    "df.head()"
   ]
  },
  {
   "cell_type": "code",
   "execution_count": 177,
   "id": "d599f732",
   "metadata": {},
   "outputs": [
    {
     "name": "stdout",
     "output_type": "stream",
     "text": [
      "education\n",
      "HS-grad         9694\n",
      "Some-college    6706\n",
      "Bachelors       4921\n",
      "Masters         1591\n",
      "Assoc-voc       1291\n",
      "11th            1056\n",
      "unknown         1003\n",
      "Assoc-acdm       994\n",
      "10th             870\n",
      "7th-8th          584\n",
      "Prof-school      539\n",
      "9th              474\n",
      "12th             399\n",
      "Doctorate        376\n",
      "5th-6th          303\n",
      "1st-4th          153\n",
      "Preschool         49\n",
      "Name: count, dtype: int64\n",
      "\n",
      " workclass\n",
      "Private             21592\n",
      "Self-emp-not-inc     2416\n",
      "Local-gov            1998\n",
      "unknown              1758\n",
      "State-gov            1239\n",
      "Self-emp-inc         1066\n",
      "Federal-gov           915\n",
      "Without-pay            13\n",
      "Never-worked            6\n",
      "Name: count, dtype: int64\n"
     ]
    }
   ],
   "source": [
    "educationColumn = df['education'].value_counts()\n",
    "print(educationColumn)\n",
    "\n",
    "workclassColumn = df['workclass'].value_counts()\n",
    "print('\\n', workclassColumn)"
   ]
  },
  {
   "cell_type": "code",
   "execution_count": null,
   "id": "8376d4d9",
   "metadata": {},
   "outputs": [
    {
     "name": "stdout",
     "output_type": "stream",
     "text": [
      "count    32561.000000\n",
      "mean      1077.648844\n",
      "std       7385.292085\n",
      "min          0.000000\n",
      "25%          0.000000\n",
      "50%          0.000000\n",
      "75%          0.000000\n",
      "max      99999.000000\n",
      "Name: capital_gain, dtype: float64\n"
     ]
    }
   ],
   "source": [
    "count1 = df['capital_gain'].describe()\n",
    "print(count1)"
   ]
  },
  {
   "cell_type": "markdown",
   "id": "6ebb6c40",
   "metadata": {},
   "source": [
    "There seems to be some values marked as \" ?\" in different columns. This is outlined in, for instance, columns like \" education\" and \" workclass\" with a \" ?\" value. We'll take care of the missing values in the preproccessing later. Let's take a quick look with a visualization of the capital_gain column. We'll use Seaborn here to visualize the distribution through a histplot."
   ]
  },
  {
   "cell_type": "code",
   "execution_count": 28,
   "id": "2c178196",
   "metadata": {},
   "outputs": [
    {
     "data": {
      "text/plain": [
       "Text(0.5, 1.0, 'Non Zero Capital Gains')"
      ]
     },
     "execution_count": 28,
     "metadata": {},
     "output_type": "execute_result"
    },
    {
     "data": {
      "image/png": "[encoded data removed]",
      "text/plain": [
       "<Figure size 1200x400 with 1 Axes>"
      ]
     },
     "metadata": {},
     "output_type": "display_data"
    }
   ],
   "source": [
    "plt.figure(figsize=(12,4))\n",
    "sns.histplot(df[df['capital_gain'] > 0] ['capital_gain'])\n",
    "plt.title('Non Zero Capital Gains')"
   ]
  },
  {
   "cell_type": "markdown",
   "id": "b78d9512",
   "metadata": {},
   "source": [
    "According to the website herskovitslaw(1), approx 40% of Americans owned stocks in around 1994. So this is slightly reflecting real world economic behavior in 1994, where homes were held over a long period of time and the majority of Americans were working class.\n",
    "\n",
    "In the data, 99999 shows as the max value - which could indicate that thats the capped max value. There is also the possibility that the legacy systems of 1994 had fixed numeric inputs. However, for this assignment I will assume it was capped for a reason, perhaps as a display for anonymonity for the very wealthy. Let's make a test to make sure its not just an outlier."
   ]
  },
  {
   "cell_type": "code",
   "execution_count": 32,
   "id": "4e515e38",
   "metadata": {},
   "outputs": [
    {
     "name": "stdout",
     "output_type": "stream",
     "text": [
      "Amount of 99999: 159\n"
     ]
    }
   ],
   "source": [
    "print(f\"Amount of 99999: {(df['capital_gain'] == 99999).sum()}\")"
   ]
  },
  {
   "cell_type": "markdown",
   "id": "380877e5",
   "metadata": {},
   "source": [
    "There are 159 values at the number 99999, it has less of a change to be a regular outlier then.\n",
    "\n",
    "Let's explore further, do we see the same trends in the column capital_loss?"
   ]
  },
  {
   "cell_type": "code",
   "execution_count": 180,
   "id": "414bf252",
   "metadata": {},
   "outputs": [
    {
     "name": "stdout",
     "output_type": "stream",
     "text": [
      "count    31003.000000\n",
      "mean        87.114473\n",
      "std        402.332832\n",
      "min          0.000000\n",
      "25%          0.000000\n",
      "50%          0.000000\n",
      "75%          0.000000\n",
      "max       4356.000000\n",
      "Name: capital_loss, dtype: float64\n",
      "Percentage top: 0.49%\n",
      "Capital loss max: 4356\n"
     ]
    }
   ],
   "source": [
    "print(df['capital_loss'].describe())\n",
    "\n",
    "# Check if 99999 is with what we expect\n",
    "top = df[df['capital_gain'] == 99999]\n",
    "print(f\"Percentage top: {len(top)/len(df):.2%}\")\n",
    "\n",
    "# Compare\n",
    "print(f\"Capital loss max: {df['capital_loss'].max()}\")"
   ]
  },
  {
   "cell_type": "markdown",
   "id": "70e6b17e",
   "metadata": {},
   "source": [
    "The percentage 0.49% is correct as we already established 159 out of 32561 recorded values at set at the value of 99999.\n",
    "\n",
    "Otherwise there doesnt seem to be any suspicious numbers in the capital_loss column, as its max is set at 4356.\n",
    "\n",
    "The rest of the data set seems straight forward with nothing unusual, indicating the status of education, occupation, age, income_bracket, etc.."
   ]
  },
  {
   "cell_type": "markdown",
   "id": "fe34926a",
   "metadata": {},
   "source": [
    "# Research questions and hypothesis\n",
    "On the basis of the data exploration, these are the research questions this report will continue with.\n",
    "\n",
    "According to the data set, what is the wealth balance like in America 1994 for those with high capital gain (>= $50K), and how does it corrolate with executive occupations or trading (asset sales)?\n",
    "\n",
    "Is there a systemic bias based around race or gender, showing an imbalance in income? - For instance, do women have less income than men with equivalent gains?"
   ]
  },
  {
   "cell_type": "markdown",
   "id": "2ae9670a",
   "metadata": {},
   "source": [
    "### Preprocessing\n",
    "We'll start by cleaning up the dataset to examine the data further. We'll try going by Hadley Wicham's tidy data principles (2). Right now the data set is already tidy in structure, and only needs a small clean up is needed. We standardize by stripping whitespace from objects to and make clarify values."
   ]
  },
  {
   "cell_type": "code",
   "execution_count": 75,
   "id": "41e3e101",
   "metadata": {},
   "outputs": [
    {
     "name": "stdout",
     "output_type": "stream",
     "text": [
      "age               0\n",
      "workclass         0\n",
      "education         0\n",
      "marital_status    0\n",
      "occupation        0\n",
      "relationship      0\n",
      "race              0\n",
      "gender            0\n",
      "capital_gain      0\n",
      "capital_loss      0\n",
      "hours_per_week    0\n",
      "native_country    0\n",
      "income_bracket    0\n",
      "dtype: int64\n"
     ]
    }
   ],
   "source": [
    "# convert '?' to 'unknown'\n",
    "cols_with_missing = ['education', 'workclass', 'occupation', 'gender', 'native_country']\n",
    "df[cols_with_missing] = df[cols_with_missing].replace(' ?', 'unknown')\n",
    "\n",
    "# verify if the replacement worked\n",
    "print(df.isin([' ?']).sum())"
   ]
  },
  {
   "cell_type": "markdown",
   "id": "9826fca2",
   "metadata": {},
   "source": [
    "\" ?\" is replaced with \"unknown\" to indicate a better wording for the value. The reason why the values were inserted by users as a question mark, was most likely becaue they didn't answer it or the values didn't match the user's experiences. In either case, let's keep these values as unknowns to not lose any data."
   ]
  },
  {
   "cell_type": "code",
   "execution_count": null,
   "id": "f0b65327",
   "metadata": {},
   "outputs": [
    {
     "name": "stdout",
     "output_type": "stream",
     "text": [
      "workclass: 0 leading/trailing spaces (should be 0)\n",
      "education: 0 leading/trailing spaces (should be 0)\n",
      "marital_status: 0 leading/trailing spaces (should be 0)\n",
      "occupation: 0 leading/trailing spaces (should be 0)\n",
      "relationship: 0 leading/trailing spaces (should be 0)\n",
      "race: 0 leading/trailing spaces (should be 0)\n",
      "gender: 0 leading/trailing spaces (should be 0)\n",
      "native_country: 0 leading/trailing spaces (should be 0)\n",
      "income_bracket: 0 leading/trailing spaces (should be 0)\n"
     ]
    }
   ],
   "source": [
    "# Clean string-type columns (including 'object' and 'category')\n",
    "str_cols = df.select_dtypes(include=['object', 'category']).columns\n",
    "\n",
    "# strip whitespace and replace ' ?' with 'unknown' if there were any\n",
    "df[str_cols] = df[str_cols].apply(\n",
    "    lambda x: x.str.strip() if x.dtype == 'object' else x.replace(' ?', 'unknown').str.strip()\n",
    ")\n",
    "\n",
    "# Verify cleaning\n",
    "for col in str_cols:\n",
    "    weird_spaces = df[col].astype(str).str.contains(r'^\\s|\\s$').sum()\n",
    "    print(f\"{col}: {weird_spaces} leading/trailing spaces (should be 0)\")"
   ]
  },
  {
   "cell_type": "markdown",
   "id": "2b858f77",
   "metadata": {},
   "source": [
    "All the columns had a trailing space, we stripped each object of its whitespace and made sure again to replace the question mark with unknown while still making sure we stripped any whitespace.\n",
    "\n",
    "Afterwards we make a for loop to go through the columns to look for any missed whitespaces we haven't taken care of. The print shows us all whitespaces are taken care of."
   ]
  },
  {
   "cell_type": "code",
   "execution_count": 164,
   "id": "d638ea30",
   "metadata": {},
   "outputs": [],
   "source": [
    "df = df[df['gender'] != 'unknown']"
   ]
  },
  {
   "cell_type": "markdown",
   "id": "1d84ae35",
   "metadata": {},
   "source": [
    "Finally, in the gender column, let's only focus on two genders. This will make things a bit easier for us as we analyze the data relationships."
   ]
  },
  {
   "cell_type": "markdown",
   "id": "14b86f25",
   "metadata": {},
   "source": [
    "### Examination of data\n",
    "\n",
    "In this section we'll look at the relationships between different variables in the data. We'll begin by looking at the answer to the first question, \"Do those with high capital gain (>= $50K) corrolate with executive occupations or trading (asset sales)?\".\n",
    "\n",
    "To understand the relationships we'll use data manipulation from the Pandas library. Functions like groupby() where we can group different columns together to analyze the data within each group, unstack(), crosstab(), use procentage calculations (since there are a larger amount from the race \"white\" who's represented in the dataset), and use value_counts() to count unique values.(3)"
   ]
  },
  {
   "cell_type": "code",
   "execution_count": null,
   "id": "1500292d",
   "metadata": {},
   "outputs": [
    {
     "name": "stdout",
     "output_type": "stream",
     "text": [
      "           occupation  count\n",
      "0      Prof-specialty     67\n",
      "1     Exec-managerial     42\n",
      "2               Sales     25\n",
      "3        Craft-repair      8\n",
      "4        Adm-clerical      6\n",
      "5             unknown      4\n",
      "6       Other-service      2\n",
      "7   Machine-op-inspct      1\n",
      "8    Transport-moving      1\n",
      "9     Protective-serv      1\n"
     ]
    }
   ],
   "source": [
    "# filter for high capital gainers\n",
    "high_gainers = df[df['capital_gain'] > 50000]\n",
    "\n",
    "# group by occupation and count\n",
    "occupation_counts = high_gainers['occupation'].value_counts().reset_index()\n",
    "occupation_counts.columns = ['occupation', 'count']\n",
    "# sort by count\n",
    "best_occupation = occupation_counts.sort_values(by='count', ascending=False).head(10)\n",
    "\n",
    "print(best_occupation)"
   ]
  },
  {
   "cell_type": "markdown",
   "id": "f8ba6484",
   "metadata": {},
   "source": [
    "The highest earning individuals are already mostly in high paying jobs. Prof-speciality (specialised in the likes of medicin, law, etc.) are the highest asset earners. Those who do sales as their occupation are lower than the ones that Exec-managerial and Prof-specialty, but still in the top three."
   ]
  },
  {
   "cell_type": "code",
   "execution_count": 184,
   "id": "05289154",
   "metadata": {},
   "outputs": [
    {
     "name": "stdout",
     "output_type": "stream",
     "text": [
      "workclass\n",
      "Private             78\n",
      "Self-emp-inc        34\n",
      "Self-emp-not-inc    28\n",
      "Local-gov            6\n",
      "unknown              4\n",
      "Federal-gov          1\n",
      "State-gov            1\n",
      "Name: count, dtype: int64\n",
      "\n",
      " occupation\n",
      "Adm-clerical         44.0\n",
      "Craft-repair         52.5\n",
      "Exec-managerial      48.0\n",
      "Handlers-cleaners    42.0\n",
      "Machine-op-inspct    33.0\n",
      "Other-service        45.5\n",
      "Prof-specialty       45.0\n",
      "Protective-serv      21.0\n",
      "Sales                43.0\n",
      "Tech-support         48.0\n",
      "unknown              59.5\n",
      "Name: age, dtype: float64\n"
     ]
    }
   ],
   "source": [
    "# by workclass\n",
    "high_gainers = df[df['capital_gain'] > 50000]\n",
    "print(high_gainers['workclass'].value_counts())\n",
    "\n",
    "#by age\n",
    "print('\\n', high_gainers.groupby('occupation')['age'].median())"
   ]
  },
  {
   "cell_type": "markdown",
   "id": "88e0983b",
   "metadata": {},
   "source": [
    "Looking at the workclass data of the high assert earners, it further shows how Private is dominating, and self employed is following closely. \"Private\" suggesting well earning jobs at corporations. Concerning their age, its evident the majority of highest earners are over their fourties."
   ]
  },
  {
   "cell_type": "code",
   "execution_count": 183,
   "id": "27baf08f",
   "metadata": {},
   "outputs": [
    {
     "name": "stdout",
     "output_type": "stream",
     "text": [
      "education        10th  9th  Assoc-acdm  Assoc-voc  Bachelors  Doctorate  \\\n",
      "occupation                                                                \n",
      "Prof-specialty    NaN  NaN         1.0        1.0        8.0        7.0   \n",
      "Exec-managerial   NaN  NaN         NaN        NaN       14.0        3.0   \n",
      "Sales             NaN  NaN         NaN        NaN       11.0        1.0   \n",
      "\n",
      "education        HS-grad  Masters  Prof-school  Some-college  unknown  \n",
      "occupation                                                             \n",
      "Prof-specialty       2.0      5.0         38.0           NaN      1.0  \n",
      "Exec-managerial      6.0     10.0          5.0           3.0      1.0  \n",
      "Sales                4.0      2.0          NaN           5.0      NaN  \n"
     ]
    }
   ],
   "source": [
    "# filter for high capital gainers\n",
    "high_gainers = df[df['capital_gain'] > 50000]\n",
    "\n",
    "# top by education\n",
    "edu_occuption = high_gainers.groupby(['occupation', 'education']).size().unstack()\n",
    "\n",
    "print(edu_occuption.loc[['Prof-specialty', 'Exec-managerial', 'Sales']])"
   ]
  },
  {
   "cell_type": "markdown",
   "id": "b38638a1",
   "metadata": {},
   "source": [
    "As the data shows, the people with high asset income have varying degrees at the higher end of education. The Prof-specialty all have advanced degrees (most have the education level of Prof-school, indicating lawyers, doctors, etc..), while this educational level becomes a balanced mix as we go to Exec-managerial and sales positions."
   ]
  },
  {
   "cell_type": "code",
   "execution_count": 182,
   "id": "0332cb33",
   "metadata": {},
   "outputs": [
    {
     "name": "stdout",
     "output_type": "stream",
     "text": [
      "occupation      Adm-clerical  Craft-repair  Exec-managerial  \\\n",
      "income_bracket                                                \n",
      ">50K                       6             8               42   \n",
      "\n",
      "occupation      Handlers-cleaners  Machine-op-inspct  Other-service  \\\n",
      "income_bracket                                                        \n",
      ">50K                            1                  1              2   \n",
      "\n",
      "occupation      Prof-specialty  Protective-serv  Sales  Tech-support  unknown  \n",
      "income_bracket                                                                 \n",
      ">50K                        63                1     23             1        4  \n"
     ]
    }
   ],
   "source": [
    "# using income_bracket to make sure we are looking at actual high earners\n",
    "cross_tab = pd.crosstab(high_gainers['income_bracket'], high_gainers['occupation'])\n",
    "print(cross_tab)"
   ]
  },
  {
   "cell_type": "markdown",
   "id": "adc00a2d",
   "metadata": {},
   "source": [
    "As a small check, we make a crosstab to ensure the high asset earners are also people who earn over 50k dollars a year. They values show they are indeed similar."
   ]
  },
  {
   "cell_type": "markdown",
   "id": "e0cfc450",
   "metadata": {},
   "source": [
    "We'll not focus on the next question, \"Is there a systemic bias based around race or gender, showing an imbalance in income? - For instance, do women have less income than men with equivalent gains?\" We'll start by taking a look at the income levels of both gender and race."
   ]
  },
  {
   "cell_type": "code",
   "execution_count": 185,
   "id": "2b8bf4ef",
   "metadata": {},
   "outputs": [
    {
     "name": "stdout",
     "output_type": "stream",
     "text": [
      "Income by Gender (%):\n",
      "income_bracket  <=50K  >50K\n",
      "gender                     \n",
      "Female           89.1  10.9\n",
      "Male             69.2  30.8\n",
      "\n",
      "Income by Race (%):\n",
      "income_bracket      <=50K  >50K\n",
      "race                           \n",
      "Amer-Indian-Eskimo   88.2  11.8\n",
      "Asian-Pac-Islander   72.9  27.1\n",
      "Black                87.5  12.5\n",
      "Other                90.7   9.3\n",
      "White                74.3  25.7\n"
     ]
    }
   ],
   "source": [
    "# gender\n",
    "gender_income = df.groupby(['gender', 'income_bracket']).size().unstack()\n",
    "gender_income_pct = gender_income.div(gender_income.sum(axis=1), axis=0) * 100\n",
    "print(\"Income by Gender (%):\")\n",
    "print(gender_income_pct.round(1))\n",
    "\n",
    "# race\n",
    "race_income = df.groupby(['race', 'income_bracket']).size().unstack()\n",
    "race_income_pct = race_income.div(race_income.sum(axis=1), axis=0) * 100\n",
    "print(\"\\nIncome by Race (%):\")\n",
    "print(race_income_pct.round(1))"
   ]
  },
  {
   "cell_type": "markdown",
   "id": "7819b35e",
   "metadata": {},
   "source": [
    "The data shows how males are almost three times more likely to earn > 50k a year than females, showing how females earn 10.9% and males 30.8% above 50 k.\n",
    "\n",
    "Notice also the races \"white\" and \"asian\" are earning almost trible the amount above 50k, compared to that of \"black\" and \"Amer-Indian-Eskimo\"."
   ]
  },
  {
   "cell_type": "code",
   "execution_count": 166,
   "id": "f4821b9b",
   "metadata": {},
   "outputs": [
    {
     "data": {
      "image/png": "[encoded data removed]",
      "text/plain": [
       "<Figure size 1400x500 with 2 Axes>"
      ]
     },
     "metadata": {},
     "output_type": "display_data"
    }
   ],
   "source": [
    "fig, (ax1, ax2) = plt.subplots(1, 2, figsize=(14, 5))\n",
    "\n",
    "# Gender (percentage)\n",
    "gender_income_pct.plot(kind='bar', stacked=True, ax=ax1, \n",
    "                      color=['red','blue'], edgecolor='black')\n",
    "ax1.set_title('Income by Gender (%)', pad=20)\n",
    "ax1.set_ylabel('Percentage')\n",
    "ax1.set_ylim(0, 100)\n",
    "ax1.legend(title='Income', bbox_to_anchor=(1, 1))\n",
    "\n",
    "# Race (percentage)\n",
    "race_income_pct.sort_values('>50K').plot(kind='barh', stacked=True, ax=ax2, \n",
    "                                        color=['red','blue'], edgecolor='black')\n",
    "ax2.set_title('Income by Race (%)', pad=20)\n",
    "ax2.set_xlabel('Percentage')\n",
    "ax2.legend(title='Income', bbox_to_anchor=(1, 1))\n",
    "\n",
    "plt.tight_layout()\n",
    "plt.show()"
   ]
  },
  {
   "cell_type": "markdown",
   "id": "8f8f0aa3",
   "metadata": {},
   "source": [
    "Visualizing the data makes it a bit more clear. It shows how women generally earn less than men. Furthermore, the data also shows the gap between races, as white/asians generally earn more than Amer-Indian-Eskimo, black and others."
   ]
  },
  {
   "cell_type": "code",
   "execution_count": null,
   "id": "bc07a7ce",
   "metadata": {},
   "outputs": [
    {
     "data": {
      "image/png": "[encoded data removed]",
      "text/plain": [
       "<Figure size 1000x600 with 1 Axes>"
      ]
     },
     "metadata": {},
     "output_type": "display_data"
    }
   ],
   "source": [
    "education_by_race = df.groupby(['race', 'education']).size().unstack()\n",
    "\n",
    "# Calculate percentages within each race\n",
    "education_pct = education_by_race.div(education_by_race.sum(axis=1), axis=0) * 100\n",
    "\n",
    "# Plot top 5 education levels for clarity\n",
    "top_educations = ['HS-grad', 'Some-college', 'Bachelors', 'Masters', 'Assoc-voc']\n",
    "education_pct[top_educations].sort_values('Bachelors', ascending=True).plot(\n",
    "    kind='barh', \n",
    "    stacked=True,\n",
    "    figsize=(10, 6),\n",
    "    color=['blue', 'orange', 'red', 'teal', 'green']\n",
    ")\n",
    "\n",
    "plt.title('Education Distribution by Race (in percentage for each group')\n",
    "plt.xlabel('Percentage')\n",
    "plt.legend(title='Education Level', bbox_to_anchor=(1.05, 1))\n",
    "plt.show()"
   ]
  },
  {
   "cell_type": "markdown",
   "id": "c67b9223",
   "metadata": {},
   "source": [
    "Looking at the corrolation between education and race, we find black, Amer-India-Eskimo and other to have low education, where white and asians have a higher education."
   ]
  },
  {
   "cell_type": "code",
   "execution_count": 170,
   "id": "449b69e0",
   "metadata": {},
   "outputs": [
    {
     "name": "stdout",
     "output_type": "stream",
     "text": [
      "race\n",
      "White                 40.680547\n",
      "Amer-Indian-Eskimo    40.151515\n",
      "Asian-Pac-Islander    40.134010\n",
      "Other                 39.326848\n",
      "Black                 38.388908\n",
      "Name: hours_per_week, dtype: float64\n"
     ]
    }
   ],
   "source": [
    "hours_by_race = df.groupby('race')['hours_per_week'].mean().sort_values(ascending=False)\n",
    "print(hours_by_race)"
   ]
  },
  {
   "cell_type": "markdown",
   "id": "1c5ab560",
   "metadata": {},
   "source": [
    "The dataset details that the race, \"White\", works more than other races - perhaps indicating being \"White\" has more work oppeturnities."
   ]
  },
  {
   "cell_type": "code",
   "execution_count": 172,
   "id": "006cc5fa",
   "metadata": {},
   "outputs": [
    {
     "name": "stdout",
     "output_type": "stream",
     "text": [
      "income_bracket      <=50K  >50K\n",
      "race                           \n",
      "Amer-Indian-Eskimo   39.5  45.1\n",
      "White                39.0  45.6\n",
      "Other                38.7  45.1\n",
      "Asian-Pac-Islander   38.4  44.8\n",
      "Black                37.6  44.2\n"
     ]
    }
   ],
   "source": [
    "hours_race_income = df.groupby(['race', 'income_bracket'])['hours_per_week'].mean().unstack()\n",
    "print(hours_race_income.sort_values('<=50K', ascending=False).round(1))"
   ]
  },
  {
   "cell_type": "markdown",
   "id": "4c3c299a",
   "metadata": {},
   "source": [
    "The data indicates that the race \"Black\" works less than \"White\" or \"Amer-Indian-Eskimo\" when earning below 50k. Further strengthening the idea that the race \"black\" may have less work oppertunities."
   ]
  },
  {
   "cell_type": "code",
   "execution_count": 187,
   "id": "67cec1b4",
   "metadata": {},
   "outputs": [
    {
     "name": "stdout",
     "output_type": "stream",
     "text": [
      "occupation  Exec-managerial  Prof-specialty   Sales\n",
      "gender                                             \n",
      "Female               1108.0          1455.0  1187.0\n",
      "Male                 2773.0          2496.0  2281.0 \n",
      "\n",
      "income_bracket      <=50K       >50K\n",
      "gender                              \n",
      "Female          35.913804  40.466964\n",
      "Male            40.667340  46.334428\n"
     ]
    }
   ],
   "source": [
    "# gender occupation\n",
    "occupation_gender = df.groupby(['gender', 'occupation']).size().unstack()\n",
    "print(occupation_gender[['Exec-managerial', 'Prof-specialty', 'Sales']], \"\\n\")\n",
    "\n",
    "# gender hours of work\n",
    "gender_hours = df.groupby(['gender', 'income_bracket'])['hours_per_week'].mean().unstack()\n",
    "print(gender_hours)"
   ]
  },
  {
   "cell_type": "markdown",
   "id": "d4233b56",
   "metadata": {},
   "source": [
    "For gender, the difference is also shown between men and women. Men usually hold higher paying occupations and higher paying jobs than women. As seen by the dataset, men outnumber women almost 2 to 1 in the highest paying jobs. But as seen by the income bracket vs hour_per_week spent working, men work almost 6 hours more than women on average ."
   ]
  },
  {
   "cell_type": "markdown",
   "id": "a7ab4c36",
   "metadata": {},
   "source": [
    "# Analysis\n",
    "In this section we'll look at the relationships by analyzing them more in depth."
   ]
  },
  {
   "cell_type": "markdown",
   "id": "07613ba8",
   "metadata": {},
   "source": [
    "### Examination of the Questions\n",
    "\n",
    "in the start of the 90s in U.S. high earning capital gain is dominated by Prof-school and other high end educations. These were typically lawyers, doctors, professors, or other highly educated societal members. These individuals usually have insights, either from education or social circles, and enough money, to invest. This tendency is also shown in the number of individuals working with sales, understanding investing which has lead to greater asset earning.\n"
   ]
  },
  {
   "cell_type": "code",
   "execution_count": 176,
   "id": "1d200d30",
   "metadata": {},
   "outputs": [
    {
     "name": "stderr",
     "output_type": "stream",
     "text": [
      "C:\\Users\\jonas\\AppData\\Local\\Temp\\ipykernel_26180\\4187662250.py:6: FutureWarning: \n",
      "\n",
      "Passing `palette` without assigning `hue` is deprecated and will be removed in v0.14.0. Assign the `y` variable to `hue` and set `legend=False` for the same effect.\n",
      "\n",
      "  ax = sns.countplot(data=high_gainers, y='occupation',\n"
     ]
    },
    {
     "data": {
      "image/png": "[encoded data removed]",
      "text/plain": [
       "<Figure size 1200x600 with 1 Axes>"
      ]
     },
     "metadata": {},
     "output_type": "display_data"
    }
   ],
   "source": [
    "# Filter for high capital gainers\n",
    "high_gainers = df[df['capital_gain'] > 50000]\n",
    "\n",
    "# Create countplot\n",
    "plt.figure(figsize=(12, 6))\n",
    "ax = sns.countplot(data=high_gainers, y='occupation', \n",
    "                   order=high_gainers['occupation'].value_counts().index,\n",
    "                   palette='viridis')\n",
    "\n",
    "# Add annotations\n",
    "for p in ax.patches:\n",
    "    width = p.get_width()\n",
    "    plt.text(width + 1, p.get_y() + p.get_height()/2, \n",
    "             '{:1.0f}'.format(width),\n",
    "             ha='center', va='center')\n",
    "\n",
    "# Plot\n",
    "plt.title('Occupations with High Capital Gains (>= $50K)', fontsize=16)\n",
    "plt.xlabel('Amount of Individuals', fontsize=12)\n",
    "plt.ylabel('Occupation', fontsize=12)\n",
    "plt.tight_layout()\n",
    "plt.show()"
   ]
  },
  {
   "cell_type": "markdown",
   "id": "069ef08d",
   "metadata": {},
   "source": [
    "As the visualization shows, there is a clear concensus that highly educated, high earning occupations usually leads to greater asset earning income. "
   ]
  },
  {
   "cell_type": "markdown",
   "id": "d7963827",
   "metadata": {},
   "source": [
    "For the second question, which looked at whether there is a systemic bias based on race or gender, the data examination showed how the races \"White\" and \"Asian\" earned more than \"Black\", \"Amer-Indian-Eskimo\", and other races.\n",
    "\n",
    "It also showed how there is an imbalance between the genders, where men generally earned more."
   ]
  },
  {
   "cell_type": "code",
   "execution_count": null,
   "id": "5ec51be8",
   "metadata": {},
   "outputs": [],
   "source": []
  },
  {
   "cell_type": "markdown",
   "id": "29a063e3",
   "metadata": {},
   "source": [
    "TODO need to improve analysis more with showing more trends and more tendencies based on the examination"
   ]
  },
  {
   "cell_type": "markdown",
   "id": "641a74ae",
   "metadata": {},
   "source": [
    "# Conclusion\n",
    "To fully understand the data set, you'd have to understand the social, political and historical context of 1994 USA as well. Although being established as a melting pot of different nationalities, in the start 90s the states has had a long dark past of racial divide. Being black in America has roots in slavery, and being white benefited from this discrimination. Building on that foundation over time, it has historically shown a tendency where this discrimination has induced unfair poverty, and less choices from that heritage. Being colored could face discimination not only in every day life, but also in the hiring process of a job.\n",
    "When examining the dataset these discrepencies becomes evident, as, generally, lower income, lower education, and worse jobs are held in greater numbers by those of a colored heritage. In turn, a lower educational level means lower amount of skill - which is needed with higher paying jobs.\n",
    "\n",
    "Likewise, historically and socially, women have usually been the ones caretaking for their children while the man of the house went to work. This trend lives on in 1994 America, women were more prone to give up some work to caretake for their children. Looking at the genders in the dataset, the data shows how men hold higher paying occupations and higher paying jobs than women."
   ]
  },
  {
   "cell_type": "markdown",
   "id": "478e36ed",
   "metadata": {},
   "source": [
    "# references\n",
    "sources from the course or the links we've used, citations etc.\n",
    "(1): https://www.herskovitslaw.com/blog/evolution-of-publicly-traded-stock-ownership-in-the-us-1990s-2016/\n",
    "(2): https://github.com/hadley/tidy-data/blob/master/data/tb.r\n",
    "(3): https://pandas.pydata.org/docs/"
   ]
  }
 ],
 "metadata": {
  "kernelspec": {
   "display_name": "Python 3",
   "language": "python",
   "name": "python3"
  },
  "language_info": {
   "codemirror_mode": {
    "name": "ipython",
    "version": 3
   },
   "file_extension": ".py",
   "mimetype": "text/x-python",
   "name": "python",
   "nbconvert_exporter": "python",
   "pygments_lexer": "ipython3",
   "version": "3.12.2"
  }
 },
 "nbformat": 4,
 "nbformat_minor": 5
}
