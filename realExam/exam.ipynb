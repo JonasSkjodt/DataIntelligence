{
 "cells": [
  {
   "cell_type": "markdown",
   "id": "e2c0f6bc",
   "metadata": {},
   "source": [
    "# Data Intelligence Exam\n",
    "\n",
    "Jonas Skjødt | skjo@itu.dk | Date: 2025-26-05  \n",
    "\n",
    "## Introduction\n",
    "\n",
    "This paper will journal the census-1994.csv dataset. As per the description of the dataset: \"Census data from USA gathered in 1994. Contains demographic information about US citizens. These values are self-reported by the participating citizens.\"\n",
    "\n",
    "First..\n",
    "\n",
    "They give an overview of the report the have written and the different steps they will go through."
   ]
  },
  {
   "cell_type": "code",
   "execution_count": 41,
   "id": "246cedc4",
   "metadata": {},
   "outputs": [],
   "source": [
    "import pandas as pd\n",
    "import numpy as np\n",
    "import seaborn as sns\n",
    "import matplotlib.pyplot as plt"
   ]
  },
  {
   "cell_type": "markdown",
   "id": "a6b47f6b",
   "metadata": {},
   "source": [
    "We import the libraries we need, pandas for the data intelligence, seaborn and mapplotlib for visualization."
   ]
  },
  {
   "cell_type": "markdown",
   "id": "3bc5cf5c",
   "metadata": {},
   "source": [
    "# Exploration\n",
    "In the exploration phase we'll try to understand the data set better. As a start, let's make sure the columns match the handed out description of what the data set entails."
   ]
  },
  {
   "cell_type": "code",
   "execution_count": 3,
   "id": "1866efb7",
   "metadata": {},
   "outputs": [
    {
     "data": {
      "text/plain": [
       "['age',\n",
       " 'workclass',\n",
       " 'education',\n",
       " 'marital_status',\n",
       " 'occupation',\n",
       " 'relationship',\n",
       " 'race',\n",
       " 'gender',\n",
       " 'capital_gain',\n",
       " 'capital_loss',\n",
       " 'hours_per_week',\n",
       " 'native_country',\n",
       " 'income_bracket']"
      ]
     },
     "execution_count": 3,
     "metadata": {},
     "output_type": "execute_result"
    }
   ],
   "source": [
    "df = pd.read_csv('census-1994.csv')\n",
    "df.columns.tolist()"
   ]
  },
  {
   "cell_type": "markdown",
   "id": "49406ee3",
   "metadata": {},
   "source": [
    "The correct columns are all there, let's continue the exploration."
   ]
  },
  {
   "cell_type": "code",
   "execution_count": 39,
   "id": "f7e5cc3e",
   "metadata": {},
   "outputs": [
    {
     "data": {
      "text/html": [
       "<div>\n",
       "<style scoped>\n",
       "    .dataframe tbody tr th:only-of-type {\n",
       "        vertical-align: middle;\n",
       "    }\n",
       "\n",
       "    .dataframe tbody tr th {\n",
       "        vertical-align: top;\n",
       "    }\n",
       "\n",
       "    .dataframe thead th {\n",
       "        text-align: right;\n",
       "    }\n",
       "</style>\n",
       "<table border=\"1\" class=\"dataframe\">\n",
       "  <thead>\n",
       "    <tr style=\"text-align: right;\">\n",
       "      <th></th>\n",
       "      <th>age</th>\n",
       "      <th>workclass</th>\n",
       "      <th>education</th>\n",
       "      <th>marital_status</th>\n",
       "      <th>occupation</th>\n",
       "      <th>relationship</th>\n",
       "      <th>race</th>\n",
       "      <th>gender</th>\n",
       "      <th>capital_gain</th>\n",
       "      <th>capital_loss</th>\n",
       "      <th>hours_per_week</th>\n",
       "      <th>native_country</th>\n",
       "      <th>income_bracket</th>\n",
       "    </tr>\n",
       "  </thead>\n",
       "  <tbody>\n",
       "    <tr>\n",
       "      <th>0</th>\n",
       "      <td>39</td>\n",
       "      <td>State-gov</td>\n",
       "      <td>Bachelors</td>\n",
       "      <td>Never-married</td>\n",
       "      <td>Adm-clerical</td>\n",
       "      <td>Not-in-family</td>\n",
       "      <td>White</td>\n",
       "      <td>Male</td>\n",
       "      <td>2174</td>\n",
       "      <td>0</td>\n",
       "      <td>40</td>\n",
       "      <td>United-States</td>\n",
       "      <td>&lt;=50K</td>\n",
       "    </tr>\n",
       "    <tr>\n",
       "      <th>1</th>\n",
       "      <td>50</td>\n",
       "      <td>Self-emp-not-inc</td>\n",
       "      <td>Bachelors</td>\n",
       "      <td>Married-civ-spouse</td>\n",
       "      <td>Exec-managerial</td>\n",
       "      <td>Husband</td>\n",
       "      <td>White</td>\n",
       "      <td>Male</td>\n",
       "      <td>0</td>\n",
       "      <td>0</td>\n",
       "      <td>13</td>\n",
       "      <td>United-States</td>\n",
       "      <td>&lt;=50K</td>\n",
       "    </tr>\n",
       "    <tr>\n",
       "      <th>2</th>\n",
       "      <td>38</td>\n",
       "      <td>Private</td>\n",
       "      <td>HS-grad</td>\n",
       "      <td>Divorced</td>\n",
       "      <td>Handlers-cleaners</td>\n",
       "      <td>Not-in-family</td>\n",
       "      <td>White</td>\n",
       "      <td>Male</td>\n",
       "      <td>0</td>\n",
       "      <td>0</td>\n",
       "      <td>40</td>\n",
       "      <td>United-States</td>\n",
       "      <td>&lt;=50K</td>\n",
       "    </tr>\n",
       "    <tr>\n",
       "      <th>3</th>\n",
       "      <td>53</td>\n",
       "      <td>Private</td>\n",
       "      <td>11th</td>\n",
       "      <td>Married-civ-spouse</td>\n",
       "      <td>Handlers-cleaners</td>\n",
       "      <td>Husband</td>\n",
       "      <td>Black</td>\n",
       "      <td>Male</td>\n",
       "      <td>0</td>\n",
       "      <td>0</td>\n",
       "      <td>40</td>\n",
       "      <td>United-States</td>\n",
       "      <td>&lt;=50K</td>\n",
       "    </tr>\n",
       "    <tr>\n",
       "      <th>4</th>\n",
       "      <td>28</td>\n",
       "      <td>Private</td>\n",
       "      <td>Bachelors</td>\n",
       "      <td>Married-civ-spouse</td>\n",
       "      <td>Prof-specialty</td>\n",
       "      <td>Wife</td>\n",
       "      <td>Black</td>\n",
       "      <td>Female</td>\n",
       "      <td>0</td>\n",
       "      <td>0</td>\n",
       "      <td>40</td>\n",
       "      <td>Cuba</td>\n",
       "      <td>&lt;=50K</td>\n",
       "    </tr>\n",
       "  </tbody>\n",
       "</table>\n",
       "</div>"
      ],
      "text/plain": [
       "   age          workclass   education       marital_status  \\\n",
       "0   39          State-gov   Bachelors        Never-married   \n",
       "1   50   Self-emp-not-inc   Bachelors   Married-civ-spouse   \n",
       "2   38            Private     HS-grad             Divorced   \n",
       "3   53            Private        11th   Married-civ-spouse   \n",
       "4   28            Private   Bachelors   Married-civ-spouse   \n",
       "\n",
       "           occupation    relationship    race   gender  capital_gain  \\\n",
       "0        Adm-clerical   Not-in-family   White     Male          2174   \n",
       "1     Exec-managerial         Husband   White     Male             0   \n",
       "2   Handlers-cleaners   Not-in-family   White     Male             0   \n",
       "3   Handlers-cleaners         Husband   Black     Male             0   \n",
       "4      Prof-specialty            Wife   Black   Female             0   \n",
       "\n",
       "   capital_loss  hours_per_week  native_country income_bracket  \n",
       "0             0              40   United-States          <=50K  \n",
       "1             0              13   United-States          <=50K  \n",
       "2             0              40   United-States          <=50K  \n",
       "3             0              40   United-States          <=50K  \n",
       "4             0              40            Cuba          <=50K  "
      ]
     },
     "execution_count": 39,
     "metadata": {},
     "output_type": "execute_result"
    }
   ],
   "source": [
    "df.head()"
   ]
  },
  {
   "cell_type": "code",
   "execution_count": 27,
   "id": "d599f732",
   "metadata": {},
   "outputs": [
    {
     "name": "stdout",
     "output_type": "stream",
     "text": [
      "education\n",
      "HS-grad         10199\n",
      "Some-college     7044\n",
      "Bachelors        5160\n",
      "Masters          1669\n",
      "Assoc-voc        1347\n",
      "11th             1124\n",
      "?                1043\n",
      "Assoc-acdm       1031\n",
      "10th              914\n",
      "7th-8th           625\n",
      "Prof-school       560\n",
      "9th               498\n",
      "12th              415\n",
      "Doctorate         404\n",
      "5th-6th           320\n",
      "1st-4th           158\n",
      "Preschool          50\n",
      "Name: count, dtype: int64\n",
      "workclass\n",
      "Private             22696\n",
      "Self-emp-not-inc     2541\n",
      "Local-gov            2093\n",
      "?                    1836\n",
      "State-gov            1298\n",
      "Self-emp-inc         1116\n",
      "Federal-gov           960\n",
      "Without-pay            14\n",
      "Never-worked            7\n",
      "Name: count, dtype: int64\n"
     ]
    }
   ],
   "source": [
    "educationColumn = df['education'].value_counts()\n",
    "print(educationColumn)\n",
    "\n",
    "workclassColumn = df['workclass'].value_counts()\n",
    "print(workclassColumn)"
   ]
  },
  {
   "cell_type": "code",
   "execution_count": null,
   "id": "8376d4d9",
   "metadata": {},
   "outputs": [
    {
     "name": "stdout",
     "output_type": "stream",
     "text": [
      "count    32561.000000\n",
      "mean      1077.648844\n",
      "std       7385.292085\n",
      "min          0.000000\n",
      "25%          0.000000\n",
      "50%          0.000000\n",
      "75%          0.000000\n",
      "max      99999.000000\n",
      "Name: capital_gain, dtype: float64\n"
     ]
    }
   ],
   "source": [
    "count1 = df['capital_gain'].describe()\n",
    "print(count1)\n",
    "\n"
   ]
  },
  {
   "cell_type": "markdown",
   "id": "6ebb6c40",
   "metadata": {},
   "source": [
    "There seems to be some missing values here and there in the data, outlined amongst others in the columns like \"education\" and \"workclass\" with a \"?\" value. We'll take care of the missing values in the preproccessing later. Let's take a quick look with a visualization of the capital_gain column."
   ]
  },
  {
   "cell_type": "code",
   "execution_count": 28,
   "id": "2c178196",
   "metadata": {},
   "outputs": [
    {
     "data": {
      "text/plain": [
       "Text(0.5, 1.0, 'Non Zero Capital Gains')"
      ]
     },
     "execution_count": 28,
     "metadata": {},
     "output_type": "execute_result"
    },
    {
     "data": {
      "image/png": "[encoded data removed]",
      "text/plain": [
       "<Figure size 1200x400 with 1 Axes>"
      ]
     },
     "metadata": {},
     "output_type": "display_data"
    }
   ],
   "source": [
    "plt.figure(figsize=(12,4))\n",
    "sns.histplot(df[df['capital_gain'] > 0] ['capital_gain'])\n",
    "plt.title('Non Zero Capital Gains')"
   ]
  },
  {
   "cell_type": "markdown",
   "id": "b78d9512",
   "metadata": {},
   "source": [
    "According to https://www.herskovitslaw.com/blog/evolution-of-publicly-traded-stock-ownership-in-the-us-1990s-2016/, approx 40% of Americans owned stocks in around 1994. So this is slightly reflecting real world economic behavior in 1994, where homes were held over a long period of time and the majority of Americans were working class.\n",
    "\n",
    "In the data, 99999 shows as the max value - which could indicate that thats the capped extreme value. There is also the possibility that the legacy systems of 1994 had fixed numeric inputs. However, for this assignment I will assume it was capped for a reason, perhaps as a display for anonymonity for the very wealthy. This is further illustrated below since there's multiple values at the max with the number 99999."
   ]
  },
  {
   "cell_type": "code",
   "execution_count": 32,
   "id": "4e515e38",
   "metadata": {},
   "outputs": [
    {
     "name": "stdout",
     "output_type": "stream",
     "text": [
      "Amount of 99999: 159\n"
     ]
    }
   ],
   "source": [
    "print(f\"Amount of 99999: {(df['capital_gain'] == 99999).sum()}\")"
   ]
  },
  {
   "cell_type": "markdown",
   "id": "380877e5",
   "metadata": {},
   "source": [
    "Let's also make sure 99999 is only in capital_gain column and not something to determine the cap of other columns too."
   ]
  },
  {
   "cell_type": "code",
   "execution_count": 74,
   "id": "d3f22fe6",
   "metadata": {},
   "outputs": [
    {
     "name": "stdout",
     "output_type": "stream",
     "text": [
      "Rows with 99999 capital gain: 159\n"
     ]
    }
   ],
   "source": [
    "print(f\"Rows with 99999 capital gain: {len(df[df['capital_gain'] == 99999])}\")"
   ]
  },
  {
   "cell_type": "markdown",
   "id": "966c38c9",
   "metadata": {},
   "source": [
    "Let's explore further, do we see the same trends in the column capital_loss?"
   ]
  },
  {
   "cell_type": "code",
   "execution_count": null,
   "id": "414bf252",
   "metadata": {},
   "outputs": [
    {
     "name": "stdout",
     "output_type": "stream",
     "text": [
      "count    32561.000000\n",
      "mean        87.303830\n",
      "std        402.960219\n",
      "min          0.000000\n",
      "25%          0.000000\n",
      "50%          0.000000\n",
      "75%          0.000000\n",
      "max       4356.000000\n",
      "Name: capital_loss, dtype: float64\n",
      "Percentage top: 0.49%\n",
      "Capital loss max: 4356\n"
     ]
    }
   ],
   "source": [
    "print(df['capital_loss'].describe())\n",
    "\n",
    "# Check if 99999 is with what we expect\n",
    "top = df[df['capital_gain'] == 99999]\n",
    "print(f\"Percentage top: {len(top)/len(df):.2%}\")\n",
    "\n",
    "# Compare\n",
    "print(f\"Capital loss max: {df['capital_loss'].max()}\")"
   ]
  },
  {
   "cell_type": "markdown",
   "id": "70e6b17e",
   "metadata": {},
   "source": [
    "The percentage 0.49% is correct as we already established 159 out of 32561 recorded values at set at (repeated) 99999 values.\n",
    "\n",
    "Otherwise there doesnt seem to be any suspicious numbers in the capital_loss column, as its max is set at 4356.\n",
    "\n",
    "99999 doesnt seem like an outlier. The system at the time shows it can store lower values, and in a historical view, in 1994 houses were sold for around $154175 (https://www.amortization.org/inflation/item/us-home-prices-in-1994-adjusted-for-inflation), and most likely privacy for the top earners.\n",
    "\n",
    "The rest of the data set seems straight forward with nothing unusual, indicating the status of education, occupation, age, etc.."
   ]
  },
  {
   "cell_type": "markdown",
   "id": "fe34926a",
   "metadata": {},
   "source": [
    "# Research questions and hypothesis\n",
    "On the basis of the data exploration, these are the research questions I'll continue with.\n",
    "\n",
    "What is the wealth balance like in America 1994 - do those with high capital gain (>= $50K)corrolate with executive occupations or trading (asset sales)?\n",
    "\n",
    "And is there a systemic bias based on race or gender, showing an imbalance in income? - For instance, do women or have less income than men with equivalent gains?"
   ]
  },
  {
   "cell_type": "markdown",
   "id": "2ae9670a",
   "metadata": {},
   "source": [
    "### Preprocessing\n",
    "Let's start by cleaning up the dataset to examine the data further. We'll try going by Hadley Wicham's tidy data principles (https://vita.had.co.nz/papers/tidy-data.pdf)"
   ]
  },
  {
   "cell_type": "code",
   "execution_count": 75,
   "id": "41e3e101",
   "metadata": {},
   "outputs": [
    {
     "name": "stdout",
     "output_type": "stream",
     "text": [
      "age               0\n",
      "workclass         0\n",
      "education         0\n",
      "marital_status    0\n",
      "occupation        0\n",
      "relationship      0\n",
      "race              0\n",
      "gender            0\n",
      "capital_gain      0\n",
      "capital_loss      0\n",
      "hours_per_week    0\n",
      "native_country    0\n",
      "income_bracket    0\n",
      "dtype: int64\n"
     ]
    }
   ],
   "source": [
    "# convert '?' to 'unknown'\n",
    "cols_with_missing = ['education', 'workclass', 'occupation', 'gender', 'native_country']\n",
    "df[cols_with_missing] = df[cols_with_missing].replace(' ?', 'unknown')\n",
    "\n",
    "# verify if the replacement worked\n",
    "print(df.isin([' ?']).sum())"
   ]
  },
  {
   "cell_type": "markdown",
   "id": "9826fca2",
   "metadata": {},
   "source": [
    "\" ?\" is replaced with \"unknown\" to indicate a better wording for the value. The reason why the values were inserted by the American individual as \" ?\", was most likely how none of the values to pick from matched their experiences, or they wanted to have anonymonity. In either case, let's keep these values as unknowns to not lose any data."
   ]
  },
  {
   "cell_type": "code",
   "execution_count": 152,
   "id": "f0b65327",
   "metadata": {},
   "outputs": [
    {
     "name": "stdout",
     "output_type": "stream",
     "text": [
      "workclass: 0 leading/trailing spaces (should be 0)\n",
      "education: 0 leading/trailing spaces (should be 0)\n",
      "marital_status: 0 leading/trailing spaces (should be 0)\n",
      "occupation: 0 leading/trailing spaces (should be 0)\n",
      "relationship: 0 leading/trailing spaces (should be 0)\n",
      "race: 0 leading/trailing spaces (should be 0)\n",
      "gender: 0 leading/trailing spaces (should be 0)\n",
      "native_country: 0 leading/trailing spaces (should be 0)\n",
      "income_bracket: 0 leading/trailing spaces (should be 0)\n"
     ]
    }
   ],
   "source": [
    "# Clean ALL string-type columns (including 'object' and 'category')\n",
    "str_cols = df.select_dtypes(include=['object', 'category']).columns\n",
    "\n",
    "df[str_cols] = df[str_cols].apply(\n",
    "    lambda x: x.str.strip() if x.dtype == 'object' else x.replace(' ?', 'unknown').str.strip()\n",
    ")\n",
    "\n",
    "# Verify cleanup\n",
    "for col in str_cols:\n",
    "    weird_spaces = df[col].astype(str).str.contains(r'^\\s|\\s$').sum()\n",
    "    print(f\"{col}: {weird_spaces} leading/trailing spaces (should be 0)\")"
   ]
  },
  {
   "cell_type": "markdown",
   "id": "2b858f77",
   "metadata": {},
   "source": [
    "all of the columns had a trailing space as well, we've now cleaned it so theres not space-"
   ]
  },
  {
   "cell_type": "markdown",
   "id": "14b86f25",
   "metadata": {},
   "source": [
    "### Examination of data\n",
    "\n",
    "We'll try to answer the questions by looking at the relationships between different variables in the data. Starting with the first question, \"Do those with high capital gain (>= $50K)corrolate with executive occupations or trading (asset sales)?\""
   ]
  },
  {
   "cell_type": "code",
   "execution_count": 141,
   "id": "1500292d",
   "metadata": {},
   "outputs": [
    {
     "name": "stdout",
     "output_type": "stream",
     "text": [
      "           occupation  count\n",
      "0      Prof-specialty     67\n",
      "1     Exec-managerial     42\n",
      "2               Sales     25\n",
      "3        Craft-repair      8\n",
      "4        Adm-clerical      6\n",
      "5             unknown      4\n",
      "6       Other-service      2\n",
      "7   Machine-op-inspct      1\n",
      "8    Transport-moving      1\n",
      "9     Protective-serv      1\n"
     ]
    }
   ],
   "source": [
    "# filter for high capital gainers\n",
    "high_gainers = df[df['capital_gain'] > 50000]\n",
    "\n",
    "# group by occupation and count\n",
    "# print(df['occupation'].value_counts())\n",
    "occupation_counts = high_gainers['occupation'].value_counts().reset_index()\n",
    "occupation_counts.columns = ['occupation', 'count']\n",
    "# sort by count\n",
    "best_occupation = occupation_counts.sort_values(by='count', ascending=False).head(10)\n",
    "\n",
    "print(best_occupation)"
   ]
  },
  {
   "cell_type": "markdown",
   "id": "f8ba6484",
   "metadata": {},
   "source": [
    "The highest earning individuals are already mostly in high paying (1994) jobs. Prof-speciality (highly specialised, like medicin, law, etc.) are the highest asset earners. Those who do sales as their occupation are lower than the ones that Exec-managerial and Prof-specialty. This could indicate a trend towards frequent smaller sales vs bigger payouts.\n",
    "\n"
   ]
  },
  {
   "cell_type": "code",
   "execution_count": 142,
   "id": "05289154",
   "metadata": {},
   "outputs": [
    {
     "name": "stdout",
     "output_type": "stream",
     "text": [
      "workclass\n",
      " Private             82\n",
      " Self-emp-inc        36\n",
      " Self-emp-not-inc    29\n",
      " Local-gov            6\n",
      "unknown               4\n",
      " Federal-gov          1\n",
      " State-gov            1\n",
      "Name: count, dtype: int64\n",
      "occupation\n",
      " Adm-clerical         44.0\n",
      " Craft-repair         52.5\n",
      " Exec-managerial      48.0\n",
      " Handlers-cleaners    42.0\n",
      " Machine-op-inspct    33.0\n",
      " Other-service        45.5\n",
      " Prof-specialty       46.0\n",
      " Protective-serv      21.0\n",
      " Sales                46.0\n",
      " Tech-support         48.0\n",
      " Transport-moving     30.0\n",
      "unknown               59.5\n",
      "Name: age, dtype: float64\n"
     ]
    }
   ],
   "source": [
    "high_gainers = df[df['capital_gain'] > 50000]\n",
    "print(high_gainers['workclass'].value_counts())\n",
    "\n",
    "print(high_gainers.groupby('occupation')['age'].median())"
   ]
  },
  {
   "cell_type": "markdown",
   "id": "88e0983b",
   "metadata": {},
   "source": [
    "Checking the workclass data of the high assert earners, it further shows how Private is dominating. Private suggests well earning jobs at private corporations, usually with added benefits as stock benefits."
   ]
  },
  {
   "cell_type": "code",
   "execution_count": 153,
   "id": "27baf08f",
   "metadata": {},
   "outputs": [
    {
     "name": "stdout",
     "output_type": "stream",
     "text": [
      "education        10th  9th  Assoc-acdm  Assoc-voc  Bachelors  Doctorate  \\\n",
      "occupation                                                                \n",
      "Prof-specialty    NaN  NaN         1.0        1.0        8.0        8.0   \n",
      "Exec-managerial   NaN  NaN         NaN        NaN       14.0        3.0   \n",
      "Sales             NaN  NaN         NaN        NaN       11.0        1.0   \n",
      "\n",
      "education        HS-grad  Masters  Prof-school  Some-college  unknown  \n",
      "occupation                                                             \n",
      "Prof-specialty       2.0      5.0         41.0           NaN      1.0  \n",
      "Exec-managerial      6.0     10.0          5.0           3.0      1.0  \n",
      "Sales                5.0      3.0          NaN           5.0      NaN  \n"
     ]
    }
   ],
   "source": [
    "# filter for high capital gainers\n",
    "high_gainers = df[df['capital_gain'] > 50000]\n",
    "\n",
    "# top by education\n",
    "edu_occuption = high_gainers.groupby(['occupation', 'education']).size().unstack()\n",
    "\n",
    "print(edu_occuption.loc[['Prof-specialty', 'Exec-managerial', 'Sales']])"
   ]
  },
  {
   "cell_type": "markdown",
   "id": "b38638a1",
   "metadata": {},
   "source": [
    "As the data shows, the people behind the high numbers have varying degrees. The Prof-specialty all have advanced degrees and teach at schools (41 out of 67 have the education level of Prof-school, usually indicating lawyers, doctors, etc..), while this educational level becomes a balanced mix as we go to Exec-managerial and sales positions."
   ]
  },
  {
   "cell_type": "code",
   "execution_count": 144,
   "id": "0332cb33",
   "metadata": {},
   "outputs": [
    {
     "name": "stdout",
     "output_type": "stream",
     "text": [
      "occupation       Adm-clerical   Craft-repair   Exec-managerial  \\\n",
      "income_bracket                                                   \n",
      ">50K                        6              8                42   \n",
      "\n",
      "occupation       Handlers-cleaners   Machine-op-inspct   Other-service  \\\n",
      "income_bracket                                                           \n",
      ">50K                             1                   1               2   \n",
      "\n",
      "occupation       Prof-specialty   Protective-serv   Sales   Tech-support  \\\n",
      "income_bracket                                                             \n",
      ">50K                         67                 1      25              1   \n",
      "\n",
      "occupation       Transport-moving  unknown  \n",
      "income_bracket                              \n",
      ">50K                            1        4  \n"
     ]
    }
   ],
   "source": [
    "# using income_bracket to make sure we are looking at actual high earners\n",
    "cross_tab = pd.crosstab(high_gainers['income_bracket'], high_gainers['occupation'])\n",
    "print(cross_tab)"
   ]
  },
  {
   "cell_type": "markdown",
   "id": "adc00a2d",
   "metadata": {},
   "source": [
    "As a small check, all high asset earning individuals are also people who earn over 50k dollars a year."
   ]
  },
  {
   "cell_type": "markdown",
   "id": "e0cfc450",
   "metadata": {},
   "source": [
    "For the next question, \"And is there a systemic bias based on race or gender, showing an imbalance in income? - For instance, do women or have less income than men with equivalent gains?\" We'll start taking a look at the income by gender and race."
   ]
  },
  {
   "cell_type": "code",
   "execution_count": 145,
   "id": "2b8bf4ef",
   "metadata": {},
   "outputs": [
    {
     "name": "stdout",
     "output_type": "stream",
     "text": [
      "Income by Gender (%):\n",
      "income_bracket  <=50K  >50K\n",
      "gender                     \n",
      " Female          89.1  10.9\n",
      " Male            69.2  30.8\n",
      "unknown          78.9  21.1\n",
      "\n",
      "Income by Race (%):\n",
      "income_bracket      <=50K  >50K\n",
      "race                           \n",
      "Amer-Indian-Eskimo   88.4  11.6\n",
      "Asian-Pac-Islander   73.4  26.6\n",
      "Black                87.6  12.4\n",
      "Other                90.8   9.2\n",
      "White                74.4  25.6\n"
     ]
    }
   ],
   "source": [
    "# gender\n",
    "gender_income = df.groupby(['gender', 'income_bracket']).size().unstack()\n",
    "gender_income_pct = gender_income.div(gender_income.sum(axis=1), axis=0) * 100\n",
    "print(\"Income by Gender (%):\")\n",
    "print(gender_income_pct.round(1))\n",
    "\n",
    "# race\n",
    "race_income = df.groupby(['race', 'income_bracket']).size().unstack()\n",
    "race_income_pct = race_income.div(race_income.sum(axis=1), axis=0) * 100\n",
    "print(\"\\nIncome by Race (%):\")\n",
    "print(race_income_pct.round(1))"
   ]
  },
  {
   "cell_type": "markdown",
   "id": "7819b35e",
   "metadata": {},
   "source": [
    "The data shows how males are almost three times more likely to earn > 50k a year than females, showing how females earn 10.9% and males 30.8% above 50 k. (the unknown here is a smaller sample size and means little).\n",
    "\n",
    "The data also shows how white and Asian-Pac-Islander have amost double the change of earning above 50k compared to Amer-Indian-Eskimo, black and others. This is further visualized below, showing less women earning >50k and white/asians earning more than any other race."
   ]
  },
  {
   "cell_type": "code",
   "execution_count": 146,
   "id": "f4821b9b",
   "metadata": {},
   "outputs": [
    {
     "data": {
      "image/png": "[encoded data removed]",
      "text/plain": [
       "<Figure size 1200x400 with 2 Axes>"
      ]
     },
     "metadata": {},
     "output_type": "display_data"
    }
   ],
   "source": [
    "fig, (ax1, ax2) = plt.subplots(1, 2, figsize=(12, 4))\n",
    "\n",
    "# Gender plot\n",
    "gender_income.plot(kind='bar', stacked=True, ax=ax1, color=['red','blue'])\n",
    "ax1.set_title('Income by Gender (Counts)')\n",
    "ax1.set_ylabel('Number of People')\n",
    "\n",
    "# Race plot (top 5 races)\n",
    "race_income.head(5).plot(kind='bar', stacked=True, ax=ax2, color=['red','blue'])\n",
    "ax2.set_title('Income by Race (Counts)')\n",
    "ax2.set_ylabel('Number of People')\n",
    "\n",
    "plt.tight_layout()\n",
    "plt.show()"
   ]
  },
  {
   "cell_type": "code",
   "execution_count": 156,
   "id": "bc07a7ce",
   "metadata": {},
   "outputs": [
    {
     "data": {
      "image/png": "[encoded data removed]",
      "text/plain": [
       "<Figure size 1000x600 with 1 Axes>"
      ]
     },
     "metadata": {},
     "output_type": "display_data"
    }
   ],
   "source": [
    "education_by_race = df.groupby(['race', 'education']).size().unstack()\n",
    "\n",
    "# Calculate percentages within each race\n",
    "education_pct = education_by_race.div(education_by_race.sum(axis=1), axis=0) * 100\n",
    "\n",
    "# Plot top 5 education levels for clarity\n",
    "top_educations = ['HS-grad', 'Some-college', 'Bachelors', 'Masters', 'Assoc-voc']\n",
    "education_pct[top_educations].sort_values('Bachelors', ascending=True).plot(\n",
    "    kind='barh', \n",
    "    stacked=True,\n",
    "    figsize=(10, 6),\n",
    "    color=['#4e79a7', '#f28e2b', '#e15759', '#76b7b2', '#59a14f']\n",
    ")\n",
    "\n",
    "plt.title('Education Distribution by Race (% within Each Group)')\n",
    "plt.xlabel('Percentage')\n",
    "plt.legend(title='Education Level', bbox_to_anchor=(1.05, 1))\n",
    "plt.show()"
   ]
  },
  {
   "cell_type": "markdown",
   "id": "c67b9223",
   "metadata": {},
   "source": [
    "Looking at the corrolation between education and race, we find"
   ]
  },
  {
   "cell_type": "markdown",
   "id": "a7ab4c36",
   "metadata": {},
   "source": [
    "# Analysis\n",
    "Investigating the data correlations (could be heatmap or any other plot showing the trends or tendencies)"
   ]
  },
  {
   "cell_type": "markdown",
   "id": "07613ba8",
   "metadata": {},
   "source": [
    "### examination of the hypothesis'\n",
    "\n",
    "\"Do those with high capital gain (>= $50K)corrolate with executive occupations or trading (asset sales)?\"\n",
    "\n",
    "in the start of the 90s high earning capital gain is dominated by Prof-school and other long educations. In the U.S. 1990s this was typically lawyers, doctors, professors, or other highly educated societal members. These individuals usually have insights, either from education or social circles, and enough money to invest. This tendency is also shown in the number of individuals working with sales, understanding investing which has lead to a greater asset earning.\n",
    "\n"
   ]
  },
  {
   "cell_type": "code",
   "execution_count": 106,
   "id": "1d200d30",
   "metadata": {},
   "outputs": [
    {
     "name": "stderr",
     "output_type": "stream",
     "text": [
      "C:\\Users\\jonas\\AppData\\Local\\Temp\\ipykernel_26180\\3365595021.py:6: FutureWarning: \n",
      "\n",
      "Passing `palette` without assigning `hue` is deprecated and will be removed in v0.14.0. Assign the `y` variable to `hue` and set `legend=False` for the same effect.\n",
      "\n",
      "  ax = sns.countplot(data=high_gainers, y='occupation',\n"
     ]
    },
    {
     "data": {
      "image/png": "[encoded data removed]",
      "text/plain": [
       "<Figure size 1200x600 with 1 Axes>"
      ]
     },
     "metadata": {},
     "output_type": "display_data"
    }
   ],
   "source": [
    "# Filter for high capital gainers\n",
    "high_gainers = df[df['capital_gain'] >= 50000]\n",
    "\n",
    "# Create countplot\n",
    "plt.figure(figsize=(12, 6))\n",
    "ax = sns.countplot(data=high_gainers, y='occupation', \n",
    "                   order=high_gainers['occupation'].value_counts().index,\n",
    "                   palette='viridis')\n",
    "\n",
    "# Add annotations\n",
    "for p in ax.patches:\n",
    "    width = p.get_width()\n",
    "    plt.text(width + 1, p.get_y() + p.get_height()/2, \n",
    "             '{:1.0f}'.format(width),\n",
    "             ha='center', va='center')\n",
    "\n",
    "# Customize plot\n",
    "plt.title('Occupations with High Capital Gains (>= $50K)', fontsize=16)\n",
    "plt.xlabel('Amount of Individuals', fontsize=12)\n",
    "plt.ylabel('Occupation', fontsize=12)\n",
    "plt.tight_layout()\n",
    "plt.show()"
   ]
  },
  {
   "cell_type": "markdown",
   "id": "069ef08d",
   "metadata": {},
   "source": [
    "As the visualization shows, there is a clear concensus that highly educated, high earning occupations usually leads to greater asset earning income. "
   ]
  },
  {
   "cell_type": "markdown",
   "id": "641a74ae",
   "metadata": {},
   "source": [
    "# Conclusion\n",
    "what have i learned"
   ]
  },
  {
   "cell_type": "markdown",
   "id": "478e36ed",
   "metadata": {},
   "source": [
    "# references\n",
    "sources from the course or the links we've used, citations etc."
   ]
  }
 ],
 "metadata": {
  "kernelspec": {
   "display_name": "Python 3",
   "language": "python",
   "name": "python3"
  },
  "language_info": {
   "codemirror_mode": {
    "name": "ipython",
    "version": 3
   },
   "file_extension": ".py",
   "mimetype": "text/x-python",
   "name": "python",
   "nbconvert_exporter": "python",
   "pygments_lexer": "ipython3",
   "version": "3.12.2"
  }
 },
 "nbformat": 4,
 "nbformat_minor": 5
}
